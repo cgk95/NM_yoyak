{
  "nbformat": 4,
  "nbformat_minor": 5,
  "metadata": {
    "kernelspec": {
      "display_name": "Python 3",
      "language": "python",
      "name": "python3"
    },
    "language_info": {
      "codemirror_mode": {
        "name": "ipython",
        "version": 3
      },
      "file_extension": ".py",
      "mimetype": "text/x-python",
      "name": "python",
      "nbconvert_exporter": "python",
      "pygments_lexer": "ipython3",
      "version": "3.7.0"
    },
    "colab": {
      "name": "attention_summary.ipynb",
      "provenance": [],
      "collapsed_sections": []
    },
    "accelerator": "GPU"
  },
  "cells": [
    {
      "cell_type": "code",
      "metadata": {
        "id": "industrial-relations"
      },
      "source": [
        "import numpy as np\n",
        "import pandas as pd\n",
        "import re\n",
        "import matplotlib.pyplot as plt\n",
        "from nltk.corpus import stopwords\n",
        "from bs4 import BeautifulSoup \n",
        "from tensorflow.keras.preprocessing.text import Tokenizer \n",
        "from tensorflow.keras.preprocessing.sequence import pad_sequences\n",
        "import urllib.request\n",
        "np.random.seed(seed=0)"
      ],
      "id": "industrial-relations",
      "execution_count": null,
      "outputs": []
    },
    {
      "cell_type": "code",
      "metadata": {
        "id": "GdFQUzZuZtji"
      },
      "source": [
        "#from google.colab import files  #구글코랩, 내컴퓨터 파일업로드하기\n",
        "#uploaded = files.upload()\n"
      ],
      "id": "GdFQUzZuZtji",
      "execution_count": null,
      "outputs": []
    },
    {
      "cell_type": "code",
      "metadata": {
        "colab": {
          "base_uri": "https://localhost:8080/"
        },
        "id": "IJfqomhWZuqU",
        "outputId": "bac16c2e-19dd-4727-b63c-b96c3d567375"
      },
      "source": [
        "from google.colab import drive\n",
        "\n",
        "drive.mount('/gdrive', force_remount=True)\n"
      ],
      "id": "IJfqomhWZuqU",
      "execution_count": null,
      "outputs": [
        {
          "output_type": "stream",
          "text": [
            "Mounted at /gdrive\n"
          ],
          "name": "stdout"
        }
      ]
    },
    {
      "cell_type": "code",
      "metadata": {
        "colab": {
          "base_uri": "https://localhost:8080/"
        },
        "id": "through-crawford",
        "outputId": "1e84196b-8fcd-489f-c5a3-f07ebd24a18b"
      },
      "source": [
        "data = pd.read_csv(\"/gdrive/MyDrive/데이터캡스톤/amazon_review_data/Reviews.csv\", nrows = 100000)\n",
        "print('전체 리뷰 개수 :',(len(data)))"
      ],
      "id": "through-crawford",
      "execution_count": null,
      "outputs": [
        {
          "output_type": "stream",
          "text": [
            "전체 리뷰 개수 : 100000\n"
          ],
          "name": "stdout"
        }
      ]
    },
    {
      "cell_type": "code",
      "metadata": {
        "colab": {
          "base_uri": "https://localhost:8080/",
          "height": 204
        },
        "id": "particular-simpson",
        "outputId": "85c0293e-7853-41ea-d65c-6fcd1c8e4379"
      },
      "source": [
        "data.head()"
      ],
      "id": "particular-simpson",
      "execution_count": null,
      "outputs": [
        {
          "output_type": "execute_result",
          "data": {
            "text/html": [
              "<div>\n",
              "<style scoped>\n",
              "    .dataframe tbody tr th:only-of-type {\n",
              "        vertical-align: middle;\n",
              "    }\n",
              "\n",
              "    .dataframe tbody tr th {\n",
              "        vertical-align: top;\n",
              "    }\n",
              "\n",
              "    .dataframe thead th {\n",
              "        text-align: right;\n",
              "    }\n",
              "</style>\n",
              "<table border=\"1\" class=\"dataframe\">\n",
              "  <thead>\n",
              "    <tr style=\"text-align: right;\">\n",
              "      <th></th>\n",
              "      <th>Id</th>\n",
              "      <th>ProductId</th>\n",
              "      <th>UserId</th>\n",
              "      <th>ProfileName</th>\n",
              "      <th>HelpfulnessNumerator</th>\n",
              "      <th>HelpfulnessDenominator</th>\n",
              "      <th>Score</th>\n",
              "      <th>Time</th>\n",
              "      <th>Summary</th>\n",
              "      <th>Text</th>\n",
              "    </tr>\n",
              "  </thead>\n",
              "  <tbody>\n",
              "    <tr>\n",
              "      <th>0</th>\n",
              "      <td>1</td>\n",
              "      <td>B001E4KFG0</td>\n",
              "      <td>A3SGXH7AUHU8GW</td>\n",
              "      <td>delmartian</td>\n",
              "      <td>1</td>\n",
              "      <td>1</td>\n",
              "      <td>5</td>\n",
              "      <td>1303862400</td>\n",
              "      <td>Good Quality Dog Food</td>\n",
              "      <td>I have bought several of the Vitality canned d...</td>\n",
              "    </tr>\n",
              "    <tr>\n",
              "      <th>1</th>\n",
              "      <td>2</td>\n",
              "      <td>B00813GRG4</td>\n",
              "      <td>A1D87F6ZCVE5NK</td>\n",
              "      <td>dll pa</td>\n",
              "      <td>0</td>\n",
              "      <td>0</td>\n",
              "      <td>1</td>\n",
              "      <td>1346976000</td>\n",
              "      <td>Not as Advertised</td>\n",
              "      <td>Product arrived labeled as Jumbo Salted Peanut...</td>\n",
              "    </tr>\n",
              "    <tr>\n",
              "      <th>2</th>\n",
              "      <td>3</td>\n",
              "      <td>B000LQOCH0</td>\n",
              "      <td>ABXLMWJIXXAIN</td>\n",
              "      <td>Natalia Corres \"Natalia Corres\"</td>\n",
              "      <td>1</td>\n",
              "      <td>1</td>\n",
              "      <td>4</td>\n",
              "      <td>1219017600</td>\n",
              "      <td>\"Delight\" says it all</td>\n",
              "      <td>This is a confection that has been around a fe...</td>\n",
              "    </tr>\n",
              "    <tr>\n",
              "      <th>3</th>\n",
              "      <td>4</td>\n",
              "      <td>B000UA0QIQ</td>\n",
              "      <td>A395BORC6FGVXV</td>\n",
              "      <td>Karl</td>\n",
              "      <td>3</td>\n",
              "      <td>3</td>\n",
              "      <td>2</td>\n",
              "      <td>1307923200</td>\n",
              "      <td>Cough Medicine</td>\n",
              "      <td>If you are looking for the secret ingredient i...</td>\n",
              "    </tr>\n",
              "    <tr>\n",
              "      <th>4</th>\n",
              "      <td>5</td>\n",
              "      <td>B006K2ZZ7K</td>\n",
              "      <td>A1UQRSCLF8GW1T</td>\n",
              "      <td>Michael D. Bigham \"M. Wassir\"</td>\n",
              "      <td>0</td>\n",
              "      <td>0</td>\n",
              "      <td>5</td>\n",
              "      <td>1350777600</td>\n",
              "      <td>Great taffy</td>\n",
              "      <td>Great taffy at a great price.  There was a wid...</td>\n",
              "    </tr>\n",
              "  </tbody>\n",
              "</table>\n",
              "</div>"
            ],
            "text/plain": [
              "   Id  ...                                               Text\n",
              "0   1  ...  I have bought several of the Vitality canned d...\n",
              "1   2  ...  Product arrived labeled as Jumbo Salted Peanut...\n",
              "2   3  ...  This is a confection that has been around a fe...\n",
              "3   4  ...  If you are looking for the secret ingredient i...\n",
              "4   5  ...  Great taffy at a great price.  There was a wid...\n",
              "\n",
              "[5 rows x 10 columns]"
            ]
          },
          "metadata": {
            "tags": []
          },
          "execution_count": 5
        }
      ]
    },
    {
      "cell_type": "code",
      "metadata": {
        "colab": {
          "base_uri": "https://localhost:8080/",
          "height": 204
        },
        "id": "humanitarian-indonesian",
        "outputId": "7f34b128-7232-4383-ef8f-dac85080e3e4"
      },
      "source": [
        "data = data[['Text','Summary']]\n",
        "data.head()"
      ],
      "id": "humanitarian-indonesian",
      "execution_count": null,
      "outputs": [
        {
          "output_type": "execute_result",
          "data": {
            "text/html": [
              "<div>\n",
              "<style scoped>\n",
              "    .dataframe tbody tr th:only-of-type {\n",
              "        vertical-align: middle;\n",
              "    }\n",
              "\n",
              "    .dataframe tbody tr th {\n",
              "        vertical-align: top;\n",
              "    }\n",
              "\n",
              "    .dataframe thead th {\n",
              "        text-align: right;\n",
              "    }\n",
              "</style>\n",
              "<table border=\"1\" class=\"dataframe\">\n",
              "  <thead>\n",
              "    <tr style=\"text-align: right;\">\n",
              "      <th></th>\n",
              "      <th>Text</th>\n",
              "      <th>Summary</th>\n",
              "    </tr>\n",
              "  </thead>\n",
              "  <tbody>\n",
              "    <tr>\n",
              "      <th>0</th>\n",
              "      <td>I have bought several of the Vitality canned d...</td>\n",
              "      <td>Good Quality Dog Food</td>\n",
              "    </tr>\n",
              "    <tr>\n",
              "      <th>1</th>\n",
              "      <td>Product arrived labeled as Jumbo Salted Peanut...</td>\n",
              "      <td>Not as Advertised</td>\n",
              "    </tr>\n",
              "    <tr>\n",
              "      <th>2</th>\n",
              "      <td>This is a confection that has been around a fe...</td>\n",
              "      <td>\"Delight\" says it all</td>\n",
              "    </tr>\n",
              "    <tr>\n",
              "      <th>3</th>\n",
              "      <td>If you are looking for the secret ingredient i...</td>\n",
              "      <td>Cough Medicine</td>\n",
              "    </tr>\n",
              "    <tr>\n",
              "      <th>4</th>\n",
              "      <td>Great taffy at a great price.  There was a wid...</td>\n",
              "      <td>Great taffy</td>\n",
              "    </tr>\n",
              "  </tbody>\n",
              "</table>\n",
              "</div>"
            ],
            "text/plain": [
              "                                                Text                Summary\n",
              "0  I have bought several of the Vitality canned d...  Good Quality Dog Food\n",
              "1  Product arrived labeled as Jumbo Salted Peanut...      Not as Advertised\n",
              "2  This is a confection that has been around a fe...  \"Delight\" says it all\n",
              "3  If you are looking for the secret ingredient i...         Cough Medicine\n",
              "4  Great taffy at a great price.  There was a wid...            Great taffy"
            ]
          },
          "metadata": {
            "tags": []
          },
          "execution_count": 6
        }
      ]
    },
    {
      "cell_type": "code",
      "metadata": {
        "colab": {
          "base_uri": "https://localhost:8080/",
          "height": 359
        },
        "id": "veterinary-challenge",
        "outputId": "bef37b7e-ce54-406e-fbe8-9e49858beeb2"
      },
      "source": [
        "# 랜덤으로 10개의 샘플 출력\n",
        "data.sample(10)"
      ],
      "id": "veterinary-challenge",
      "execution_count": null,
      "outputs": [
        {
          "output_type": "execute_result",
          "data": {
            "text/html": [
              "<div>\n",
              "<style scoped>\n",
              "    .dataframe tbody tr th:only-of-type {\n",
              "        vertical-align: middle;\n",
              "    }\n",
              "\n",
              "    .dataframe tbody tr th {\n",
              "        vertical-align: top;\n",
              "    }\n",
              "\n",
              "    .dataframe thead th {\n",
              "        text-align: right;\n",
              "    }\n",
              "</style>\n",
              "<table border=\"1\" class=\"dataframe\">\n",
              "  <thead>\n",
              "    <tr style=\"text-align: right;\">\n",
              "      <th></th>\n",
              "      <th>Text</th>\n",
              "      <th>Summary</th>\n",
              "    </tr>\n",
              "  </thead>\n",
              "  <tbody>\n",
              "    <tr>\n",
              "      <th>3582</th>\n",
              "      <td>I rarely eat anything but whole wheat pasta, b...</td>\n",
              "      <td>reminds me of Italy</td>\n",
              "    </tr>\n",
              "    <tr>\n",
              "      <th>60498</th>\n",
              "      <td>I absolutely love 5-hour ENERGY! I use it afte...</td>\n",
              "      <td>5-hour ENERGY Highly Recommend!</td>\n",
              "    </tr>\n",
              "    <tr>\n",
              "      <th>53227</th>\n",
              "      <td>this chocolate is a true treat to eat, perfect...</td>\n",
              "      <td>supreme chocolate</td>\n",
              "    </tr>\n",
              "    <tr>\n",
              "      <th>21333</th>\n",
              "      <td>Greenies are very muched loved as a tatsy Trea...</td>\n",
              "      <td>Excellent Teeth Cleaner</td>\n",
              "    </tr>\n",
              "    <tr>\n",
              "      <th>3885</th>\n",
              "      <td>I love these noodles.  They are really great f...</td>\n",
              "      <td>Great and good price!</td>\n",
              "    </tr>\n",
              "    <tr>\n",
              "      <th>51521</th>\n",
              "      <td>These are great! As a lover of all chips I'm s...</td>\n",
              "      <td>Delicious, just like Salt and Vinegar Chips!</td>\n",
              "    </tr>\n",
              "    <tr>\n",
              "      <th>84261</th>\n",
              "      <td>Like other customers I divide these into handf...</td>\n",
              "      <td>Great snack, great value</td>\n",
              "    </tr>\n",
              "    <tr>\n",
              "      <th>10685</th>\n",
              "      <td>I recommend this instead for the same price: &lt;...</td>\n",
              "      <td>It's ok, but certainly not worth the cost</td>\n",
              "    </tr>\n",
              "    <tr>\n",
              "      <th>59948</th>\n",
              "      <td>The noodles were all very broken, but the tast...</td>\n",
              "      <td>Knorr's beef noodles</td>\n",
              "    </tr>\n",
              "    <tr>\n",
              "      <th>41032</th>\n",
              "      <td>Despite claiming they use the \"finest ingredie...</td>\n",
              "      <td>HORRIBLE INGREDIENTS</td>\n",
              "    </tr>\n",
              "  </tbody>\n",
              "</table>\n",
              "</div>"
            ],
            "text/plain": [
              "                                                    Text                                       Summary\n",
              "3582   I rarely eat anything but whole wheat pasta, b...                           reminds me of Italy\n",
              "60498  I absolutely love 5-hour ENERGY! I use it afte...               5-hour ENERGY Highly Recommend!\n",
              "53227  this chocolate is a true treat to eat, perfect...                             supreme chocolate\n",
              "21333  Greenies are very muched loved as a tatsy Trea...                       Excellent Teeth Cleaner\n",
              "3885   I love these noodles.  They are really great f...                         Great and good price!\n",
              "51521  These are great! As a lover of all chips I'm s...  Delicious, just like Salt and Vinegar Chips!\n",
              "84261  Like other customers I divide these into handf...                      Great snack, great value\n",
              "10685  I recommend this instead for the same price: <...     It's ok, but certainly not worth the cost\n",
              "59948  The noodles were all very broken, but the tast...                          Knorr's beef noodles\n",
              "41032  Despite claiming they use the \"finest ingredie...                          HORRIBLE INGREDIENTS"
            ]
          },
          "metadata": {
            "tags": []
          },
          "execution_count": 7
        }
      ]
    },
    {
      "cell_type": "code",
      "metadata": {
        "colab": {
          "base_uri": "https://localhost:8080/"
        },
        "id": "cloudy-sheep",
        "outputId": "786bca90-b090-4101-e076-195424898e74"
      },
      "source": [
        "print('Text 열에서 중복을 배제한 유일한 샘플의 수 :', data['Text'].nunique())\n",
        "print('Summary 열에서 중복을 배제한 유일한 샘플의 수 :', data['Summary'].nunique())"
      ],
      "id": "cloudy-sheep",
      "execution_count": null,
      "outputs": [
        {
          "output_type": "stream",
          "text": [
            "Text 열에서 중복을 배제한 유일한 샘플의 수 : 88426\n",
            "Summary 열에서 중복을 배제한 유일한 샘플의 수 : 72348\n"
          ],
          "name": "stdout"
        }
      ]
    },
    {
      "cell_type": "code",
      "metadata": {
        "colab": {
          "base_uri": "https://localhost:8080/"
        },
        "id": "suitable-distributor",
        "outputId": "3560c15f-2025-4037-b2f1-c57093ac2cbb"
      },
      "source": [
        "# text 열에서 중복인 내용이 있다면 중복 제거\n",
        "data.drop_duplicates(subset=['Text'], inplace=True)\n",
        "print(\"전체 샘플수 :\", len(data))"
      ],
      "id": "suitable-distributor",
      "execution_count": null,
      "outputs": [
        {
          "output_type": "stream",
          "text": [
            "전체 샘플수 : 88426\n"
          ],
          "name": "stdout"
        }
      ]
    },
    {
      "cell_type": "code",
      "metadata": {
        "colab": {
          "base_uri": "https://localhost:8080/"
        },
        "id": "gorgeous-wonder",
        "outputId": "a35b73f1-5d21-4943-d4ad-1b2028adfe53"
      },
      "source": [
        "print(data.isnull().sum()) # null이 존재하는지 확인"
      ],
      "id": "gorgeous-wonder",
      "execution_count": null,
      "outputs": [
        {
          "output_type": "stream",
          "text": [
            "Text       0\n",
            "Summary    1\n",
            "dtype: int64\n"
          ],
          "name": "stdout"
        }
      ]
    },
    {
      "cell_type": "code",
      "metadata": {
        "colab": {
          "base_uri": "https://localhost:8080/"
        },
        "id": "alive-inspector",
        "outputId": "8b602457-2483-446c-d2c2-6af9f9007a43"
      },
      "source": [
        "# Null 값을 가진 샘플 제거\n",
        "data.dropna(axis=0, inplace=True)\n",
        "print('전체 샘플수 :',(len(data)))"
      ],
      "id": "alive-inspector",
      "execution_count": null,
      "outputs": [
        {
          "output_type": "stream",
          "text": [
            "전체 샘플수 : 88425\n"
          ],
          "name": "stdout"
        }
      ]
    },
    {
      "cell_type": "code",
      "metadata": {
        "id": "quality-federation"
      },
      "source": [
        "\n",
        "contractions = {\"ain't\": \"is not\",\n",
        "                \"aren't\": \"are not\",\"can't\": \"cannot\", \"'cause\": \"because\", \"could've\": \"could have\", \"couldn't\": \"could not\",\n",
        "                \"didn't\": \"did not\",  \"doesn't\": \"does not\", \"don't\": \"do not\", \"hadn't\": \"had not\", \"hasn't\": \"has not\", \n",
        "                \"haven't\": \"have not\", \"he'd\": \"he would\",\"he'll\": \"he will\", \"he's\": \"he is\", \"how'd\": \"how did\", \"how'd'y\": \"how do you\",\n",
        "                \"how'll\": \"how will\", \"how's\": \"how is\", \"I'd\": \"I would\", \"I'd've\": \"I would have\", \"I'll\": \"I will\", \n",
        "                \"I'll've\": \"I will have\",\"I'm\": \"I am\", \"I've\": \"I have\", \"i'd\": \"i would\", \"i'd've\": \"i would have\", \"i'll\": \"i will\",\n",
        "                \"i'll've\": \"i will have\",\"i'm\": \"i am\", \"i've\": \"i have\", \"isn't\": \"is not\", \"it'd\": \"it would\", \"it'd've\": \"it would have\",\n",
        "                \"it'll\": \"it will\", \"it'll've\": \"it will have\",\"it's\": \"it is\", \"let's\": \"let us\", \"ma'am\": \"madam\", \"mayn't\": \"may not\", \n",
        "                \"might've\": \"might have\",\"mightn't\": \"might not\",\"mightn't've\": \"might not have\", \"must've\": \"must have\", \n",
        "                \"mustn't\": \"must not\", \"mustn't've\": \"must not have\", \"needn't\": \"need not\", \"needn't've\": \"need not have\",\n",
        "                \"o'clock\": \"of the clock\", \"oughtn't\": \"ought not\", \"oughtn't've\": \"ought not have\", \"shan't\": \"shall not\", \n",
        "                \"sha'n't\": \"shall not\", \"shan't've\": \"shall not have\", \"she'd\": \"she would\", \"she'd've\": \"she would have\", \n",
        "                \"she'll\": \"she will\", \"she'll've\": \"she will have\", \"she's\": \"she is\", \"should've\": \"should have\",\n",
        "                \"shouldn't\": \"should not\", \"shouldn't've\": \"should not have\", \"so've\": \"so have\",\"so's\": \"so as\",\n",
        "                \"this's\": \"this is\",\"that'd\": \"that would\", \"that'd've\": \"that would have\", \"that's\": \"that is\", \"there'd\": \"there would\",\n",
        "                \"there'd've\": \"there would have\", \"there's\": \"there is\", \"here's\": \"here is\",\"they'd\": \"they would\", \n",
        "                \"they'd've\": \"they would have\", \"they'll\": \"they will\", \"they'll've\": \"they will have\", \"they're\": \"they are\", \n",
        "                \"they've\": \"they have\", \"to've\": \"to have\", \"wasn't\": \"was not\", \"we'd\": \"we would\", \"we'd've\": \"we would have\", \n",
        "                \"we'll\": \"we will\", \"we'll've\": \"we will have\", \"we're\": \"we are\", \"we've\": \"we have\", \"weren't\": \"were not\",\n",
        "                \"what'll\": \"what will\", \"what'll've\": \"what will have\", \"what're\": \"what are\", \"what's\": \"what is\", \"what've\": \"what have\", \"when's\": \"when is\", \"when've\": \"when have\", \"where'd\": \"where did\", \"where's\": \"where is\", \"where've\": \"where have\", \"who'll\": \"who will\", \"who'll've\": \"who will have\", \"who's\": \"who is\", \"who've\": \"who have\", \"why's\": \"why is\", \"why've\": \"why have\", \"will've\": \"will have\", \"won't\": \"will not\", \"won't've\": \"will not have\", \"would've\": \"would have\", \"wouldn't\": \"would not\", \"wouldn't've\": \"would not have\", \"y'all\": \"you all\", \"y'all'd\": \"you all would\",\"y'all'd've\": \"you all would have\",\"y'all're\": \"you all are\",\"y'all've\": \"you all have\", \"you'd\": \"you would\", \"you'd've\": \"you would have\", \"you'll\": \"you will\", \"you'll've\": \"you will have\", \"you're\": \"you are\", \"you've\": \"you have\"}"
      ],
      "id": "quality-federation",
      "execution_count": null,
      "outputs": []
    },
    {
      "cell_type": "code",
      "metadata": {
        "colab": {
          "base_uri": "https://localhost:8080/"
        },
        "id": "generous-destination",
        "outputId": "e79bd8ca-7021-4c33-8fec-874d42b1a915"
      },
      "source": [
        "import nltk\n",
        "nltk.download('stopwords')"
      ],
      "id": "generous-destination",
      "execution_count": null,
      "outputs": [
        {
          "output_type": "stream",
          "text": [
            "[nltk_data] Downloading package stopwords to /root/nltk_data...\n",
            "[nltk_data]   Unzipping corpora/stopwords.zip.\n"
          ],
          "name": "stdout"
        },
        {
          "output_type": "execute_result",
          "data": {
            "text/plain": [
              "True"
            ]
          },
          "metadata": {
            "tags": []
          },
          "execution_count": 13
        }
      ]
    },
    {
      "cell_type": "code",
      "metadata": {
        "colab": {
          "base_uri": "https://localhost:8080/"
        },
        "id": "clear-grammar",
        "outputId": "81eb9510-cbdb-487d-e265-192d292f4906"
      },
      "source": [
        "# NLTK의 불용어\n",
        "stop_words = set(stopwords.words('english'))\n",
        "print('불용어 개수 :', len(stop_words))\n",
        "print(stop_words)"
      ],
      "id": "clear-grammar",
      "execution_count": null,
      "outputs": [
        {
          "output_type": "stream",
          "text": [
            "불용어 개수 : 179\n",
            "{'ve', 'they', 'aren', 'ours', 'there', 'more', 'both', 'doing', 'it', 'the', 'than', 'before', 'this', 'isn', 'for', \"shouldn't\", 'has', \"weren't\", \"needn't\", 'through', 'whom', 'her', 'she', 'until', 'with', \"wasn't\", 'their', 'ourselves', 'over', 'is', 'any', 'mustn', 'myself', 'them', \"hadn't\", 'what', 'were', 'too', \"mustn't\", 'after', 'theirs', 'being', \"doesn't\", 'up', 'shouldn', 'who', 'again', 'while', \"didn't\", 'will', 'only', 'in', 'such', 'should', 'that', 'couldn', 'why', 'ma', 'am', 'very', \"should've\", 'you', 'do', \"you'd\", 'off', 'other', 'your', 'further', 'a', 'have', 'where', 'below', \"shan't\", 'y', 'wouldn', \"mightn't\", 'him', 'yours', \"don't\", 'yourselves', 'was', 'o', 'did', 'haven', 'same', 'mightn', 'he', 'once', 'itself', 'against', 'himself', 'each', 'out', 'me', 'we', 'own', 'hasn', 'into', 'under', \"you're\", 'from', 'here', 'as', 'll', 'about', 'its', 'all', 'during', 'themselves', \"wouldn't\", \"you've\", 'been', 'yourself', 'these', 'hadn', 'had', 'then', 'ain', \"hasn't\", \"that'll\", 'my', 'hers', 'won', 'down', 'some', 'don', \"you'll\", 'which', 'so', 'how', 'i', 'and', 'does', 'but', 'on', 'few', 're', 'when', 'weren', 'doesn', 'his', 'wasn', 'our', 'those', 'be', 'not', 'now', 'didn', 'herself', 'having', 'no', 'if', 'needn', 'at', \"aren't\", 'most', 'an', 't', 's', 'can', 'shan', 'because', 'to', \"it's\", 'm', \"couldn't\", \"haven't\", \"isn't\", 'd', \"won't\", 'just', 'by', 'or', 'of', \"she's\", 'between', 'above', 'nor', 'are'}\n"
          ],
          "name": "stdout"
        }
      ]
    },
    {
      "cell_type": "code",
      "metadata": {
        "id": "mineral-retrieval"
      },
      "source": [
        "# 전처리 함수 설계\n",
        "def preprocess_sentence(sentence, remove_stopwords = True):\n",
        "    sentence = sentence.lower() # 텍스트 소문자화\n",
        "    sentence = BeautifulSoup(sentence, \"lxml\").text # <br />, <a href = ...> 등의 html 태그 제거\n",
        "    sentence = re.sub(r'\\([^)]*\\)', '', sentence) # 괄호로 닫힌 문자열  제거 Ex) my husband (and myself) for => my husband for\n",
        "    sentence = re.sub('\"','', sentence) # 쌍따옴표 \" 제거\n",
        "    sentence = ' '.join([contractions[t] if t in contractions else t for t in sentence.split(\" \")]) # 약어 정규화\n",
        "    sentence = re.sub(r\"'s\\b\",\"\",sentence) # 소유격 제거. Ex) roland's -> roland\n",
        "    sentence = re.sub(\"[^a-zA-Z]\", \" \", sentence) # 영어 외 문자(숫자, 특수문자 등) 공백으로 변환\n",
        "    sentence = re.sub('[m]{2,}', 'mm', sentence) # m이 3개 이상이면 2개로 변경. Ex) ummmmmmm yeah -> umm yeah\n",
        "\n",
        "    # 불용어 제거 (Text)\n",
        "    if remove_stopwords:\n",
        "        tokens = ' '.join(word for word in sentence.split() if not word in stop_words if len(word) > 1)\n",
        "    # 불용어 미제거 (Summary)\n",
        "    else:\n",
        "        tokens = ' '.join(word for word in sentence.split() if len(word) > 1)\n",
        "    return tokens"
      ],
      "id": "mineral-retrieval",
      "execution_count": null,
      "outputs": []
    },
    {
      "cell_type": "code",
      "metadata": {
        "colab": {
          "base_uri": "https://localhost:8080/"
        },
        "id": "religious-blind",
        "outputId": "0e50b31e-533f-42d9-ce6c-2df5ed967637"
      },
      "source": [
        "#임의의 Text 문장과 Summary 문장을 만들어 전처리 함수를 통한 전처리 후의 결과를 확인\n",
        "temp_text = 'Everything I bought was great, infact I ordered twice and the third ordered was<br />for my mother and father.'\n",
        "temp_summary = 'Great way to start (or finish) the day!!!'\n",
        "print(preprocess_sentence(temp_text))\n",
        "print(preprocess_sentence(temp_summary, 0))"
      ],
      "id": "religious-blind",
      "execution_count": null,
      "outputs": [
        {
          "output_type": "stream",
          "text": [
            "everything bought great infact ordered twice third ordered wasfor mother father\n",
            "great way to start the day\n"
          ],
          "name": "stdout"
        }
      ]
    },
    {
      "cell_type": "code",
      "metadata": {
        "colab": {
          "base_uri": "https://localhost:8080/"
        },
        "id": "extensive-chemistry",
        "outputId": "cae1612d-223c-47b3-abae-66a9bbce55fb"
      },
      "source": [
        "# Text 열 전처리, 전처리 후에는 5개의 전처리 된 샘플을 출력\n",
        "clean_text = []\n",
        "for s in data['Text']:\n",
        "    clean_text.append(preprocess_sentence(s))\n",
        "clean_text[:5]"
      ],
      "id": "extensive-chemistry",
      "execution_count": null,
      "outputs": [
        {
          "output_type": "execute_result",
          "data": {
            "text/plain": [
              "['bought several vitality canned dog food products found good quality product looks like stew processed meat smells better labrador finicky appreciates product better',\n",
              " 'product arrived labeled jumbo salted peanuts peanuts actually small sized unsalted sure error vendor intended represent product jumbo',\n",
              " 'confection around centuries light pillowy citrus gelatin nuts case filberts cut tiny squares liberally coated powdered sugar tiny mouthful heaven chewy flavorful highly recommend yummy treat familiar story lewis lion witch wardrobe treat seduces edmund selling brother sisters witch',\n",
              " 'looking secret ingredient robitussin believe found got addition root beer extract ordered made cherry soda flavor medicinal',\n",
              " 'great taffy great price wide assortment yummy taffy delivery quick taffy lover deal']"
            ]
          },
          "metadata": {
            "tags": []
          },
          "execution_count": 17
        }
      ]
    },
    {
      "cell_type": "code",
      "metadata": {
        "colab": {
          "base_uri": "https://localhost:8080/"
        },
        "id": "monthly-spider",
        "outputId": "0dbfa748-44ce-4941-ad14-cb740616ab62"
      },
      "source": [
        "# Summary 열 전처리, 전처리 후에는 5개의 전처리 된 샘플을 출력\n",
        "clean_summary = []\n",
        "for s in data['Summary']:\n",
        "    clean_summary.append(preprocess_sentence(s, 0))\n",
        "clean_summary[:5]"
      ],
      "id": "monthly-spider",
      "execution_count": null,
      "outputs": [
        {
          "output_type": "stream",
          "text": [
            "/usr/local/lib/python3.7/dist-packages/bs4/__init__.py:336: UserWarning: \"http://www.amazon.com/gp/product/b007i7yygy/ref=cm_cr_rev_prod_title\" looks like a URL. Beautiful Soup is not an HTTP client. You should probably use an HTTP client like requests to get the document behind the URL, and feed that document to Beautiful Soup.\n",
            "  ' that document to Beautiful Soup.' % decoded_markup\n"
          ],
          "name": "stderr"
        },
        {
          "output_type": "execute_result",
          "data": {
            "text/plain": [
              "['good quality dog food',\n",
              " 'not as advertised',\n",
              " 'delight says it all',\n",
              " 'cough medicine',\n",
              " 'great taffy']"
            ]
          },
          "metadata": {
            "tags": []
          },
          "execution_count": 18
        }
      ]
    },
    {
      "cell_type": "code",
      "metadata": {
        "id": "social-evolution"
      },
      "source": [
        "# 전처리 후의 결과를 다시 데이터프레임에 저장\n",
        "data['Text'] = clean_text\n",
        "data['Summary'] = clean_summary"
      ],
      "id": "social-evolution",
      "execution_count": null,
      "outputs": []
    },
    {
      "cell_type": "code",
      "metadata": {
        "colab": {
          "base_uri": "https://localhost:8080/"
        },
        "id": "prescription-crime",
        "outputId": "595b95e6-2142-4fa0-8f88-719a656df0e0"
      },
      "source": [
        "# 길이가 공백인 샘플은 NULL 값으로 변환\n",
        "data.replace('', np.nan, inplace=True)\n",
        "print(data.isnull().sum())"
      ],
      "id": "prescription-crime",
      "execution_count": null,
      "outputs": [
        {
          "output_type": "stream",
          "text": [
            "Text        0\n",
            "Summary    70\n",
            "dtype: int64\n"
          ],
          "name": "stdout"
        }
      ]
    },
    {
      "cell_type": "code",
      "metadata": {
        "colab": {
          "base_uri": "https://localhost:8080/"
        },
        "id": "skilled-singles",
        "outputId": "574c18f9-7a9e-4cc7-f23d-e120807bb02d"
      },
      "source": [
        "#Null 값을 가지는 샘플들을 제거\n",
        "data.dropna(axis = 0, inplace = True)\n",
        "print('전체 샘플수 :',(len(data)))"
      ],
      "id": "skilled-singles",
      "execution_count": null,
      "outputs": [
        {
          "output_type": "stream",
          "text": [
            "전체 샘플수 : 88355\n"
          ],
          "name": "stdout"
        }
      ]
    },
    {
      "cell_type": "code",
      "metadata": {
        "colab": {
          "base_uri": "https://localhost:8080/",
          "height": 961
        },
        "id": "demographic-movement",
        "outputId": "832cb21e-d619-4c94-810b-cff63c7c0d96"
      },
      "source": [
        "# Text 열과 Summary 열에 대해서 길이 분포 출력\n",
        "text_len = [len(s.split()) for s in data['Text']]\n",
        "summary_len = [len(s.split()) for s in data['Summary']]\n",
        "\n",
        "print('텍스트의 최소 길이 : {}'.format(np.min(text_len)))\n",
        "print('텍스트의 최대 길이 : {}'.format(np.max(text_len)))\n",
        "print('텍스트의 평균 길이 : {}'.format(np.mean(text_len)))\n",
        "print('요약의 최소 길이 : {}'.format(np.min(summary_len)))\n",
        "print('요약의 최대 길이 : {}'.format(np.max(summary_len)))\n",
        "print('요약의 평균 길이 : {}'.format(np.mean(summary_len)))\n",
        "\n",
        "plt.subplot(1,2,1)\n",
        "plt.boxplot(summary_len)\n",
        "plt.title('Summary')\n",
        "plt.subplot(1,2,2)\n",
        "plt.boxplot(text_len)\n",
        "plt.title('Text')\n",
        "plt.tight_layout()\n",
        "plt.show()\n",
        "\n",
        "plt.title('Summary')\n",
        "plt.hist(summary_len, bins=40)\n",
        "plt.xlabel('length of samples')\n",
        "plt.ylabel('number of samples')\n",
        "plt.show()\n",
        "\n",
        "plt.title('Text')\n",
        "plt.hist(text_len, bins=40)\n",
        "plt.xlabel('length of samples')\n",
        "plt.ylabel('number of samples')\n",
        "plt.show()"
      ],
      "id": "demographic-movement",
      "execution_count": null,
      "outputs": [
        {
          "output_type": "stream",
          "text": [
            "텍스트의 최소 길이 : 2\n",
            "텍스트의 최대 길이 : 1235\n",
            "텍스트의 평균 길이 : 38.792428272310566\n",
            "요약의 최소 길이 : 1\n",
            "요약의 최대 길이 : 28\n",
            "요약의 평균 길이 : 4.010729443721352\n"
          ],
          "name": "stdout"
        },
        {
          "output_type": "display_data",
          "data": {
            "image/png": "[encoded data removed]",
            "text/plain": [
              "<Figure size 432x288 with 2 Axes>"
            ]
          },
          "metadata": {
            "tags": [],
            "needs_background": "light"
          }
        },
        {
          "output_type": "display_data",
          "data": {
            "image/png": "[encoded data removed]",
            "text/plain": [
              "<Figure size 432x288 with 1 Axes>"
            ]
          },
          "metadata": {
            "tags": [],
            "needs_background": "light"
          }
        },
        {
          "output_type": "display_data",
          "data": {
            "image/png": "[encoded data removed]",
            "text/plain": [
              "<Figure size 432x288 with 1 Axes>"
            ]
          },
          "metadata": {
            "tags": [],
            "needs_background": "light"
          }
        }
      ]
    },
    {
      "cell_type": "code",
      "metadata": {
        "id": "simplified-bones"
      },
      "source": [
        "# 패딩의 길이 결정\n",
        "text_max_len = 50\n",
        "summary_max_len = 8"
      ],
      "id": "simplified-bones",
      "execution_count": null,
      "outputs": []
    },
    {
      "cell_type": "code",
      "metadata": {
        "id": "local-verse"
      },
      "source": [
        "def below_threshold_len(max_len, nested_list):\n",
        "  cnt = 0\n",
        "  for s in nested_list:\n",
        "    if(len(s.split()) <= max_len):\n",
        "        cnt = cnt + 1\n",
        "  print('전체 샘플 중 길이가 %s 이하인 샘플의 비율: %s'%(max_len, (cnt / len(nested_list))))"
      ],
      "id": "local-verse",
      "execution_count": null,
      "outputs": []
    },
    {
      "cell_type": "code",
      "metadata": {
        "colab": {
          "base_uri": "https://localhost:8080/"
        },
        "id": "sublime-airline",
        "outputId": "33f3c202-6b6e-4bf8-cffd-8c33f0692d05"
      },
      "source": [
        "# text열에 대하여 \n",
        "below_threshold_len(text_max_len, data['Text'])"
      ],
      "id": "sublime-airline",
      "execution_count": null,
      "outputs": [
        {
          "output_type": "stream",
          "text": [
            "전체 샘플 중 길이가 50 이하인 샘플의 비율: 0.7745119121724859\n"
          ],
          "name": "stdout"
        }
      ]
    },
    {
      "cell_type": "code",
      "metadata": {
        "colab": {
          "base_uri": "https://localhost:8080/"
        },
        "id": "chemical-moscow",
        "outputId": "f6096f39-fc4b-4f08-e4e7-b3402625d1cd"
      },
      "source": [
        "# summary 열에 대하여 8이라는 길이가 얼마나 많은 샘플들의 길이보다 큰지 확인\n",
        "below_threshold_len(summary_max_len, data['Summary'])"
      ],
      "id": "chemical-moscow",
      "execution_count": null,
      "outputs": [
        {
          "output_type": "stream",
          "text": [
            "전체 샘플 중 길이가 8 이하인 샘플의 비율: 0.9424593967517402\n"
          ],
          "name": "stdout"
        }
      ]
    },
    {
      "cell_type": "code",
      "metadata": {
        "colab": {
          "base_uri": "https://localhost:8080/"
        },
        "id": "improving-korean",
        "outputId": "b20951c8-14cb-4489-b719-308c4dcfe7b4"
      },
      "source": [
        "#정해준 최대 길이보다 큰 샘플들은 제거\n",
        "data = data[data['Text'].apply(lambda x: len(x.split()) <= text_max_len)]\n",
        "data = data[data['Summary'].apply(lambda x: len(x.split()) <= summary_max_len)]\n",
        "print('전체 샘플수 :',(len(data)))"
      ],
      "id": "improving-korean",
      "execution_count": null,
      "outputs": [
        {
          "output_type": "stream",
          "text": [
            "전체 샘플수 : 65818\n"
          ],
          "name": "stdout"
        }
      ]
    },
    {
      "cell_type": "code",
      "metadata": {
        "colab": {
          "base_uri": "https://localhost:8080/",
          "height": 204
        },
        "id": "detected-seller",
        "outputId": "5245af26-1629-4b87-8598-77427d6d8278"
      },
      "source": [
        "data.head()"
      ],
      "id": "detected-seller",
      "execution_count": null,
      "outputs": [
        {
          "output_type": "execute_result",
          "data": {
            "text/html": [
              "<div>\n",
              "<style scoped>\n",
              "    .dataframe tbody tr th:only-of-type {\n",
              "        vertical-align: middle;\n",
              "    }\n",
              "\n",
              "    .dataframe tbody tr th {\n",
              "        vertical-align: top;\n",
              "    }\n",
              "\n",
              "    .dataframe thead th {\n",
              "        text-align: right;\n",
              "    }\n",
              "</style>\n",
              "<table border=\"1\" class=\"dataframe\">\n",
              "  <thead>\n",
              "    <tr style=\"text-align: right;\">\n",
              "      <th></th>\n",
              "      <th>Text</th>\n",
              "      <th>Summary</th>\n",
              "    </tr>\n",
              "  </thead>\n",
              "  <tbody>\n",
              "    <tr>\n",
              "      <th>0</th>\n",
              "      <td>bought several vitality canned dog food produc...</td>\n",
              "      <td>good quality dog food</td>\n",
              "    </tr>\n",
              "    <tr>\n",
              "      <th>1</th>\n",
              "      <td>product arrived labeled jumbo salted peanuts p...</td>\n",
              "      <td>not as advertised</td>\n",
              "    </tr>\n",
              "    <tr>\n",
              "      <th>2</th>\n",
              "      <td>confection around centuries light pillowy citr...</td>\n",
              "      <td>delight says it all</td>\n",
              "    </tr>\n",
              "    <tr>\n",
              "      <th>3</th>\n",
              "      <td>looking secret ingredient robitussin believe f...</td>\n",
              "      <td>cough medicine</td>\n",
              "    </tr>\n",
              "    <tr>\n",
              "      <th>4</th>\n",
              "      <td>great taffy great price wide assortment yummy ...</td>\n",
              "      <td>great taffy</td>\n",
              "    </tr>\n",
              "  </tbody>\n",
              "</table>\n",
              "</div>"
            ],
            "text/plain": [
              "                                                Text                Summary\n",
              "0  bought several vitality canned dog food produc...  good quality dog food\n",
              "1  product arrived labeled jumbo salted peanuts p...      not as advertised\n",
              "2  confection around centuries light pillowy citr...    delight says it all\n",
              "3  looking secret ingredient robitussin believe f...         cough medicine\n",
              "4  great taffy great price wide assortment yummy ...            great taffy"
            ]
          },
          "metadata": {
            "tags": []
          },
          "execution_count": 28
        }
      ]
    },
    {
      "cell_type": "code",
      "metadata": {
        "colab": {
          "base_uri": "https://localhost:8080/",
          "height": 204
        },
        "id": "rolled-mainland",
        "outputId": "d4489c9a-7e49-4c82-b105-92893289c41f"
      },
      "source": [
        "#seq2seq 훈련을 위해서는 디코더의 입력과 레이블에 시작 토큰과 종료 토큰을 추가해야\n",
        "#시작 토큰은 'sostoken', 종료 토큰은 'eostoken'이라 명명하고 앞, 뒤로 추가\n",
        "# 요약 데이터에는 시작 토큰과 종료 토큰을 추가한다.\n",
        "data['decoder_input'] = data['Summary'].apply(lambda x : 'sostoken '+ x)\n",
        "data['decoder_target'] = data['Summary'].apply(lambda x : x + ' eostoken')\n",
        "data.head()"
      ],
      "id": "rolled-mainland",
      "execution_count": null,
      "outputs": [
        {
          "output_type": "execute_result",
          "data": {
            "text/html": [
              "<div>\n",
              "<style scoped>\n",
              "    .dataframe tbody tr th:only-of-type {\n",
              "        vertical-align: middle;\n",
              "    }\n",
              "\n",
              "    .dataframe tbody tr th {\n",
              "        vertical-align: top;\n",
              "    }\n",
              "\n",
              "    .dataframe thead th {\n",
              "        text-align: right;\n",
              "    }\n",
              "</style>\n",
              "<table border=\"1\" class=\"dataframe\">\n",
              "  <thead>\n",
              "    <tr style=\"text-align: right;\">\n",
              "      <th></th>\n",
              "      <th>Text</th>\n",
              "      <th>Summary</th>\n",
              "      <th>decoder_input</th>\n",
              "      <th>decoder_target</th>\n",
              "    </tr>\n",
              "  </thead>\n",
              "  <tbody>\n",
              "    <tr>\n",
              "      <th>0</th>\n",
              "      <td>bought several vitality canned dog food produc...</td>\n",
              "      <td>good quality dog food</td>\n",
              "      <td>sostoken good quality dog food</td>\n",
              "      <td>good quality dog food eostoken</td>\n",
              "    </tr>\n",
              "    <tr>\n",
              "      <th>1</th>\n",
              "      <td>product arrived labeled jumbo salted peanuts p...</td>\n",
              "      <td>not as advertised</td>\n",
              "      <td>sostoken not as advertised</td>\n",
              "      <td>not as advertised eostoken</td>\n",
              "    </tr>\n",
              "    <tr>\n",
              "      <th>2</th>\n",
              "      <td>confection around centuries light pillowy citr...</td>\n",
              "      <td>delight says it all</td>\n",
              "      <td>sostoken delight says it all</td>\n",
              "      <td>delight says it all eostoken</td>\n",
              "    </tr>\n",
              "    <tr>\n",
              "      <th>3</th>\n",
              "      <td>looking secret ingredient robitussin believe f...</td>\n",
              "      <td>cough medicine</td>\n",
              "      <td>sostoken cough medicine</td>\n",
              "      <td>cough medicine eostoken</td>\n",
              "    </tr>\n",
              "    <tr>\n",
              "      <th>4</th>\n",
              "      <td>great taffy great price wide assortment yummy ...</td>\n",
              "      <td>great taffy</td>\n",
              "      <td>sostoken great taffy</td>\n",
              "      <td>great taffy eostoken</td>\n",
              "    </tr>\n",
              "  </tbody>\n",
              "</table>\n",
              "</div>"
            ],
            "text/plain": [
              "                                                Text  ...                  decoder_target\n",
              "0  bought several vitality canned dog food produc...  ...  good quality dog food eostoken\n",
              "1  product arrived labeled jumbo salted peanuts p...  ...      not as advertised eostoken\n",
              "2  confection around centuries light pillowy citr...  ...    delight says it all eostoken\n",
              "3  looking secret ingredient robitussin believe f...  ...         cough medicine eostoken\n",
              "4  great taffy great price wide assortment yummy ...  ...            great taffy eostoken\n",
              "\n",
              "[5 rows x 4 columns]"
            ]
          },
          "metadata": {
            "tags": []
          },
          "execution_count": 29
        }
      ]
    },
    {
      "cell_type": "code",
      "metadata": {
        "id": "cubic-folder"
      },
      "source": [
        "#인코더의 입력, 디코더의 입력과 레이블을 각각 저장\n",
        "encoder_input = np.array(data['Text'])\n",
        "decoder_input = np.array(data['decoder_input'])\n",
        "decoder_target = np.array(data['decoder_target'])"
      ],
      "id": "cubic-folder",
      "execution_count": null,
      "outputs": []
    },
    {
      "cell_type": "code",
      "metadata": {
        "colab": {
          "base_uri": "https://localhost:8080/"
        },
        "id": "responsible-tracy",
        "outputId": "50aec333-d5b1-4503-ac73-96b97c3b297d"
      },
      "source": [
        "#훈련 데이터와 테스트 데이터를 분리,순서가 섞인 정수 시퀀스 생성\n",
        "indices = np.arange(encoder_input.shape[0])\n",
        "np.random.shuffle(indices)\n",
        "print(indices)"
      ],
      "id": "responsible-tracy",
      "execution_count": null,
      "outputs": [
        {
          "output_type": "stream",
          "text": [
            "[61165 60938 37145 ... 45440 26023  1298]\n"
          ],
          "name": "stdout"
        }
      ]
    },
    {
      "cell_type": "code",
      "metadata": {
        "id": "binary-bikini"
      },
      "source": [
        "#이 정수 시퀀스 순서를 데이터의 샘플 순서로 정의해주면 샘플의 순서는 섞이게\n",
        "encoder_input = encoder_input[indices]\n",
        "decoder_input = decoder_input[indices]\n",
        "decoder_target = decoder_target[indices]"
      ],
      "id": "binary-bikini",
      "execution_count": null,
      "outputs": []
    },
    {
      "cell_type": "code",
      "metadata": {
        "colab": {
          "base_uri": "https://localhost:8080/"
        },
        "id": "lesser-click",
        "outputId": "155374ef-dba0-40c1-8de7-2e381a2a792e"
      },
      "source": [
        "# 섞인 데이터를 8:2 비율로 split\n",
        "n_of_val = int(len(encoder_input)*0.2)\n",
        "print('테스트 데이터의 수 :',n_of_val)"
      ],
      "id": "lesser-click",
      "execution_count": null,
      "outputs": [
        {
          "output_type": "stream",
          "text": [
            "테스트 데이터의 수 : 13163\n"
          ],
          "name": "stdout"
        }
      ]
    },
    {
      "cell_type": "code",
      "metadata": {
        "id": "first-clinton"
      },
      "source": [
        "encoder_input_train = encoder_input[:-n_of_val]\n",
        "decoder_input_train = decoder_input[:-n_of_val]\n",
        "decoder_target_train = decoder_target[:-n_of_val]\n",
        "\n",
        "encoder_input_test = encoder_input[-n_of_val:]\n",
        "decoder_input_test = decoder_input[-n_of_val:]\n",
        "decoder_target_test = decoder_target[-n_of_val:]"
      ],
      "id": "first-clinton",
      "execution_count": null,
      "outputs": []
    },
    {
      "cell_type": "code",
      "metadata": {
        "colab": {
          "base_uri": "https://localhost:8080/"
        },
        "id": "higher-perry",
        "outputId": "1f1e525a-f171-49ca-e9bd-be96cfaf2059"
      },
      "source": [
        "print('훈련 데이터의 개수 :', len(encoder_input_train))\n",
        "print('훈련 레이블의 개수 :',len(decoder_input_train))\n",
        "print('테스트 데이터의 개수 :',len(encoder_input_test))\n",
        "print('테스트 레이블의 개수 :',len(decoder_input_test))"
      ],
      "id": "higher-perry",
      "execution_count": null,
      "outputs": [
        {
          "output_type": "stream",
          "text": [
            "훈련 데이터의 개수 : 52655\n",
            "훈련 레이블의 개수 : 52655\n",
            "테스트 데이터의 개수 : 13163\n",
            "테스트 레이블의 개수 : 13163\n"
          ],
          "name": "stdout"
        }
      ]
    },
    {
      "cell_type": "code",
      "metadata": {
        "id": "backed-netherlands"
      },
      "source": [
        "#기계가 텍스트를 숫자로 처리할 수 있도록 훈련 데이터와 테스트 데이터에 정수 인코딩을 수행해야 한다\n",
        "#훈련 데이터에 대해서 단어 사전을 생성. 우선, 원문에 해당되는 encoder_input_train에 대해서 수행\n",
        "src_tokenizer = Tokenizer()\n",
        "src_tokenizer.fit_on_texts(encoder_input_train)"
      ],
      "id": "backed-netherlands",
      "execution_count": null,
      "outputs": []
    },
    {
      "cell_type": "code",
      "metadata": {
        "colab": {
          "base_uri": "https://localhost:8080/"
        },
        "id": "unique-sound",
        "outputId": "68604cd3-066f-4c12-bbfc-771f1993b818"
      },
      "source": [
        "#이제 단어 집합이 생성되는 동시에 각 단어에 고유한 정수가 부여됨. 이는 src_tokenizer.word_index에 저장됨.\n",
        "# 여기서는 빈도수가 낮은 단어들은 자연어 처리에서 배제하고자 한다.\n",
        "#등장 빈도수가 7회 미만인 단어들이 이 데이터에서 얼만큼의 비중을 차지하나?.\n",
        "\n",
        "threshold = 7\n",
        "total_cnt = len(src_tokenizer.word_index) # 단어의 수\n",
        "rare_cnt = 0 # 등장 빈도수가 threshold보다 작은 단어의 개수를 카운트\n",
        "total_freq = 0 # 훈련 데이터의 전체 단어 빈도수 총 합\n",
        "rare_freq = 0 # 등장 빈도수가 threshold보다 작은 단어의 등장 빈도수의 총 합\n",
        "\n",
        "# 단어와 빈도수의 쌍을 key와 value로 받는다.\n",
        "for key, value in src_tokenizer.word_counts.items():\n",
        "    total_freq = total_freq + value\n",
        "\n",
        "    # 단어의 등장 빈도수가 threshold보다 작으면\n",
        "    if(value < threshold):\n",
        "        rare_cnt = rare_cnt + 1\n",
        "        rare_freq = rare_freq + value\n",
        "\n",
        "print('단어 집합(vocabulary)의 크기 :',total_cnt)\n",
        "print('등장 빈도가 %s번 이하인 희귀 단어의 수: %s'%(threshold - 1, rare_cnt))\n",
        "print('단어 집합에서 희귀 단어를 제외시킬 경우의 단어 집합의 크기 %s'%(total_cnt - rare_cnt))\n",
        "print(\"단어 집합에서 희귀 단어의 비율:\", (rare_cnt / total_cnt)*100)\n",
        "print(\"전체 등장 빈도에서 희귀 단어 등장 빈도 비율:\", (rare_freq / total_freq)*100)"
      ],
      "id": "unique-sound",
      "execution_count": null,
      "outputs": [
        {
          "output_type": "stream",
          "text": [
            "단어 집합(vocabulary)의 크기 : 31987\n",
            "등장 빈도가 6번 이하인 희귀 단어의 수: 23700\n",
            "단어 집합에서 희귀 단어를 제외시킬 경우의 단어 집합의 크기 8287\n",
            "단어 집합에서 희귀 단어의 비율: 74.09260011879826\n",
            "전체 등장 빈도에서 희귀 단어 등장 빈도 비율: 3.383968496474902\n"
          ],
          "name": "stdout"
        }
      ]
    },
    {
      "cell_type": "code",
      "metadata": {
        "id": "higher-accident"
      },
      "source": [
        "#등장 빈도가 6회 이하인 단어들은 정수 인코딩 과정에서 배제\n",
        "src_vocab = 8000  #단어집합크기를 8000으로 제한\n",
        "src_tokenizer = Tokenizer(num_words = src_vocab) \n",
        "src_tokenizer.fit_on_texts(encoder_input_train)\n",
        "\n",
        "# 텍스트 시퀀스를 정수 시퀀스로 변환\n",
        "encoder_input_train = src_tokenizer.texts_to_sequences(encoder_input_train) \n",
        "encoder_input_test = src_tokenizer.texts_to_sequences(encoder_input_test)"
      ],
      "id": "higher-accident",
      "execution_count": null,
      "outputs": []
    },
    {
      "cell_type": "code",
      "metadata": {
        "colab": {
          "base_uri": "https://localhost:8080/"
        },
        "id": "threatened-yellow",
        "outputId": "04f618da-06f0-43f7-c019-f7540a99bc47"
      },
      "source": [
        "#정수 인코딩이 정상 진행되었는지 훈련 데이터에 대해서 3개의 샘플을 출력\n",
        "print(encoder_input_train[:3])"
      ],
      "id": "threatened-yellow",
      "execution_count": null,
      "outputs": [
        {
          "output_type": "stream",
          "text": [
            "[[632, 179, 39, 1, 4640, 1303, 70, 1393, 7, 57, 980, 414, 361, 20, 447, 255, 54, 7683, 1241, 385, 298, 1772, 147, 39, 3, 49, 4388, 108], [4, 489, 206, 446, 91, 583, 100, 2009, 611, 867, 2202, 138, 2766, 334, 2202, 7, 4523, 871, 54, 446, 138, 55, 208, 611, 2009, 2708, 2766, 33, 446, 35, 2766, 2009, 618, 98, 9, 3147, 2767, 75, 100, 4054], [143, 93, 514, 123, 525, 197, 96, 190, 338, 856, 223, 71, 21, 5086, 394, 394, 239, 15, 531, 197]]\n"
          ],
          "name": "stdout"
        }
      ]
    },
    {
      "cell_type": "code",
      "metadata": {
        "id": "severe-creek"
      },
      "source": [
        "tar_tokenizer = Tokenizer()\n",
        "tar_tokenizer.fit_on_texts(decoder_input_train)"
      ],
      "id": "severe-creek",
      "execution_count": null,
      "outputs": []
    },
    {
      "cell_type": "code",
      "metadata": {
        "colab": {
          "base_uri": "https://localhost:8080/"
        },
        "id": "potential-friendly",
        "outputId": "470bf30b-0ec7-4eff-a620-433aa2a6c2bb"
      },
      "source": [
        "threshold = 6\n",
        "total_cnt = len(tar_tokenizer.word_index) # 단어의 수\n",
        "rare_cnt = 0 # 등장 빈도수가 threshold보다 작은 단어의 개수를 카운트\n",
        "total_freq = 0 # 훈련 데이터의 전체 단어 빈도수 총 합\n",
        "rare_freq = 0 # 등장 빈도수가 threshold보다 작은 단어의 등장 빈도수의 총 합\n",
        "\n",
        "# 단어와 빈도수의 쌍을 key와 value로 \n",
        "for key, value in tar_tokenizer.word_counts.items():\n",
        "    total_freq = total_freq + value\n",
        "\n",
        "    # 단어의 등장 빈도수가 threshold보다 작으면\n",
        "    if(value < threshold):\n",
        "        rare_cnt = rare_cnt + 1\n",
        "        rare_freq = rare_freq + value\n",
        "\n",
        "print('단어 집합(vocabulary)의 크기 :',total_cnt)\n",
        "print('등장 빈도가 %s번 이하인 희귀 단어의 수: %s'%(threshold - 1, rare_cnt))\n",
        "print('단어 집합에서 희귀 단어를 제외시킬 경우의 단어 집합의 크기 %s'%(total_cnt - rare_cnt))\n",
        "print(\"단어 집합에서 희귀 단어의 비율:\", (rare_cnt / total_cnt)*100)\n",
        "print(\"전체 등장 빈도에서 희귀 단어 등장 빈도 비율:\", (rare_freq / total_freq)*100)"
      ],
      "id": "potential-friendly",
      "execution_count": null,
      "outputs": [
        {
          "output_type": "stream",
          "text": [
            "단어 집합(vocabulary)의 크기 : 10524\n",
            "등장 빈도가 5번 이하인 희귀 단어의 수: 8150\n",
            "단어 집합에서 희귀 단어를 제외시킬 경우의 단어 집합의 크기 2374\n",
            "단어 집합에서 희귀 단어의 비율: 77.44203724819461\n",
            "전체 등장 빈도에서 희귀 단어 등장 빈도 비율: 5.940836959469056\n"
          ],
          "name": "stdout"
        }
      ]
    },
    {
      "cell_type": "code",
      "metadata": {
        "id": "exterior-fusion"
      },
      "source": [
        "tar_vocab = 2000\n",
        "tar_tokenizer = Tokenizer(num_words = tar_vocab) \n",
        "tar_tokenizer.fit_on_texts(decoder_input_train)\n",
        "tar_tokenizer.fit_on_texts(decoder_target_train)\n",
        "\n",
        "# 텍스트 시퀀스를 정수 시퀀스로 변환\n",
        "decoder_input_train = tar_tokenizer.texts_to_sequences(decoder_input_train) \n",
        "decoder_target_train = tar_tokenizer.texts_to_sequences(decoder_target_train)\n",
        "decoder_input_test = tar_tokenizer.texts_to_sequences(decoder_input_test)\n",
        "decoder_target_test = tar_tokenizer.texts_to_sequences(decoder_target_test)"
      ],
      "id": "exterior-fusion",
      "execution_count": null,
      "outputs": []
    },
    {
      "cell_type": "code",
      "metadata": {
        "colab": {
          "base_uri": "https://localhost:8080/"
        },
        "id": "latest-corruption",
        "outputId": "2987b7e6-2d18-4f23-ec5f-6baf30d6154b"
      },
      "source": [
        "print(decoder_input_train[:5])"
      ],
      "id": "latest-corruption",
      "execution_count": null,
      "outputs": [
        {
          "output_type": "stream",
          "text": [
            "[[1, 130, 15], [1, 15, 19, 240], [1, 51, 63, 385, 319, 118], [1, 397, 948], [1, 29, 122]]\n"
          ],
          "name": "stdout"
        }
      ]
    },
    {
      "cell_type": "code",
      "metadata": {
        "colab": {
          "base_uri": "https://localhost:8080/"
        },
        "id": "finnish-venue",
        "outputId": "d82a5ca0-2a3e-424e-8b2d-8aa053640c7f"
      },
      "source": [
        "print(decoder_target_train[:5])"
      ],
      "id": "finnish-venue",
      "execution_count": null,
      "outputs": [
        {
          "output_type": "stream",
          "text": [
            "[[130, 15, 2], [15, 19, 240, 2], [51, 63, 385, 319, 118, 2], [397, 948, 2], [29, 122, 2]]\n"
          ],
          "name": "stdout"
        }
      ]
    },
    {
      "cell_type": "code",
      "metadata": {
        "id": "adopted-offense"
      },
      "source": [
        "#전체 데이터에서 빈도수가 낮은 단어가 삭제되었다는 것은 빈도수가 낮은 단어만으로 구성되었던 샘플들은 이제 빈 샘플이 되었다는 것을 의미\n",
        "#이 현상은 길이가 상대적으로 길었던 Text의 경우에는 문제가 별로 없겠지만,\n",
        "#애초에 평균 길이가 4밖에 되지 않았던 Summary의 경우에는 이 현상이 굉장히 두드러졌을 가능성이 높다\n",
        "#주의할 점은 요약문인 decoder_input에는 sostoken 또는 decoder_target에는 eostoken이 추가된 상태 \n",
        "#이 두 토큰은 모든 샘플에서 등장하므로 빈도수가 샘플수와 동일하여 단어 집합 제한에도 삭제 되지 않는다.\n",
        "#그래서 이제 길이가 0이 된 요약문의 실질적 길이는 1.\n",
        "#decoder_input에는 sostoken, decoder_target에는 eostoken만 남았을 것이기 때문\n",
        "\n",
        "drop_train = [index for index, sentence in enumerate(decoder_input_train) if len(sentence) == 1]\n",
        "drop_test = [index for index, sentence in enumerate(decoder_input_test) if len(sentence) == 1]"
      ],
      "id": "adopted-offense",
      "execution_count": null,
      "outputs": []
    },
    {
      "cell_type": "code",
      "metadata": {
        "colab": {
          "base_uri": "https://localhost:8080/"
        },
        "id": "painful-group",
        "outputId": "71156a79-3811-4c8b-8483-387ea5f392f1"
      },
      "source": [
        "print('삭제할 훈련 데이터의 개수 :',len(drop_train))\n",
        "print('삭제할 테스트 데이터의 개수 :',len(drop_test))"
      ],
      "id": "painful-group",
      "execution_count": null,
      "outputs": [
        {
          "output_type": "stream",
          "text": [
            "삭제할 훈련 데이터의 개수 : 1310\n",
            "삭제할 테스트 데이터의 개수 : 292\n"
          ],
          "name": "stdout"
        }
      ]
    },
    {
      "cell_type": "code",
      "metadata": {
        "colab": {
          "base_uri": "https://localhost:8080/"
        },
        "id": "annoying-corner",
        "outputId": "822f69d8-01eb-4222-998e-0b2f73d185e5"
      },
      "source": [
        "#삭제후의 갯수\n",
        "encoder_input_train = np.delete(encoder_input_train, drop_train, axis=0)\n",
        "decoder_input_train = np.delete(decoder_input_train, drop_train, axis=0)\n",
        "decoder_target_train = np.delete(decoder_target_train, drop_train, axis=0)\n",
        "\n",
        "encoder_input_test = np.delete(encoder_input_test, drop_test, axis=0)\n",
        "decoder_input_test = np.delete(decoder_input_test, drop_test, axis=0)\n",
        "decoder_target_test = np.delete(decoder_target_test, drop_test, axis=0)\n",
        "\n",
        "print('훈련 데이터의 개수 :', len(encoder_input_train))\n",
        "print('훈련 레이블의 개수 :',len(decoder_input_train))\n",
        "print('테스트 데이터의 개수 :',len(encoder_input_test))\n",
        "print('테스트 레이블의 개수 :',len(decoder_input_test))"
      ],
      "id": "annoying-corner",
      "execution_count": null,
      "outputs": [
        {
          "output_type": "stream",
          "text": [
            "훈련 데이터의 개수 : 51345\n",
            "훈련 레이블의 개수 : 51345\n",
            "테스트 데이터의 개수 : 12871\n",
            "테스트 레이블의 개수 : 12871\n"
          ],
          "name": "stdout"
        },
        {
          "output_type": "stream",
          "text": [
            "/usr/local/lib/python3.7/dist-packages/numpy/core/_asarray.py:83: VisibleDeprecationWarning: Creating an ndarray from ragged nested sequences (which is a list-or-tuple of lists-or-tuples-or ndarrays with different lengths or shapes) is deprecated. If you meant to do this, you must specify 'dtype=object' when creating the ndarray\n",
            "  return array(a, dtype, copy=False, order=order)\n"
          ],
          "name": "stderr"
        }
      ]
    },
    {
      "cell_type": "code",
      "metadata": {
        "id": "clean-secondary"
      },
      "source": [
        "#패딩수행\n",
        "encoder_input_train = pad_sequences(encoder_input_train, maxlen = text_max_len, padding='post')\n",
        "encoder_input_test = pad_sequences(encoder_input_test, maxlen = text_max_len, padding='post')\n",
        "decoder_input_train = pad_sequences(decoder_input_train, maxlen = summary_max_len, padding='post')\n",
        "decoder_target_train = pad_sequences(decoder_target_train, maxlen = summary_max_len, padding='post')\n",
        "decoder_input_test = pad_sequences(decoder_input_test, maxlen = summary_max_len, padding='post')\n",
        "decoder_target_test = pad_sequences(decoder_target_test, maxlen = summary_max_len, padding='post')"
      ],
      "id": "clean-secondary",
      "execution_count": null,
      "outputs": []
    },
    {
      "cell_type": "code",
      "metadata": {
        "id": "sufficient-apartment"
      },
      "source": [
        "from tensorflow.keras.layers import Input, LSTM, Embedding, Dense, Concatenate\n",
        "from tensorflow.keras.models import Model\n",
        "from tensorflow.keras.callbacks import EarlyStopping, ModelCheckpoint"
      ],
      "id": "sufficient-apartment",
      "execution_count": null,
      "outputs": []
    },
    {
      "cell_type": "code",
      "metadata": {
        "colab": {
          "base_uri": "https://localhost:8080/"
        },
        "id": "basic-friendship",
        "outputId": "e0984068-a2b8-4b69-86b0-fbd88bf634fe"
      },
      "source": [
        "embedding_dim = 128\n",
        "hidden_size = 256\n",
        "\n",
        "# 인코더\n",
        "encoder_inputs = Input(shape=(text_max_len,))\n",
        "\n",
        "# 인코더의 임베딩 층\n",
        "enc_emb = Embedding(src_vocab, embedding_dim)(encoder_inputs)\n",
        "\n",
        "# 인코더의 LSTM 1\n",
        "encoder_lstm1 = LSTM(hidden_size, return_sequences=True, return_state=True ,dropout = 0.4, recurrent_dropout = 0.4)\n",
        "encoder_output1, state_h1, state_c1 = encoder_lstm1(enc_emb)\n",
        "\n",
        "# 인코더의 LSTM 2\n",
        "encoder_lstm2 = LSTM(hidden_size, return_sequences=True, return_state=True, dropout=0.4, recurrent_dropout=0.4)\n",
        "encoder_output2, state_h2, state_c2 = encoder_lstm2(encoder_output1)\n",
        "\n",
        "# 인코더의 LSTM 3\n",
        "encoder_lstm3 = LSTM(hidden_size, return_state=True, return_sequences=True, dropout=0.4, recurrent_dropout=0.4)\n",
        "encoder_outputs, state_h, state_c= encoder_lstm3(encoder_output2)"
      ],
      "id": "basic-friendship",
      "execution_count": null,
      "outputs": [
        {
          "output_type": "stream",
          "text": [
            "WARNING:tensorflow:Layer lstm will not use cuDNN kernel since it doesn't meet the cuDNN kernel criteria. It will use generic GPU kernel as fallback when running on GPU\n",
            "WARNING:tensorflow:Layer lstm_1 will not use cuDNN kernel since it doesn't meet the cuDNN kernel criteria. It will use generic GPU kernel as fallback when running on GPU\n",
            "WARNING:tensorflow:Layer lstm_2 will not use cuDNN kernel since it doesn't meet the cuDNN kernel criteria. It will use generic GPU kernel as fallback when running on GPU\n"
          ],
          "name": "stdout"
        }
      ]
    },
    {
      "cell_type": "code",
      "metadata": {
        "colab": {
          "base_uri": "https://localhost:8080/"
        },
        "id": "blond-oregon",
        "outputId": "e10b7cce-9f93-4813-8575-aebfbbfd4843"
      },
      "source": [
        "# 디코더\n",
        "decoder_inputs = Input(shape=(None,))\n",
        "\n",
        "# 디코더의 임베딩 층\n",
        "dec_emb_layer = Embedding(tar_vocab, embedding_dim)\n",
        "dec_emb = dec_emb_layer(decoder_inputs)\n",
        "\n",
        "# 디코더의 LSTM\n",
        "decoder_lstm = LSTM(hidden_size, return_sequences = True, return_state = True, dropout = 0.4, recurrent_dropout=0.2)\n",
        "decoder_outputs, _, _ = decoder_lstm(dec_emb, initial_state = [state_h, state_c])"
      ],
      "id": "blond-oregon",
      "execution_count": null,
      "outputs": [
        {
          "output_type": "stream",
          "text": [
            "WARNING:tensorflow:Layer lstm_3 will not use cuDNN kernel since it doesn't meet the cuDNN kernel criteria. It will use generic GPU kernel as fallback when running on GPU\n"
          ],
          "name": "stdout"
        }
      ]
    },
    {
      "cell_type": "code",
      "metadata": {
        "colab": {
          "base_uri": "https://localhost:8080/"
        },
        "id": "distinguished-investigator",
        "outputId": "bf62c4da-dfe9-4b99-db30-6261c3b0e402"
      },
      "source": [
        "# 디코더의 출력층\n",
        "decoder_softmax_layer = Dense(tar_vocab, activation = 'softmax')\n",
        "decoder_softmax_outputs = decoder_softmax_layer(decoder_outputs) \n",
        "\n",
        "# 모델 정의\n",
        "model = Model([encoder_inputs, decoder_inputs], decoder_softmax_outputs)\n",
        "model.summary()"
      ],
      "id": "distinguished-investigator",
      "execution_count": null,
      "outputs": [
        {
          "output_type": "stream",
          "text": [
            "Model: \"model\"\n",
            "__________________________________________________________________________________________________\n",
            "Layer (type)                    Output Shape         Param #     Connected to                     \n",
            "==================================================================================================\n",
            "input_1 (InputLayer)            [(None, 50)]         0                                            \n",
            "__________________________________________________________________________________________________\n",
            "embedding (Embedding)           (None, 50, 128)      1024000     input_1[0][0]                    \n",
            "__________________________________________________________________________________________________\n",
            "lstm (LSTM)                     [(None, 50, 256), (N 394240      embedding[0][0]                  \n",
            "__________________________________________________________________________________________________\n",
            "input_2 (InputLayer)            [(None, None)]       0                                            \n",
            "__________________________________________________________________________________________________\n",
            "lstm_1 (LSTM)                   [(None, 50, 256), (N 525312      lstm[0][0]                       \n",
            "__________________________________________________________________________________________________\n",
            "embedding_1 (Embedding)         (None, None, 128)    256000      input_2[0][0]                    \n",
            "__________________________________________________________________________________________________\n",
            "lstm_2 (LSTM)                   [(None, 50, 256), (N 525312      lstm_1[0][0]                     \n",
            "__________________________________________________________________________________________________\n",
            "lstm_3 (LSTM)                   [(None, None, 256),  394240      embedding_1[0][0]                \n",
            "                                                                 lstm_2[0][1]                     \n",
            "                                                                 lstm_2[0][2]                     \n",
            "__________________________________________________________________________________________________\n",
            "dense (Dense)                   (None, None, 2000)   514000      lstm_3[0][0]                     \n",
            "==================================================================================================\n",
            "Total params: 3,633,104\n",
            "Trainable params: 3,633,104\n",
            "Non-trainable params: 0\n",
            "__________________________________________________________________________________________________\n"
          ],
          "name": "stdout"
        }
      ]
    },
    {
      "cell_type": "code",
      "metadata": {
        "id": "accredited-fault"
      },
      "source": [
        "#아래의 코드를 통해 attention.py 파일을 다운로드하고, AttentionLayer를 임포트\n",
        "\n",
        "urllib.request.urlretrieve(\"https://raw.githubusercontent.com/thushv89/attention_keras/master/src/layers/attention.py\", filename=\"attention.py\")\n",
        "from attention import AttentionLayer"
      ],
      "id": "accredited-fault",
      "execution_count": null,
      "outputs": []
    },
    {
      "cell_type": "code",
      "metadata": {
        "colab": {
          "base_uri": "https://localhost:8080/"
        },
        "id": "geographic-torture",
        "outputId": "965aafdf-ccb1-4f3d-a0df-1b0a2c946727"
      },
      "source": [
        "#어텐션 메커니즘을 이용해 디코더의 출력층을 새롭게 설계\n",
        "# 어텐션 층(어텐션 함수)\n",
        "attn_layer = AttentionLayer(name='attention_layer')\n",
        "attn_out, attn_states = attn_layer([encoder_outputs, decoder_outputs])\n",
        "\n",
        "# 어텐션의 결과와 디코더의 hidden state들을 연결\n",
        "decoder_concat_input = Concatenate(axis = -1, name='concat_layer')([decoder_outputs, attn_out])\n",
        "\n",
        "# 디코더의 출력층\n",
        "decoder_softmax_layer = Dense(tar_vocab, activation='softmax')\n",
        "decoder_softmax_outputs = decoder_softmax_layer(decoder_concat_input)\n",
        "\n",
        "# 모델 정의\n",
        "model = Model([encoder_inputs, decoder_inputs], decoder_softmax_outputs)\n",
        "model.summary()"
      ],
      "id": "geographic-torture",
      "execution_count": null,
      "outputs": [
        {
          "output_type": "stream",
          "text": [
            "Model: \"model_1\"\n",
            "__________________________________________________________________________________________________\n",
            "Layer (type)                    Output Shape         Param #     Connected to                     \n",
            "==================================================================================================\n",
            "input_1 (InputLayer)            [(None, 50)]         0                                            \n",
            "__________________________________________________________________________________________________\n",
            "embedding (Embedding)           (None, 50, 128)      1024000     input_1[0][0]                    \n",
            "__________________________________________________________________________________________________\n",
            "lstm (LSTM)                     [(None, 50, 256), (N 394240      embedding[0][0]                  \n",
            "__________________________________________________________________________________________________\n",
            "input_2 (InputLayer)            [(None, None)]       0                                            \n",
            "__________________________________________________________________________________________________\n",
            "lstm_1 (LSTM)                   [(None, 50, 256), (N 525312      lstm[0][0]                       \n",
            "__________________________________________________________________________________________________\n",
            "embedding_1 (Embedding)         (None, None, 128)    256000      input_2[0][0]                    \n",
            "__________________________________________________________________________________________________\n",
            "lstm_2 (LSTM)                   [(None, 50, 256), (N 525312      lstm_1[0][0]                     \n",
            "__________________________________________________________________________________________________\n",
            "lstm_3 (LSTM)                   [(None, None, 256),  394240      embedding_1[0][0]                \n",
            "                                                                 lstm_2[0][1]                     \n",
            "                                                                 lstm_2[0][2]                     \n",
            "__________________________________________________________________________________________________\n",
            "attention_layer (AttentionLayer ((None, None, 256),  131328      lstm_2[0][0]                     \n",
            "                                                                 lstm_3[0][0]                     \n",
            "__________________________________________________________________________________________________\n",
            "concat_layer (Concatenate)      (None, None, 512)    0           lstm_3[0][0]                     \n",
            "                                                                 attention_layer[0][0]            \n",
            "__________________________________________________________________________________________________\n",
            "dense_1 (Dense)                 (None, None, 2000)   1026000     concat_layer[0][0]               \n",
            "==================================================================================================\n",
            "Total params: 4,276,432\n",
            "Trainable params: 4,276,432\n",
            "Non-trainable params: 0\n",
            "__________________________________________________________________________________________________\n"
          ],
          "name": "stdout"
        }
      ]
    },
    {
      "cell_type": "code",
      "metadata": {
        "id": "extraordinary-worker"
      },
      "source": [
        "model.compile(optimizer='rmsprop', loss='sparse_categorical_crossentropy')"
      ],
      "id": "extraordinary-worker",
      "execution_count": null,
      "outputs": []
    },
    {
      "cell_type": "code",
      "metadata": {
        "collapsed": true,
        "colab": {
          "base_uri": "https://localhost:8080/"
        },
        "id": "collect-kitty",
        "outputId": "a3944e7b-3526-4c8e-cb83-824d81ac043a"
      },
      "source": [
        "es = EarlyStopping(monitor='val_loss', mode='min', verbose=1, patience = 2)\n",
        "history = model.fit(x = [encoder_input_train, decoder_input_train], y = decoder_target_train, \\\n",
        "          validation_data = ([encoder_input_test, decoder_input_test], decoder_target_test),\n",
        "          batch_size = 256, callbacks=[es], epochs = 50)"
      ],
      "id": "collect-kitty",
      "execution_count": null,
      "outputs": [
        {
          "output_type": "stream",
          "text": [
            "Epoch 1/50\n",
            "201/201 [==============================] - 136s 621ms/step - loss: 3.1570 - val_loss: 2.3989\n",
            "Epoch 2/50\n",
            "201/201 [==============================] - 122s 609ms/step - loss: 2.4078 - val_loss: 2.2682\n",
            "Epoch 3/50\n",
            "201/201 [==============================] - 122s 605ms/step - loss: 2.2660 - val_loss: 2.1629\n",
            "Epoch 4/50\n",
            "201/201 [==============================] - 121s 603ms/step - loss: 2.1508 - val_loss: 2.0607\n",
            "Epoch 5/50\n",
            "201/201 [==============================] - 123s 613ms/step - loss: 2.0532 - val_loss: 2.0025\n",
            "Epoch 6/50\n",
            "201/201 [==============================] - 122s 609ms/step - loss: 1.9939 - val_loss: 1.9741\n",
            "Epoch 7/50\n",
            "201/201 [==============================] - 120s 599ms/step - loss: 1.9275 - val_loss: 1.9434\n",
            "Epoch 8/50\n",
            "201/201 [==============================] - 119s 594ms/step - loss: 1.8845 - val_loss: 1.9136\n",
            "Epoch 9/50\n",
            "201/201 [==============================] - 120s 594ms/step - loss: 1.8414 - val_loss: 1.8945\n",
            "Epoch 10/50\n",
            "201/201 [==============================] - 119s 590ms/step - loss: 1.7872 - val_loss: 1.8788\n",
            "Epoch 11/50\n",
            "201/201 [==============================] - 118s 585ms/step - loss: 1.7628 - val_loss: 1.8647\n",
            "Epoch 12/50\n",
            "201/201 [==============================] - 118s 586ms/step - loss: 1.7299 - val_loss: 1.8599\n",
            "Epoch 13/50\n",
            "201/201 [==============================] - 117s 583ms/step - loss: 1.6987 - val_loss: 1.8507\n",
            "Epoch 14/50\n",
            "201/201 [==============================] - 117s 584ms/step - loss: 1.6643 - val_loss: 1.8490\n",
            "Epoch 15/50\n",
            "201/201 [==============================] - 121s 601ms/step - loss: 1.6457 - val_loss: 1.8475\n",
            "Epoch 16/50\n",
            "201/201 [==============================] - 120s 597ms/step - loss: 1.6107 - val_loss: 1.8409\n",
            "Epoch 17/50\n",
            "201/201 [==============================] - 120s 596ms/step - loss: 1.5932 - val_loss: 1.8407\n",
            "Epoch 18/50\n",
            "201/201 [==============================] - 118s 588ms/step - loss: 1.5644 - val_loss: 1.8412\n",
            "Epoch 19/50\n",
            "201/201 [==============================] - 117s 581ms/step - loss: 1.5387 - val_loss: 1.8392\n",
            "Epoch 20/50\n",
            "201/201 [==============================] - 117s 581ms/step - loss: 1.5195 - val_loss: 1.8410\n",
            "Epoch 21/50\n",
            "201/201 [==============================] - 117s 580ms/step - loss: 1.4967 - val_loss: 1.8423\n",
            "Epoch 00021: early stopping\n"
          ],
          "name": "stdout"
        }
      ]
    },
    {
      "cell_type": "code",
      "metadata": {
        "collapsed": true,
        "colab": {
          "base_uri": "https://localhost:8080/",
          "height": 265
        },
        "id": "breeding-organic",
        "outputId": "b6f098b4-42a3-41d4-8170-646821229cd7"
      },
      "source": [
        "#학습 과정하면서 기록된 훈련 데이터의 손실과 테스트 데이터의 손실 히스토리를 시각화하여 출력\n",
        "plt.plot(history.history['loss'], label='train')\n",
        "plt.plot(history.history['val_loss'], label='test')\n",
        "plt.legend()\n",
        "plt.show()"
      ],
      "id": "breeding-organic",
      "execution_count": null,
      "outputs": [
        {
          "output_type": "display_data",
          "data": {
            "image/png": "[encoded data removed]",
            "text/plain": [
              "<Figure size 432x288 with 1 Axes>"
            ]
          },
          "metadata": {
            "tags": [],
            "needs_background": "light"
          }
        }
      ]
    },
    {
      "cell_type": "code",
      "metadata": {
        "id": "neutral-introduction"
      },
      "source": [
        "src_index_to_word = src_tokenizer.index_word # 원문 단어 집합에서 정수 -> 단어를 얻음\n",
        "tar_word_to_index = tar_tokenizer.word_index # 요약 단어 집합에서 단어 -> 정수를 얻음\n",
        "tar_index_to_word = tar_tokenizer.index_word # 요약 단어 집합에서 정수 -> 단어를 얻음"
      ],
      "id": "neutral-introduction",
      "execution_count": null,
      "outputs": []
    },
    {
      "cell_type": "code",
      "metadata": {
        "id": "german-removal"
      },
      "source": [
        "# 인코더 설계\n",
        "encoder_model = Model(inputs=encoder_inputs, outputs=[encoder_outputs, state_h, state_c])"
      ],
      "id": "german-removal",
      "execution_count": null,
      "outputs": []
    },
    {
      "cell_type": "code",
      "metadata": {
        "id": "proper-parking"
      },
      "source": [
        "# 이전 시점의 상태들을 저장하는 텐서\n",
        "decoder_state_input_h = Input(shape=(hidden_size,))\n",
        "decoder_state_input_c = Input(shape=(hidden_size,))\n",
        "\n",
        "dec_emb2 = dec_emb_layer(decoder_inputs)\n",
        "# 문장의 다음 단어를 예측하기 위해서 초기 상태(initial_state)를 이전 시점의 상태로 사용. 이는 뒤의 함수 decode_sequence()에 구현\n",
        "# 훈련 과정에서와 달리 LSTM의 리턴하는 은닉 상태와 셀 상태인 state_h와 state_c를 버리지 않음.\n",
        "decoder_outputs2, state_h2, state_c2 = decoder_lstm(dec_emb2, initial_state=[decoder_state_input_h, decoder_state_input_c])"
      ],
      "id": "proper-parking",
      "execution_count": null,
      "outputs": []
    },
    {
      "cell_type": "code",
      "metadata": {
        "id": "wireless-wedding"
      },
      "source": [
        "# 어텐션 함수\n",
        "decoder_hidden_state_input = Input(shape=(text_max_len, hidden_size))\n",
        "attn_out_inf, attn_states_inf = attn_layer([decoder_hidden_state_input, decoder_outputs2])\n",
        "decoder_inf_concat = Concatenate(axis=-1, name='concat')([decoder_outputs2, attn_out_inf])\n",
        "\n",
        "# 디코더의 출력층\n",
        "decoder_outputs2 = decoder_softmax_layer(decoder_inf_concat) \n",
        "\n",
        "# 최종 디코더 모델\n",
        "decoder_model = Model(\n",
        "    [decoder_inputs] + [decoder_hidden_state_input,decoder_state_input_h, decoder_state_input_c],\n",
        "    [decoder_outputs2] + [state_h2, state_c2])"
      ],
      "id": "wireless-wedding",
      "execution_count": null,
      "outputs": []
    },
    {
      "cell_type": "code",
      "metadata": {
        "id": "referenced-battle"
      },
      "source": [
        "def decode_sequence(input_seq):\n",
        "    # 입력으로부터 인코더의 상태를 얻음\n",
        "    e_out, e_h, e_c = encoder_model.predict(input_seq)\n",
        "\n",
        "     # <SOS>에 해당하는 토큰 생성\n",
        "    target_seq = np.zeros((1,1))\n",
        "    target_seq[0, 0] = tar_word_to_index['sostoken']\n",
        "\n",
        "    stop_condition = False\n",
        "    decoded_sentence = ''\n",
        "    while not stop_condition: # stop_condition이 True가 될 때까지 루프 반복\n",
        "\n",
        "        output_tokens, h, c = decoder_model.predict([target_seq] + [e_out, e_h, e_c])\n",
        "        sampled_token_index = np.argmax(output_tokens[0, -1, :])\n",
        "        sampled_token = tar_index_to_word[sampled_token_index]\n",
        "\n",
        "        if(sampled_token!='eostoken'):\n",
        "            decoded_sentence += ' '+sampled_token\n",
        "\n",
        "        #  <eos>에 도달하거나 최대 길이를 넘으면 중단.\n",
        "        if (sampled_token == 'eostoken'  or len(decoded_sentence.split()) >= (summary_max_len-1)):\n",
        "            stop_condition = True\n",
        "\n",
        "        # 길이가 1인 타겟 시퀀스를 업데이트\n",
        "        target_seq = np.zeros((1,1))\n",
        "        target_seq[0, 0] = sampled_token_index\n",
        "\n",
        "        # 상태를 업데이트 합니다.\n",
        "        e_h, e_c = h, c\n",
        "\n",
        "    return decoded_sentence"
      ],
      "id": "referenced-battle",
      "execution_count": null,
      "outputs": []
    },
    {
      "cell_type": "code",
      "metadata": {
        "id": "polish-holiday"
      },
      "source": [
        "# 원문의 정수 시퀀스를 텍스트 시퀀스로 변환\n",
        "def seq2text(input_seq):\n",
        "    temp=''\n",
        "    for i in input_seq:\n",
        "        if(i!=0):\n",
        "            temp = temp + src_index_to_word[i]+' '\n",
        "    return temp\n",
        "\n",
        "# 요약문의 정수 시퀀스를 텍스트 시퀀스로 변환\n",
        "def seq2summary(input_seq):\n",
        "    temp=''\n",
        "    for i in input_seq:\n",
        "        if((i!=0 and i!=tar_word_to_index['sostoken']) and i!=tar_word_to_index['eostoken']):\n",
        "            temp = temp + tar_index_to_word[i] + ' '\n",
        "    return temp"
      ],
      "id": "polish-holiday",
      "execution_count": null,
      "outputs": []
    },
    {
      "cell_type": "code",
      "metadata": {
        "colab": {
          "base_uri": "https://localhost:8080/",
          "height": 1000
        },
        "id": "pleasant-fever",
        "outputId": "2df78ff0-f193-4dcc-ca2f-3ba5c71554ec"
      },
      "source": [
        "for i in range(500, 1000):\n",
        "    print(\"원문 : \",seq2text(encoder_input_test[i]))\n",
        "    print(\"실제 요약문 :\",seq2summary(decoder_input_test[i]))\n",
        "    print(\"예측 요약문 :\",decode_sequence(encoder_input_test[i].reshape(1, text_max_len)))\n",
        "    print(\"\\n\")"
      ],
      "id": "pleasant-fever",
      "execution_count": null,
      "outputs": [
        {
          "output_type": "stream",
          "text": [
            "원문 :  husband absolutely love gum actually good keeps flavor long time \n",
            "실제 요약문 : awesome \n",
            "예측 요약문 :  great gum\n",
            "\n",
            "\n",
            "원문 :  love able get food go england get good price heinz salad cream original ounce squeeze bottle \n",
            "실제 요약문 : heinz salad cream \n",
            "예측 요약문 :  great product but overpriced here\n",
            "\n",
            "\n",
            "원문 :  almost say much sugar appropriate description fresh brand indian sweets products ordered varieties product presentation appealing indeed products contain unwanted chemicals preservatives use sugar cheap compensate missing ingredients say least disappointed product offerings buy products convince reduced sugar content sweets line excellent packaging prompt shipping \n",
            "실제 요약문 : too sweet \n",
            "예측 요약문 :  not what expected\n",
            "\n",
            "\n",
            "원문 :  bought bought bowl pop white hull less popcorn got thru amazon bought metal shaker fine small holes season popcorn works great thanks amazon web site \n",
            "실제 요약문 : love it \n",
            "예측 요약문 :  popcorn\n",
            "\n",
            "\n",
            "원문 :  would say fair good ice cream topping chocolate fresh raspberries mixed really gets stars two reasons first chocolate chunks melted maybe packaging issue maybe chocolate selection issue still second extremely dry granular big granola eater saw could would mix oatmeal ice cream ok believe prefer granola slightly larger chunks \n",
            "실제 요약문 : good ice cream topping \n",
            "예측 요약문 :  not bad\n",
            "\n",
            "\n",
            "원문 :  best herbal non caffeinated tea ever period requires sweetener natural sweetness best spicy flavor herbal teas bland one robust flavorful plain mm good let steep bit longer side usually use bag could would toss bag try \n",
            "실제 요약문 : the best tea ever \n",
            "예측 요약문 :  great tea\n",
            "\n",
            "\n",
            "원문 :  received product influenster box loved especially good warmed microwave highly recommend \n",
            "실제 요약문 : yum \n",
            "예측 요약문 :  delicious\n",
            "\n",
            "\n",
            "원문 :  best gluten free crackers ever would eat even gluten intolerant delicious \n",
            "실제 요약문 : wasabi rice crackers rock \n",
            "예측 요약문 :  best gluten free crackers ever\n",
            "\n",
            "\n",
            "원문 :  tea works calms makes sleep better may work everyone thank \n",
            "실제 요약문 : relaxing \n",
            "예측 요약문 :  great tea\n",
            "\n",
            "\n",
            "원문 :  could get lid cheese molded faster plastic wrap waste money \n",
            "실제 요약문 : bad \n",
            "예측 요약문 :  not what expected\n",
            "\n",
            "\n",
            "원문 :  low sugar low fat measured amount sweet chocolatey enough satisfy evening sweet tooth cravings \n",
            "실제 요약문 : sweet healthy treat \n",
            "예측 요약문 :  great taste\n",
            "\n",
            "\n",
            "원문 :  simply fell love chips refused share friends experience lot cheese favored chips salty little greasy side ny cheddar kettle really changed mind thanks amazon great discounts buy store anymore \n",
            "실제 요약문 : excellent balance of taste and \n",
            "예측 요약문 :  best chips ever\n",
            "\n",
            "\n",
            "원문 :  cannot afford buy stuff like super awesome leave night bam say feels soo good say yes \n",
            "실제 요약문 : the best seasoning for ever \n",
            "예측 요약문 :  great product\n",
            "\n",
            "\n",
            "원문 :  drink mountain dew recently black favorite soda tried change logo add words fruit punch know bad logo change someone unfortunatly yet find substitute times cannot find get \n",
            "실제 요약문 : my favorite soda but so hard to find \n",
            "예측 요약문 :  great tasting\n",
            "\n",
            "\n",
            "원문 :  tasted one many different claim spicy fall short spreads easy neither thick thin actually enough heat taste without excessive mustard would make great addition sauces marinades salad dressings dipping would recommend product anyone looking mustard true heat \n",
            "실제 요약문 : spicy mustard \n",
            "예측 요약문 :  spicy\n",
            "\n",
            "\n",
            "원문 :  bought enough snack size bags sons birthday party alot good think kids love \n",
            "실제 요약문 : bought for kids party \n",
            "예측 요약문 :  great snack\n",
            "\n",
            "\n",
            "원문 :  winter coming drink hot sick started make hot tea lemon realized ice teas already \n",
            "실제 요약문 : hot tea \n",
            "예측 요약문 :  great tea\n",
            "\n",
            "\n",
            "원문 :  liked hot sauces pepper plant thought would give seasoning try hottest seasoning think plus stuff seasoning smokey salty spicey pepper variety good combination tried popcorn like another reviewer far good meat mashed potatoes even mac cheese anything want add bit flavor plus little kick \n",
            "실제 요약문 : not hot very tasty \n",
            "예측 요약문 :  spicy and spicy\n",
            "\n",
            "\n",
            "원문 :  thing even remotely related veggies son ingest tried tastes like chocolate milk one weird thing sometimes thin green color top milk mostly disappears stir ton veggies excellent flavor highly recommended \n",
            "실제 요약문 : awesome choc drink \n",
            "예측 요약문 :  great product\n",
            "\n",
            "\n",
            "원문 :  two lb dogs one chews anything chews almost nothing immediately attack bone ball chewing one dog usually regular rawhide wait see took right away price kinds bones watch sale paid bucks \n",
            "실제 요약문 : dogs love this bone \n",
            "예측 요약문 :  my dogs love these\n",
            "\n",
            "\n",
            "원문 :  buying turkey jerky several years love turkey contains less fat traditional beef jerky fooled thinking turkey without flavor peppered jerky satisfy craving kick spice sweet barbecue flavored great peppered turkey taste one ounce packages perfect gym bag workout snack take work eat instead something nasty vending machine disappointed \n",
            "실제 요약문 : great flavor convenient packs \n",
            "예측 요약문 :  delicious\n",
            "\n",
            "\n",
            "원문 :  perhaps grandma cup hot chocolate keurig best makes sweeter deal get packs typical price cup box take note pack total cups suggest using small cup setting prevent watered much decide \n",
            "실제 요약문 : best hot cocoa for keurig \n",
            "예측 요약문 :  great cocoa\n",
            "\n",
            "\n",
            "원문 :  precious shih tzu loves treats like keeps occupied little chew chicken comes running hears open bag \n",
            "실제 요약문 : great treat \n",
            "예측 요약문 :  my dog loves them\n",
            "\n",
            "\n",
            "원문 :  really shocked tried product first time expected odd taste weird texture could truth noodles taste instead experience taste dish base flavor really noodles well spicy seafood soup another dish sauce far great \n",
            "실제 요약문 : very surprised \n",
            "예측 요약문 :  not my favorite\n",
            "\n",
            "\n",
            "원문 :  found chips shocked see little fat taste great actually bad either told sister told friend everyone loves try order boxes work instead using vending machines office loves little hard find order online \n",
            "실제 요약문 : pop chips are great \n",
            "예측 요약문 :  great chips\n",
            "\n",
            "\n",
            "원문 :  absolutely love chocolate taste like german chocolate cake bite high therefore make great pre munch even training gave blonde boyfriend gift likes better empty tins used containers got love crown design actually look pretty nice placed dressing table \n",
            "실제 요약문 : love the chocolate \n",
            "예측 요약문 :  great chocolate\n",
            "\n",
            "\n",
            "원문 :  know reviewer talking like oranges absolute best ever tasted \n",
            "실제 요약문 : the absolute best \n",
            "예측 요약문 :  best ever\n",
            "\n",
            "\n",
            "원문 :  thought flavor good tasted like real cup coffee like one brewed french roast strong almost little bitter prefer san francisco bay cup style plastic cup trying lighter roast \n",
            "실제 요약문 : good but soooo strong \n",
            "예측 요약문 :  not my favorite\n",
            "\n",
            "\n",
            "원문 :  yummy pepper gives nice kick complaint little salty would eat though \n",
            "실제 요약문 : yumm \n",
            "예측 요약문 :  great product\n",
            "\n",
            "\n",
            "원문 :  drink lot energy drinks first time trying fear taste fruity quite pleasant work drank drink min felt energized rest shift downfall calorie count prefer sugar free looking nice sugar energy boost trick \n",
            "실제 요약문 : nice tasting and boost of energy \n",
            "예측 요약문 :  great taste\n",
            "\n",
            "\n",
            "원문 :  love things buy germany go buy winter anywhere price bad shipping quicker told good job \n",
            "실제 요약문 : these are the best \n",
            "예측 요약문 :  love this stuff\n",
            "\n",
            "\n",
            "원문 :  green mountain coffee good best value seen anywhere love smooth flavor richness coffee new open account gain access full range benefits including view order history previously purchased shipping address fast easy get started click create account enter information requested next page \n",
            "실제 요약문 : great value on java \n",
            "예측 요약문 :  good coffee\n",
            "\n",
            "\n",
            "원문 :  really enjoy bars nice find good price nice find snack energy bar food \n",
            "실제 요약문 : yum \n",
            "예측 요약문 :  great snack\n",
            "\n",
            "\n",
            "원문 :  huge fan tea tasty keeps awake long hours work front computer mm tea \n",
            "실제 요약문 : mm green tea \n",
            "예측 요약문 :  great tea\n",
            "\n",
            "\n",
            "원문 :  drinking twinings decaf teas one new us pleased lighter flavor earl grey enjoyable afternoons \n",
            "실제 요약문 : very pleased all twinings decaf teas \n",
            "예측 요약문 :  great tea\n",
            "\n",
            "\n",
            "원문 :  wanted give cookies five dog fond look appealing good fragrance also crumbly like cookie treats took nibble think quite tasty hit mark shih tzu reason \n",
            "실제 요약문 : molasses treats not hit \n",
            "예측 요약문 :  not for small dogs\n",
            "\n",
            "\n",
            "원문 :  great green tea citrus overpowering gives great smooth flavor highly recommend \n",
            "실제 요약문 : nice and smooth \n",
            "예측 요약문 :  great tea\n",
            "\n",
            "\n",
            "원문 :  cinnamon clove spices feel like drinking hot apple pie cold fall day really enjoy lipton chai tea aroma pleasant flavor smooth sweet excellent chai tea company \n",
            "실제 요약문 : taste of fall \n",
            "예측 요약문 :  delicious\n",
            "\n",
            "\n",
            "원문 :  read web site hcg hard find ingredients salad dressing sugars added husband usually uses packaged dry mix really liked instead regular mix use oil tastes great \n",
            "실제 요약문 : great product \n",
            "예측 요약문 :  not as good as the picture\n",
            "\n",
            "\n",
            "원문 :  like ever knew brand asked greek coffee appeared stuff great authentic find greek imports store even price great stuff know equivalent hunting use espresso machine get caffeine fix least kick price point maintenance travel \n",
            "실제 요약문 : just like my mom makes \n",
            "예측 요약문 :  best coffee ever\n",
            "\n",
            "\n",
            "원문 :  tried quite types extracts far best tried wish sold sizes amazon \n",
            "실제 요약문 : quality \n",
            "예측 요약문 :  best ever\n",
            "\n",
            "\n",
            "원문 :  bars delicious nuts great honey flavor came dark chocolate spot problem texture ordered middle summer chocolate melted around wrapper hope better results ordering winter \n",
            "실제 요약문 : delicious but wait fall \n",
            "예측 요약문 :  delicious\n",
            "\n",
            "\n",
            "원문 :  bought health food store reason like smell smelled like flowers could get past enough keep smelled fruity girl flowers much \n",
            "실제 요약문 : not that deep \n",
            "예측 요약문 :  not as good as other\n",
            "\n",
            "\n",
            "원문 :  among best everyday teas anywhere cup every day \n",
            "실제 요약문 : love pg tips \n",
            "예측 요약문 :  great tea\n",
            "\n",
            "\n",
            "원문 :  love brand tea like good cup tea one want price right shipping fast tried pg black tea would recommend \n",
            "실제 요약문 : tea \n",
            "예측 요약문 :  great tea\n",
            "\n",
            "\n",
            "원문 :  bit risk order mean going boxes kcups taste terrible delish flavor really good still awesome cooled vanilla flavor nice \n",
            "실제 요약문 : love it \n",
            "예측 요약문 :  not so good\n",
            "\n",
            "\n",
            "원문 :  product come one bag boxed fortunate come open transit also loving fact refrigerated \n",
            "실제 요약문 : other reviews are right \n",
            "예측 요약문 :  good product\n",
            "\n",
            "\n",
            "원문 :  cannot find shelf longer found amazon mom looking \n",
            "실제 요약문 : tea orange green tea \n",
            "예측 요약문 :  love this stuff\n",
            "\n",
            "\n",
            "원문 :  average eating bag every two days enjoy baked taste crunchy texture great snack food \n",
            "실제 요약문 : crunchy yet satisfying \n",
            "예측 요약문 :  great snack\n",
            "\n",
            "\n",
            "원문 :  good alternative coconut oil hair usually use coconut oil occasionally use oil long hair well washes easily \n",
            "실제 요약문 : nice hair oil \n",
            "예측 요약문 :  coconut oil\n",
            "\n",
            "\n",
            "원문 :  really like chocolate eat day strong eat time hard jelly like acai inside chocolate delicious adds excellent flavor chocolate covering last would definitely recommend \n",
            "실제 요약문 : strong flavor and lot of em \n",
            "예측 요약문 :  delicious\n",
            "\n",
            "\n",
            "원문 :  golden get picky eating priority worried training going anxious eat training treats well eat great full however best smell purchasing \n",
            "실제 요약문 : golden loves them \n",
            "예측 요약문 :  great training treat\n",
            "\n",
            "\n",
            "원문 :  used bittersweet sauce homemade cafe mochas number years tried many powders etc nothing compares flavor thoroughly chocolate without excessive sweetness milk chocolate etc people add little sugar bittersweet sweet enough \n",
            "실제 요약문 : makes the best cafe mocha ever \n",
            "예측 요약문 :  great for\n",
            "\n",
            "\n",
            "원문 :  love tea much easier use tea bags definitely buy run \n",
            "실제 요약문 : very good product \n",
            "예측 요약문 :  great tea\n",
            "\n",
            "\n",
            "원문 :  good surprisingly good gets even better age added whole package sugar brew dry malt read instructions instruction recommended used kg turned awesome alcohol far th brew happy products \n",
            "실제 요약문 : great \n",
            "예측 요약문 :  good stuff\n",
            "\n",
            "\n",
            "원문 :  husband loves drink keep pitcher fridge year round nice able buy quart size mix little light scoops per quarts water \n",
            "실제 요약문 : this is great size \n",
            "예측 요약문 :  great product\n",
            "\n",
            "\n",
            "원문 :  cheap white rice flavor substance good organic white rice nice nutty flavor worth price rice bulk dish preparing \n",
            "실제 요약문 : good rice \n"
          ],
          "name": "stdout"
        },
        {
          "output_type": "error",
          "ename": "KeyboardInterrupt",
          "evalue": "ignored",
          "traceback": [
            "\u001b[0;31m---------------------------------------------------------------------------\u001b[0m",
            "\u001b[0;31mKeyboardInterrupt\u001b[0m                         Traceback (most recent call last)",
            "\u001b[0;32m<ipython-input-64-e323edc6cf96>\u001b[0m in \u001b[0;36m<module>\u001b[0;34m()\u001b[0m\n\u001b[1;32m      2\u001b[0m     \u001b[0mprint\u001b[0m\u001b[0;34m(\u001b[0m\u001b[0;34m\"원문 : \"\u001b[0m\u001b[0;34m,\u001b[0m\u001b[0mseq2text\u001b[0m\u001b[0;34m(\u001b[0m\u001b[0mencoder_input_test\u001b[0m\u001b[0;34m[\u001b[0m\u001b[0mi\u001b[0m\u001b[0;34m]\u001b[0m\u001b[0;34m)\u001b[0m\u001b[0;34m)\u001b[0m\u001b[0;34m\u001b[0m\u001b[0;34m\u001b[0m\u001b[0m\n\u001b[1;32m      3\u001b[0m     \u001b[0mprint\u001b[0m\u001b[0;34m(\u001b[0m\u001b[0;34m\"실제 요약문 :\"\u001b[0m\u001b[0;34m,\u001b[0m\u001b[0mseq2summary\u001b[0m\u001b[0;34m(\u001b[0m\u001b[0mdecoder_input_test\u001b[0m\u001b[0;34m[\u001b[0m\u001b[0mi\u001b[0m\u001b[0;34m]\u001b[0m\u001b[0;34m)\u001b[0m\u001b[0;34m)\u001b[0m\u001b[0;34m\u001b[0m\u001b[0;34m\u001b[0m\u001b[0m\n\u001b[0;32m----> 4\u001b[0;31m     \u001b[0mprint\u001b[0m\u001b[0;34m(\u001b[0m\u001b[0;34m\"예측 요약문 :\"\u001b[0m\u001b[0;34m,\u001b[0m\u001b[0mdecode_sequence\u001b[0m\u001b[0;34m(\u001b[0m\u001b[0mencoder_input_test\u001b[0m\u001b[0;34m[\u001b[0m\u001b[0mi\u001b[0m\u001b[0;34m]\u001b[0m\u001b[0;34m.\u001b[0m\u001b[0mreshape\u001b[0m\u001b[0;34m(\u001b[0m\u001b[0;36m1\u001b[0m\u001b[0;34m,\u001b[0m \u001b[0mtext_max_len\u001b[0m\u001b[0;34m)\u001b[0m\u001b[0;34m)\u001b[0m\u001b[0;34m)\u001b[0m\u001b[0;34m\u001b[0m\u001b[0;34m\u001b[0m\u001b[0m\n\u001b[0m\u001b[1;32m      5\u001b[0m     \u001b[0mprint\u001b[0m\u001b[0;34m(\u001b[0m\u001b[0;34m\"\\n\"\u001b[0m\u001b[0;34m)\u001b[0m\u001b[0;34m\u001b[0m\u001b[0;34m\u001b[0m\u001b[0m\n",
            "\u001b[0;32m<ipython-input-62-127214b8a314>\u001b[0m in \u001b[0;36mdecode_sequence\u001b[0;34m(input_seq)\u001b[0m\n\u001b[1;32m      1\u001b[0m \u001b[0;32mdef\u001b[0m \u001b[0mdecode_sequence\u001b[0m\u001b[0;34m(\u001b[0m\u001b[0minput_seq\u001b[0m\u001b[0;34m)\u001b[0m\u001b[0;34m:\u001b[0m\u001b[0;34m\u001b[0m\u001b[0;34m\u001b[0m\u001b[0m\n\u001b[1;32m      2\u001b[0m     \u001b[0;31m# 입력으로부터 인코더의 상태를 얻음\u001b[0m\u001b[0;34m\u001b[0m\u001b[0;34m\u001b[0m\u001b[0;34m\u001b[0m\u001b[0m\n\u001b[0;32m----> 3\u001b[0;31m     \u001b[0me_out\u001b[0m\u001b[0;34m,\u001b[0m \u001b[0me_h\u001b[0m\u001b[0;34m,\u001b[0m \u001b[0me_c\u001b[0m \u001b[0;34m=\u001b[0m \u001b[0mencoder_model\u001b[0m\u001b[0;34m.\u001b[0m\u001b[0mpredict\u001b[0m\u001b[0;34m(\u001b[0m\u001b[0minput_seq\u001b[0m\u001b[0;34m)\u001b[0m\u001b[0;34m\u001b[0m\u001b[0;34m\u001b[0m\u001b[0m\n\u001b[0m\u001b[1;32m      4\u001b[0m \u001b[0;34m\u001b[0m\u001b[0m\n\u001b[1;32m      5\u001b[0m      \u001b[0;31m# <SOS>에 해당하는 토큰 생성\u001b[0m\u001b[0;34m\u001b[0m\u001b[0;34m\u001b[0m\u001b[0;34m\u001b[0m\u001b[0m\n",
            "\u001b[0;32m/usr/local/lib/python3.7/dist-packages/tensorflow/python/keras/engine/training.py\u001b[0m in \u001b[0;36mpredict\u001b[0;34m(self, x, batch_size, verbose, steps, callbacks, max_queue_size, workers, use_multiprocessing)\u001b[0m\n\u001b[1;32m   1627\u001b[0m           \u001b[0;32mfor\u001b[0m \u001b[0mstep\u001b[0m \u001b[0;32min\u001b[0m \u001b[0mdata_handler\u001b[0m\u001b[0;34m.\u001b[0m\u001b[0msteps\u001b[0m\u001b[0;34m(\u001b[0m\u001b[0;34m)\u001b[0m\u001b[0;34m:\u001b[0m\u001b[0;34m\u001b[0m\u001b[0;34m\u001b[0m\u001b[0m\n\u001b[1;32m   1628\u001b[0m             \u001b[0mcallbacks\u001b[0m\u001b[0;34m.\u001b[0m\u001b[0mon_predict_batch_begin\u001b[0m\u001b[0;34m(\u001b[0m\u001b[0mstep\u001b[0m\u001b[0;34m)\u001b[0m\u001b[0;34m\u001b[0m\u001b[0;34m\u001b[0m\u001b[0m\n\u001b[0;32m-> 1629\u001b[0;31m             \u001b[0mtmp_batch_outputs\u001b[0m \u001b[0;34m=\u001b[0m \u001b[0mself\u001b[0m\u001b[0;34m.\u001b[0m\u001b[0mpredict_function\u001b[0m\u001b[0;34m(\u001b[0m\u001b[0miterator\u001b[0m\u001b[0;34m)\u001b[0m\u001b[0;34m\u001b[0m\u001b[0;34m\u001b[0m\u001b[0m\n\u001b[0m\u001b[1;32m   1630\u001b[0m             \u001b[0;32mif\u001b[0m \u001b[0mdata_handler\u001b[0m\u001b[0;34m.\u001b[0m\u001b[0mshould_sync\u001b[0m\u001b[0;34m:\u001b[0m\u001b[0;34m\u001b[0m\u001b[0;34m\u001b[0m\u001b[0m\n\u001b[1;32m   1631\u001b[0m               \u001b[0mcontext\u001b[0m\u001b[0;34m.\u001b[0m\u001b[0masync_wait\u001b[0m\u001b[0;34m(\u001b[0m\u001b[0;34m)\u001b[0m\u001b[0;34m\u001b[0m\u001b[0;34m\u001b[0m\u001b[0m\n",
            "\u001b[0;32m/usr/local/lib/python3.7/dist-packages/tensorflow/python/eager/def_function.py\u001b[0m in \u001b[0;36m__call__\u001b[0;34m(self, *args, **kwds)\u001b[0m\n\u001b[1;32m    826\u001b[0m     \u001b[0mtracing_count\u001b[0m \u001b[0;34m=\u001b[0m \u001b[0mself\u001b[0m\u001b[0;34m.\u001b[0m\u001b[0mexperimental_get_tracing_count\u001b[0m\u001b[0;34m(\u001b[0m\u001b[0;34m)\u001b[0m\u001b[0;34m\u001b[0m\u001b[0;34m\u001b[0m\u001b[0m\n\u001b[1;32m    827\u001b[0m     \u001b[0;32mwith\u001b[0m \u001b[0mtrace\u001b[0m\u001b[0;34m.\u001b[0m\u001b[0mTrace\u001b[0m\u001b[0;34m(\u001b[0m\u001b[0mself\u001b[0m\u001b[0;34m.\u001b[0m\u001b[0m_name\u001b[0m\u001b[0;34m)\u001b[0m \u001b[0;32mas\u001b[0m \u001b[0mtm\u001b[0m\u001b[0;34m:\u001b[0m\u001b[0;34m\u001b[0m\u001b[0;34m\u001b[0m\u001b[0m\n\u001b[0;32m--> 828\u001b[0;31m       \u001b[0mresult\u001b[0m \u001b[0;34m=\u001b[0m \u001b[0mself\u001b[0m\u001b[0;34m.\u001b[0m\u001b[0m_call\u001b[0m\u001b[0;34m(\u001b[0m\u001b[0;34m*\u001b[0m\u001b[0margs\u001b[0m\u001b[0;34m,\u001b[0m \u001b[0;34m**\u001b[0m\u001b[0mkwds\u001b[0m\u001b[0;34m)\u001b[0m\u001b[0;34m\u001b[0m\u001b[0;34m\u001b[0m\u001b[0m\n\u001b[0m\u001b[1;32m    829\u001b[0m       \u001b[0mcompiler\u001b[0m \u001b[0;34m=\u001b[0m \u001b[0;34m\"xla\"\u001b[0m \u001b[0;32mif\u001b[0m \u001b[0mself\u001b[0m\u001b[0;34m.\u001b[0m\u001b[0m_experimental_compile\u001b[0m \u001b[0;32melse\u001b[0m \u001b[0;34m\"nonXla\"\u001b[0m\u001b[0;34m\u001b[0m\u001b[0;34m\u001b[0m\u001b[0m\n\u001b[1;32m    830\u001b[0m       \u001b[0mnew_tracing_count\u001b[0m \u001b[0;34m=\u001b[0m \u001b[0mself\u001b[0m\u001b[0;34m.\u001b[0m\u001b[0mexperimental_get_tracing_count\u001b[0m\u001b[0;34m(\u001b[0m\u001b[0;34m)\u001b[0m\u001b[0;34m\u001b[0m\u001b[0;34m\u001b[0m\u001b[0m\n",
            "\u001b[0;32m/usr/local/lib/python3.7/dist-packages/tensorflow/python/eager/def_function.py\u001b[0m in \u001b[0;36m_call\u001b[0;34m(self, *args, **kwds)\u001b[0m\n\u001b[1;32m    860\u001b[0m       \u001b[0;31m# In this case we have not created variables on the first call. So we can\u001b[0m\u001b[0;34m\u001b[0m\u001b[0;34m\u001b[0m\u001b[0;34m\u001b[0m\u001b[0m\n\u001b[1;32m    861\u001b[0m       \u001b[0;31m# run the first trace but we should fail if variables are created.\u001b[0m\u001b[0;34m\u001b[0m\u001b[0;34m\u001b[0m\u001b[0;34m\u001b[0m\u001b[0m\n\u001b[0;32m--> 862\u001b[0;31m       \u001b[0mresults\u001b[0m \u001b[0;34m=\u001b[0m \u001b[0mself\u001b[0m\u001b[0;34m.\u001b[0m\u001b[0m_stateful_fn\u001b[0m\u001b[0;34m(\u001b[0m\u001b[0;34m*\u001b[0m\u001b[0margs\u001b[0m\u001b[0;34m,\u001b[0m \u001b[0;34m**\u001b[0m\u001b[0mkwds\u001b[0m\u001b[0;34m)\u001b[0m\u001b[0;34m\u001b[0m\u001b[0;34m\u001b[0m\u001b[0m\n\u001b[0m\u001b[1;32m    863\u001b[0m       \u001b[0;32mif\u001b[0m \u001b[0mself\u001b[0m\u001b[0;34m.\u001b[0m\u001b[0m_created_variables\u001b[0m\u001b[0;34m:\u001b[0m\u001b[0;34m\u001b[0m\u001b[0;34m\u001b[0m\u001b[0m\n\u001b[1;32m    864\u001b[0m         raise ValueError(\"Creating variables on a non-first call to a function\"\n",
            "\u001b[0;32m/usr/local/lib/python3.7/dist-packages/tensorflow/python/eager/function.py\u001b[0m in \u001b[0;36m__call__\u001b[0;34m(self, *args, **kwargs)\u001b[0m\n\u001b[1;32m   2941\u001b[0m        filtered_flat_args) = self._maybe_define_function(args, kwargs)\n\u001b[1;32m   2942\u001b[0m     return graph_function._call_flat(\n\u001b[0;32m-> 2943\u001b[0;31m         filtered_flat_args, captured_inputs=graph_function.captured_inputs)  # pylint: disable=protected-access\n\u001b[0m\u001b[1;32m   2944\u001b[0m \u001b[0;34m\u001b[0m\u001b[0m\n\u001b[1;32m   2945\u001b[0m   \u001b[0;34m@\u001b[0m\u001b[0mproperty\u001b[0m\u001b[0;34m\u001b[0m\u001b[0;34m\u001b[0m\u001b[0m\n",
            "\u001b[0;32m/usr/local/lib/python3.7/dist-packages/tensorflow/python/eager/function.py\u001b[0m in \u001b[0;36m_call_flat\u001b[0;34m(self, args, captured_inputs, cancellation_manager)\u001b[0m\n\u001b[1;32m   1917\u001b[0m       \u001b[0;31m# No tape is watching; skip to running the function.\u001b[0m\u001b[0;34m\u001b[0m\u001b[0;34m\u001b[0m\u001b[0;34m\u001b[0m\u001b[0m\n\u001b[1;32m   1918\u001b[0m       return self._build_call_outputs(self._inference_function.call(\n\u001b[0;32m-> 1919\u001b[0;31m           ctx, args, cancellation_manager=cancellation_manager))\n\u001b[0m\u001b[1;32m   1920\u001b[0m     forward_backward = self._select_forward_and_backward_functions(\n\u001b[1;32m   1921\u001b[0m         \u001b[0margs\u001b[0m\u001b[0;34m,\u001b[0m\u001b[0;34m\u001b[0m\u001b[0;34m\u001b[0m\u001b[0m\n",
            "\u001b[0;32m/usr/local/lib/python3.7/dist-packages/tensorflow/python/eager/function.py\u001b[0m in \u001b[0;36mcall\u001b[0;34m(self, ctx, args, cancellation_manager)\u001b[0m\n\u001b[1;32m    558\u001b[0m               \u001b[0minputs\u001b[0m\u001b[0;34m=\u001b[0m\u001b[0margs\u001b[0m\u001b[0;34m,\u001b[0m\u001b[0;34m\u001b[0m\u001b[0;34m\u001b[0m\u001b[0m\n\u001b[1;32m    559\u001b[0m               \u001b[0mattrs\u001b[0m\u001b[0;34m=\u001b[0m\u001b[0mattrs\u001b[0m\u001b[0;34m,\u001b[0m\u001b[0;34m\u001b[0m\u001b[0;34m\u001b[0m\u001b[0m\n\u001b[0;32m--> 560\u001b[0;31m               ctx=ctx)\n\u001b[0m\u001b[1;32m    561\u001b[0m         \u001b[0;32melse\u001b[0m\u001b[0;34m:\u001b[0m\u001b[0;34m\u001b[0m\u001b[0;34m\u001b[0m\u001b[0m\n\u001b[1;32m    562\u001b[0m           outputs = execute.execute_with_cancellation(\n",
            "\u001b[0;32m/usr/local/lib/python3.7/dist-packages/tensorflow/python/eager/execute.py\u001b[0m in \u001b[0;36mquick_execute\u001b[0;34m(op_name, num_outputs, inputs, attrs, ctx, name)\u001b[0m\n\u001b[1;32m     58\u001b[0m     \u001b[0mctx\u001b[0m\u001b[0;34m.\u001b[0m\u001b[0mensure_initialized\u001b[0m\u001b[0;34m(\u001b[0m\u001b[0;34m)\u001b[0m\u001b[0;34m\u001b[0m\u001b[0;34m\u001b[0m\u001b[0m\n\u001b[1;32m     59\u001b[0m     tensors = pywrap_tfe.TFE_Py_Execute(ctx._handle, device_name, op_name,\n\u001b[0;32m---> 60\u001b[0;31m                                         inputs, attrs, num_outputs)\n\u001b[0m\u001b[1;32m     61\u001b[0m   \u001b[0;32mexcept\u001b[0m \u001b[0mcore\u001b[0m\u001b[0;34m.\u001b[0m\u001b[0m_NotOkStatusException\u001b[0m \u001b[0;32mas\u001b[0m \u001b[0me\u001b[0m\u001b[0;34m:\u001b[0m\u001b[0;34m\u001b[0m\u001b[0;34m\u001b[0m\u001b[0m\n\u001b[1;32m     62\u001b[0m     \u001b[0;32mif\u001b[0m \u001b[0mname\u001b[0m \u001b[0;32mis\u001b[0m \u001b[0;32mnot\u001b[0m \u001b[0;32mNone\u001b[0m\u001b[0;34m:\u001b[0m\u001b[0;34m\u001b[0m\u001b[0;34m\u001b[0m\u001b[0m\n",
            "\u001b[0;31mKeyboardInterrupt\u001b[0m: "
          ]
        }
      ]
    }
  ]
}
