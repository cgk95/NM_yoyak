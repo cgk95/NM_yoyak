{
  "nbformat": 4,
  "nbformat_minor": 0,
  "metadata": {
    "colab": {
      "name": "data_EDA.ipynb",
      "provenance": [],
      "collapsed_sections": []
    },
    "kernelspec": {
      "name": "python3",
      "display_name": "Python 3"
    },
    "language_info": {
      "name": "python"
    }
  },
  "cells": [
    {
      "cell_type": "code",
      "metadata": {
        "colab": {
          "base_uri": "https://localhost:8080/"
        },
        "id": "4j-wFDbsire9",
        "outputId": "1e9cf764-af05-4f0f-9bfd-53bedf877ffa"
      },
      "source": [
        "from google.colab import drive\n",
        "drive.mount('/content/drive')"
      ],
      "execution_count": null,
      "outputs": [
        {
          "output_type": "stream",
          "text": [
            "Drive already mounted at /content/drive; to attempt to forcibly remount, call drive.mount(\"/content/drive\", force_remount=True).\n"
          ],
          "name": "stdout"
        }
      ]
    },
    {
      "cell_type": "code",
      "metadata": {
        "colab": {
          "base_uri": "https://localhost:8080/"
        },
        "id": "Qxsf56czi9fc",
        "outputId": "866f98a7-82db-4ac2-9090-e4329f046009"
      },
      "source": [
        "from mpl_toolkits.mplot3d import Axes3D\n",
        "from sklearn.preprocessing import StandardScaler\n",
        "\n",
        "import matplotlib.pyplot as plt \n",
        "%matplotlib inline\n",
        "import numpy as np \n",
        "import os\n",
        "import pandas as pd \n",
        "import sys\n",
        "import seaborn as sns\n",
        "sns.set(style='white',context='notebook',palette='deep')\n",
        "\n",
        "if get_ipython():\n",
        "  print(\"google colab\")\n",
        "  PROJECT_DIR=os.path.abspath(os.path.join(os.path.dirname('__file__'),'..'))\n",
        "  from tqdm import tqdm_notebook as tqdm_notebook #토크나이저 출력이 한줄씩 나오는 것을 막기위함임\n",
        "else:\n",
        "  print(\"command shell envirment\")\n",
        "  PROJECT_DIR=os.path.abspath(os.path.join(os.path.dirname(__file__),'..'))\n",
        "  from tqdm import tqdm\n",
        "#sys.path에 PROJECT_DIR를 추가\n",
        "sys.path.insert(0,PROJECT_DIR)"
      ],
      "execution_count": null,
      "outputs": [
        {
          "output_type": "stream",
          "text": [
            "google colab\n"
          ],
          "name": "stdout"
        }
      ]
    },
    {
      "cell_type": "code",
      "metadata": {
        "colab": {
          "base_uri": "https://localhost:8080/"
        },
        "id": "ICQ6xnGNjMuj",
        "outputId": "3e9426ea-8b65-4bf6-9c2a-3510987f3b84"
      },
      "source": [
        "!pwd"
      ],
      "execution_count": null,
      "outputs": [
        {
          "output_type": "stream",
          "text": [
            "/content\n"
          ],
          "name": "stdout"
        }
      ]
    },
    {
      "cell_type": "code",
      "metadata": {
        "id": "S9UAKP6pkP1M"
      },
      "source": [
        "# 폴더 경로 : /content/drive/MyDrive/데이터캡스톤/CNN_DailyMail"
      ],
      "execution_count": null,
      "outputs": []
    },
    {
      "cell_type": "code",
      "metadata": {
        "colab": {
          "base_uri": "https://localhost:8080/"
        },
        "id": "K4xJTPQ3koI9",
        "outputId": "a7dd1e78-2d02-4497-8de5-0b49978f1c25"
      },
      "source": [
        "for dirname, _,filenames in os.walk('/content/drive/MyDrive/데이터캡스톤/CNN_DailyMail'):\n",
        "  for filename in filenames:\n",
        "    print(os.path.join(dirname,filename))\n"
      ],
      "execution_count": null,
      "outputs": [
        {
          "output_type": "stream",
          "text": [
            "/content/drive/MyDrive/데이터캡스톤/CNN_DailyMail/data_EDA.ipynb\n",
            "/content/drive/MyDrive/데이터캡스톤/CNN_DailyMail/cnn_dailymail-3.0.0_train_1000_aug-LM_repeat-10.csv\n",
            "/content/drive/MyDrive/데이터캡스톤/CNN_DailyMail/cnn_dailymail-3.0.0_train_1000_aug-no_aug_repeat-10.csv\n",
            "/content/drive/MyDrive/데이터캡스톤/CNN_DailyMail/cnn_dailymail-3.0.0_train_1000_aug-rules_repeat-10.csv\n",
            "/content/drive/MyDrive/데이터캡스톤/CNN_DailyMail/cnn_dailymail-3.0.0_train_100_aug-LM_repeat-100.csv\n",
            "/content/drive/MyDrive/데이터캡스톤/CNN_DailyMail/cnn_dailymail-3.0.0_train_100_aug-no_aug_repeat-100.csv\n",
            "/content/drive/MyDrive/데이터캡스톤/CNN_DailyMail/cnn_dailymail-3.0.0_train_100_aug-rules_repeat-100.csv\n",
            "/content/drive/MyDrive/데이터캡스톤/CNN_DailyMail/cnn_dailymail-3.0.0_train_5000_aug-LM_repeat-2.csv\n",
            "/content/drive/MyDrive/데이터캡스톤/CNN_DailyMail/cnn_dailymail-3.0.0_train_5000_aug-no_aug_repeat-2.csv\n",
            "/content/drive/MyDrive/데이터캡스톤/CNN_DailyMail/cnn_dailymail-3.0.0_train_5000_aug-rules_repeat-2.csv\n",
            "/content/drive/MyDrive/데이터캡스톤/CNN_DailyMail/cnn_dailymail-3.0.0_validation_all_aug-no_aug_repeat-1.csv\n",
            "/content/drive/MyDrive/데이터캡스톤/CNN_DailyMail/Cdata_EDA.ipynb\n"
          ],
          "name": "stdout"
        }
      ]
    },
    {
      "cell_type": "code",
      "metadata": {
        "id": "Jxa_82LPk7NH"
      },
      "source": [
        "# 컬럼데이타의 분포 플롯을 표시하기 위한 함수\n",
        "def plotPerColumnDistribution(df, nGraphShown, nGraphPerRow):\n",
        "    nunique = df.nunique()\n",
        "    df = df[[col for col in df if nunique[col] > 1 and nunique[col] < 50]] #1에서50의 유니크한 값을 가지고 있는 컬럼을 선택\n",
        "    nRow, nCol = df.shape\n",
        "    columnNames = list(df)\n",
        "    nGraphRow = (nCol + nGraphPerRow - 1) / nGraphPerRow\n",
        "    plt.figure(num = None, figsize = (6 * nGraphPerRow, 8 * nGraphRow), dpi = 80, facecolor = 'w', edgecolor = 'k')\n",
        "    for i in range(min(nCol, nGraphShown)):\n",
        "        plt.subplot(nGraphRow, nGraphPerRow, i + 1)\n",
        "        columnDf = df.iloc[:, i]\n",
        "        if (not np.issubdtype(type(columnDf.iloc[0]), np.number)):\n",
        "            valueCounts = columnDf.value_counts()\n",
        "            valueCounts.plot.bar()\n",
        "        else:\n",
        "            columnDf.hist()\n",
        "        plt.ylabel('counts')\n",
        "        plt.xticks(rotation = 90)\n",
        "        plt.title(f'{columnNames[i]} (column {i})')\n",
        "    plt.tight_layout(pad = 1.0, w_pad = 1.0, h_pad = 1.0)\n",
        "    plt.show()\n"
      ],
      "execution_count": null,
      "outputs": []
    },
    {
      "cell_type": "code",
      "metadata": {
        "id": "agPLEKyklVF4"
      },
      "source": [
        "# Correlation 매트릭스 함수\n",
        "def plotCorrelationMatrix(df, graphWidth):\n",
        "    filename = df.dataframeName\n",
        "    df = df.dropna('columns') # nan 값들 가진 놈들 다 떨굼\n",
        "    df = df[[col for col in df if df[col].nunique() > 1]] # 하나 이상의 특징값을 가진 놈들은 살려둠\n",
        "    if df.shape[1] < 2:\n",
        "        print(f'No correlation plots shown: The number of non-NaN or constant columns ({df.shape[1]}) is less than 2')\n",
        "        return\n",
        "    corr = df.corr()\n",
        "    plt.figure(num=None, figsize=(graphWidth, graphWidth), dpi=80, facecolor='w', edgecolor='k')\n",
        "    corrMat = plt.matshow(corr, fignum = 1)\n",
        "    plt.xticks(range(len(corr.columns)), corr.columns, rotation=90)\n",
        "    plt.yticks(range(len(corr.columns)), corr.columns)\n",
        "    plt.gca().xaxis.tick_bottom()\n",
        "    plt.colorbar(corrMat)\n",
        "    plt.title(f'Correlation Matrix for {filename}', fontsize=15)\n",
        "    plt.show()\n"
      ],
      "execution_count": null,
      "outputs": []
    },
    {
      "cell_type": "code",
      "metadata": {
        "id": "MhgGG1srlxIr"
      },
      "source": [
        "# Scatter 와 density 플롯함수\n",
        "def plotScatterMatrix(df, plotSize, textSize):\n",
        "    df = df.select_dtypes(include =[np.number]) #숫자로 된 놈들만 골라서\n",
        "    # 데이터 프레임을 단수로 만드는 컬럼과 로우를 지움\n",
        "    df = df.dropna('columns')\n",
        "    df = df[[col for col in df if df[col].nunique() > 1]] # 하나 이상의 특징값을 가진 놈들은 살려둠\n",
        "    columnNames = list(df)\n",
        "    if len(columnNames) > 10: # 컬럼수를 matrix inversion of kernel density plots를 위해 줄임\n",
        "        columnNames = columnNames[:10]\n",
        "    df = df[columnNames]\n",
        "    ax = pd.plotting.scatter_matrix(df, alpha=0.75, figsize=[plotSize, plotSize], diagonal='kde')\n",
        "    corrs = df.corr().values\n",
        "    for i, j in zip(*plt.np.triu_indices_from(ax, k = 1)):\n",
        "        ax[i, j].annotate('Corr. coef = %.3f' % corrs[i, j], (0.8, 0.2), xycoords='axes fraction', ha='center', va='center', size=textSize)\n",
        "    plt.suptitle('Scatter and Density Plot')\n",
        "    plt.show()\n"
      ],
      "execution_count": null,
      "outputs": []
    },
    {
      "cell_type": "code",
      "metadata": {
        "colab": {
          "base_uri": "https://localhost:8080/"
        },
        "id": "CfdsJxYcmQHS",
        "outputId": "748cceff-92c5-4c7e-fe72-226f314f3f39"
      },
      "source": [
        "nRowsRead = 1000 # 파일 전체를 다 읽어오기 위해서는 None을 입력\n",
        "# cnn_dailymail-3.0.0_train_1000_aug-LM.csv 은 더 많은 행이 있지만 일단 앞의 1000개를 불러오자.\n",
        "df1 = pd.read_csv('/content/drive/MyDrive/데이터캡스톤/CNN_DailyMail/cnn_dailymail-3.0.0_train_1000_aug-LM_repeat-10.csv', delimiter=',', nrows = nRowsRead)\n",
        "\n",
        "df1.dataframeName = 'cnn_dailymail-3.0.0_train_1000_aug-LM.csv'\n",
        "nRow, nCol = df1.shape\n",
        "print(f'There are {nRow} rows and {nCol} columns')"
      ],
      "execution_count": null,
      "outputs": [
        {
          "output_type": "stream",
          "text": [
            "There are 1000 rows and 4 columns\n"
          ],
          "name": "stdout"
        }
      ]
    },
    {
      "cell_type": "code",
      "metadata": {
        "colab": {
          "base_uri": "https://localhost:8080/",
          "height": 529
        },
        "id": "zpeKoBVamykz",
        "outputId": "425f788b-d42f-42b9-fd98-72b948a2ea5b"
      },
      "source": [
        "df1.head(10)"
      ],
      "execution_count": null,
      "outputs": [
        {
          "output_type": "execute_result",
          "data": {
            "text/html": [
              "<div>\n",
              "<style scoped>\n",
              "    .dataframe tbody tr th:only-of-type {\n",
              "        vertical-align: middle;\n",
              "    }\n",
              "\n",
              "    .dataframe tbody tr th {\n",
              "        vertical-align: top;\n",
              "    }\n",
              "\n",
              "    .dataframe thead th {\n",
              "        text-align: right;\n",
              "    }\n",
              "</style>\n",
              "<table border=\"1\" class=\"dataframe\">\n",
              "  <thead>\n",
              "    <tr style=\"text-align: right;\">\n",
              "      <th></th>\n",
              "      <th>Unnamed: 0</th>\n",
              "      <th>article</th>\n",
              "      <th>highlights</th>\n",
              "      <th>id</th>\n",
              "    </tr>\n",
              "  </thead>\n",
              "  <tbody>\n",
              "    <tr>\n",
              "      <th>0</th>\n",
              "      <td>0</td>\n",
              "      <td>It's official: U.S. President Barack Obama wan...</td>\n",
              "      <td>Syrian official: Obama climbed to the top of t...</td>\n",
              "      <td>0001d1afc246a7964130f43ae940af6bc6c57f01</td>\n",
              "    </tr>\n",
              "    <tr>\n",
              "      <th>1</th>\n",
              "      <td>1</td>\n",
              "      <td>(CNN) -- Usain Bolt rounded off the world cham...</td>\n",
              "      <td>Usain Bolt wins third gold of world championsh...</td>\n",
              "      <td>0002095e55fcbd3a2f366d9bf92a95433dc305ef</td>\n",
              "    </tr>\n",
              "    <tr>\n",
              "      <th>2</th>\n",
              "      <td>2</td>\n",
              "      <td>Kansas City, Missouri (CNN) -- The General Ser...</td>\n",
              "      <td>The employee in agency's Kansas City office is...</td>\n",
              "      <td>00027e965c8264c35cc1bc55556db388da82b07f</td>\n",
              "    </tr>\n",
              "    <tr>\n",
              "      <th>3</th>\n",
              "      <td>3</td>\n",
              "      <td>Los Angeles (CNN) -- A medical doctor in Vanco...</td>\n",
              "      <td>NEW: A Canadian doctor says she was part of a ...</td>\n",
              "      <td>0002c17436637c4fe1837c935c04de47adb18e9a</td>\n",
              "    </tr>\n",
              "    <tr>\n",
              "      <th>4</th>\n",
              "      <td>4</td>\n",
              "      <td>(CNN) -- Police arrested another teen Thursday...</td>\n",
              "      <td>Another arrest made in gang rape outside Calif...</td>\n",
              "      <td>0003ad6ef0c37534f80b55b4235108024b407f0b</td>\n",
              "    </tr>\n",
              "    <tr>\n",
              "      <th>5</th>\n",
              "      <td>5</td>\n",
              "      <td>(CNN) -- Thousands on Saturday fled the area i...</td>\n",
              "      <td>Humanitarian groups expect 4,000 refugees in o...</td>\n",
              "      <td>0004306354494f090ee2d7bc5ddbf80b63e80de6</td>\n",
              "    </tr>\n",
              "    <tr>\n",
              "      <th>6</th>\n",
              "      <td>6</td>\n",
              "      <td>(CNN) -- Four groups that advocate for immigra...</td>\n",
              "      <td>NEW: 4 groups announce legal challenge in Phoe...</td>\n",
              "      <td>0005d61497d21ff37a17751829bd7e3b6e4a7c5c</td>\n",
              "    </tr>\n",
              "    <tr>\n",
              "      <th>7</th>\n",
              "      <td>7</td>\n",
              "      <td>While Labor Day is the unofficial end of summe...</td>\n",
              "      <td>Labor Day is the unofficial end of summer and ...</td>\n",
              "      <td>0006021f772fad0aa78a977ce4a31b3faa6e6fe5</td>\n",
              "    </tr>\n",
              "    <tr>\n",
              "      <th>8</th>\n",
              "      <td>8</td>\n",
              "      <td>Gaza City (CNN) -- An Italian humanitarian act...</td>\n",
              "      <td>NEW: Autopsy indicates he had been dead for ho...</td>\n",
              "      <td>00083697263e215e5e7eda753070f08aa374dd45</td>\n",
              "    </tr>\n",
              "    <tr>\n",
              "      <th>9</th>\n",
              "      <td>9</td>\n",
              "      <td>(CNN) -- Renowned radio personality Casey Kase...</td>\n",
              "      <td>The radio personality was taken to a hospital ...</td>\n",
              "      <td>000940f2bb357ac04a236a232156d8b9b18d1667</td>\n",
              "    </tr>\n",
              "  </tbody>\n",
              "</table>\n",
              "</div>"
            ],
            "text/plain": [
              "   Unnamed: 0  ...                                        id\n",
              "0           0  ...  0001d1afc246a7964130f43ae940af6bc6c57f01\n",
              "1           1  ...  0002095e55fcbd3a2f366d9bf92a95433dc305ef\n",
              "2           2  ...  00027e965c8264c35cc1bc55556db388da82b07f\n",
              "3           3  ...  0002c17436637c4fe1837c935c04de47adb18e9a\n",
              "4           4  ...  0003ad6ef0c37534f80b55b4235108024b407f0b\n",
              "5           5  ...  0004306354494f090ee2d7bc5ddbf80b63e80de6\n",
              "6           6  ...  0005d61497d21ff37a17751829bd7e3b6e4a7c5c\n",
              "7           7  ...  0006021f772fad0aa78a977ce4a31b3faa6e6fe5\n",
              "8           8  ...  00083697263e215e5e7eda753070f08aa374dd45\n",
              "9           9  ...  000940f2bb357ac04a236a232156d8b9b18d1667\n",
              "\n",
              "[10 rows x 4 columns]"
            ]
          },
          "metadata": {
            "tags": []
          },
          "execution_count": 10
        }
      ]
    },
    {
      "cell_type": "code",
      "metadata": {
        "colab": {
          "base_uri": "https://localhost:8080/",
          "height": 137
        },
        "id": "xZTyA5PLnA0c",
        "outputId": "30c2580f-fbff-466f-c0f8-f892f2acd46b"
      },
      "source": [
        "df1.article[0]"
      ],
      "execution_count": null,
      "outputs": [
        {
          "output_type": "execute_result",
          "data": {
            "application/vnd.google.colaboratory.intrinsic+json": {
              "type": "string"
            },
            "text/plain": [
              "'It\\'s official: U.S. President Barack Obama wants lawmakers to weigh in on whether to use military force in Syria. Obama sent a letter to the heads of the House and Senate on Saturday night, hours after announcing that he believes military action against Syrian targets is the right step to take over the alleged use of chemical weapons. The proposed legislation from Obama asks Congress to approve the use of military force \"to deter, disrupt, prevent and degrade the potential for future uses of chemical weapons or other weapons of mass destruction.\" It\\'s a step that is set to turn an international crisis into a fierce domestic political battle. There are key questions looming over the debate: What did U.N. weapons inspectors find in Syria? What happens if Congress votes no? And how will the Syrian government react? In a televised address from the White House Rose Garden earlier Saturday, the president said he would take his case to Congress, not because he has to -- but because he wants to. \"While I believe I have the authority to carry out this military action without specific congressional authorization, I know that the country will be stronger if we take this course, and our actions will be even more effective,\" he said. \"We should have this debate, because the issues are too big for business as usual.\" Obama said top congressional leaders had agreed to schedule a debate when the body returns to Washington on September 9. The Senate Foreign Relations Committee will hold a hearing over the matter on Tuesday, Sen. Robert Menendez said. Transcript: Read Obama\\'s full remarks . Syrian crisis: Latest developments . U.N. inspectors leave Syria . Obama\\'s remarks came shortly after U.N. inspectors left Syria, carrying evidence that will determine whether chemical weapons were used in an attack early last week in a Damascus suburb. \"The aim of the game here, the mandate, is very clear -- and that is to ascertain whether chemical weapons were used -- and not by whom,\" U.N. spokesman Martin Nesirky told reporters on Saturday. But who used the weapons in the reported toxic gas attack in a Damascus suburb on August 21 has been a key point of global debate over the Syrian crisis. Top U.S. officials have said there\\'s no doubt that the Syrian government was behind it, while Syrian officials have denied responsibility and blamed jihadists fighting with the rebels. British and U.S. intelligence reports say the attack involved chemical weapons, but U.N. officials have stressed the importance of waiting for an official report from inspectors. The inspectors will share their findings with U.N. Secretary-General Ban Ki-moon Ban, who has said he wants to wait until the U.N. team\\'s final report is completed before presenting it to the U.N. Security Council. The Organization for the Prohibition of Chemical Weapons, which nine of the inspectors belong to, said Saturday that it could take up to three weeks to analyze the evidence they collected. \"It needs time to be able to analyze the information and the samples,\" Nesirky said. He noted that Ban has repeatedly said there is no alternative to a political solution to the crisis in Syria, and that \"a military solution is not an option.\" Bergen:  Syria is a problem from hell for the U.S. Obama: \\'This menace must be confronted\\' Obama\\'s senior advisers have debated the next steps to take, and the president\\'s comments Saturday came amid mounting political pressure over the situation in Syria. Some U.S. lawmakers have called for immediate action while others warn of stepping into what could become a quagmire. Some global leaders have expressed support, but the British Parliament\\'s vote against military action earlier this week was a blow to Obama\\'s hopes of getting strong backing from key NATO allies. On Saturday, Obama proposed what he said would be a limited military action against Syrian President Bashar al-Assad. Any military attack would not be open-ended or include U.S. ground forces, he said. Syria\\'s alleged use of chemical weapons earlier this month \"is an assault on human dignity,\" the president said. A failure to respond with force, Obama argued,  \"could lead to escalating use of chemical weapons or their proliferation to terrorist groups who would do our people harm. In a world with many dangers, this menace must be confronted.\" Syria missile strike: What would happen next? Map: U.S. and allied assets around Syria . Obama decision came Friday night . On Friday night, the president made a last-minute decision to consult lawmakers. What will happen if they vote no? It\\'s unclear. A senior administration official told CNN that Obama has the authority to act without Congress -- even if Congress rejects his request for authorization to use force. Obama on Saturday continued to shore up support for a strike on the al-Assad government. He spoke by phone with French President Francois Hollande before his Rose Garden speech. \"The two leaders agreed that the international community must deliver a resolute message to the Assad regime -- and others who would consider using chemical weapons -- that these crimes are unacceptable and those who violate this international norm will be held accountable by the world,\" the White House said. Meanwhile, as uncertainty loomed over how Congress would weigh in, U.S. military officials said they remained at the ready. 5 key assertions: U.S. intelligence report on Syria . Syria: Who wants what after chemical weapons horror . Reactions mixed to Obama\\'s speech . A spokesman for the Syrian National Coalition said that the opposition group was disappointed by Obama\\'s announcement. \"Our fear now is that the lack of action could embolden the regime and they repeat his attacks in a more serious way,\" said spokesman Louay Safi. \"So we are quite concerned.\" Some members of Congress applauded Obama\\'s decision. House Speaker John Boehner, Majority Leader Eric Cantor, Majority Whip Kevin McCarthy and Conference Chair Cathy McMorris Rodgers issued a statement Saturday praising the president. \"Under the Constitution, the responsibility to declare war lies with Congress,\" the Republican lawmakers said. \"We are glad the president is seeking authorization for any military action in Syria in response to serious, substantive questions being raised.\" More than 160 legislators, including 63 of Obama\\'s fellow Democrats, had signed letters calling for either a vote or at least a \"full debate\" before any U.S. action. British Prime Minister David Cameron, whose own attempt to get lawmakers in his country to support military action in Syria failed earlier this week, responded to Obama\\'s speech in a Twitter post Saturday. \"I understand and support Barack Obama\\'s position on Syria,\" Cameron said. An influential lawmaker in Russia -- which has stood by Syria and criticized the United States -- had his own theory. \"The main reason Obama is turning to the Congress:  the military operation did not get enough support either in the world, among allies of the US or in the United States itself,\" Alexei Pushkov, chairman of the international-affairs committee of the Russian State Duma, said in a Twitter post. In the United States, scattered groups of anti-war protesters around the country took to the streets Saturday. \"Like many other Americans...we\\'re just tired of the United States getting involved and invading and bombing other countries,\" said Robin Rosecrans, who was among hundreds at a Los Angeles demonstration. What do Syria\\'s neighbors think? Why Russia, China, Iran stand by Assad . Syria\\'s government unfazed . After Obama\\'s speech, a military and political analyst on Syrian state TV said Obama is \"embarrassed\" that Russia opposes military action against Syria, is \"crying for help\" for someone to come to his rescue and is facing two defeats -- on the political and military levels. Syria\\'s prime minister appeared unfazed by the saber-rattling. \"The Syrian Army\\'s status is on maximum readiness and fingers are on the trigger to confront all challenges,\" Wael Nader al-Halqi said during a meeting with a delegation of Syrian expatriates from Italy, according to a banner on Syria State TV that was broadcast prior to Obama\\'s address. An anchor on Syrian state television said Obama \"appeared to be preparing for an aggression on Syria based on repeated lies.\" A top Syrian diplomat told the state television network that Obama was facing pressure to take military action from Israel, Turkey, some Arabs and right-wing extremists in the United States. \"I think he has done well by doing what Cameron did in terms of taking the issue to Parliament,\" said Bashar Jaafari, Syria\\'s ambassador to the United Nations. Both Obama and Cameron, he said, \"climbed to the top of the tree and don\\'t know how to get down.\" The Syrian government has denied that it used chemical weapons in the August 21 attack, saying that jihadists fighting with the rebels used them in an effort to turn global sentiments against it. British intelligence had put the number of people killed in the attack at more than 350. On Saturday, Obama said \"all told, well over 1,000 people were murdered.\" U.S. Secretary of State John Kerry on Friday cited a death toll of 1,429, more than 400 of them children. No explanation was offered for the discrepancy. Iran: U.S. military action in Syria would spark \\'disaster\\' Opinion: Why strikes in Syria are a bad idea .'"
            ]
          },
          "metadata": {
            "tags": []
          },
          "execution_count": 11
        }
      ]
    },
    {
      "cell_type": "code",
      "metadata": {
        "colab": {
          "base_uri": "https://localhost:8080/",
          "height": 51
        },
        "id": "h_1MRQ2QnGfb",
        "outputId": "cabccf77-87c4-4bf3-9e86-7731c2a90d8d"
      },
      "source": [
        "df1.highlights[0]"
      ],
      "execution_count": null,
      "outputs": [
        {
          "output_type": "execute_result",
          "data": {
            "application/vnd.google.colaboratory.intrinsic+json": {
              "type": "string"
            },
            "text/plain": [
              "'Syrian official: Obama climbed to the top of the tree, \"doesn\\'t know how to get down\"\\nObama sends a letter to the heads of the House and Senate .\\nObama to seek congressional approval on military action against Syria .\\nAim is to determine whether CW were used, not by whom, says U.N. spokesman .'"
            ]
          },
          "metadata": {
            "tags": []
          },
          "execution_count": 12
        }
      ]
    },
    {
      "cell_type": "code",
      "metadata": {
        "colab": {
          "base_uri": "https://localhost:8080/",
          "height": 34
        },
        "id": "g_ts424ZnI1c",
        "outputId": "32cf8391-1b28-4e6f-d048-74d11b9cac3a"
      },
      "source": [
        "plotPerColumnDistribution(df1,10,5)"
      ],
      "execution_count": null,
      "outputs": [
        {
          "output_type": "display_data",
          "data": {
            "text/plain": [
              "<Figure size 2400x512 with 0 Axes>"
            ]
          },
          "metadata": {
            "tags": []
          }
        }
      ]
    },
    {
      "cell_type": "code",
      "metadata": {
        "colab": {
          "base_uri": "https://localhost:8080/"
        },
        "id": "D0ZNUB2mnVIo",
        "outputId": "c2f3ea32-490a-4af7-f3fa-5f4b4785fe22"
      },
      "source": [
        "nRowsRead = 1000\n",
        "\n",
        "df2 = pd.read_csv('/content/drive/MyDrive/데이터캡스톤/CNN_DailyMail/cnn_dailymail-3.0.0_train_1000_aug-no_aug_repeat-10.csv', delimiter=',', nrows = nRowsRead)\n",
        "df2.dataframeName = 'cnn_dailymail-3.0.0_train_1000_aug-no_aug.csv'\n",
        "nRow, nCol = df2.shape\n",
        "print(f'There are {nRow} rows and {nCol} columns')"
      ],
      "execution_count": null,
      "outputs": [
        {
          "output_type": "stream",
          "text": [
            "There are 1000 rows and 4 columns\n"
          ],
          "name": "stdout"
        }
      ]
    },
    {
      "cell_type": "code",
      "metadata": {
        "colab": {
          "base_uri": "https://localhost:8080/",
          "height": 289
        },
        "id": "Afhd5MT4npDz",
        "outputId": "7db232f1-6f48-4933-fe42-1b98d500da16"
      },
      "source": [
        "df2.head(5)"
      ],
      "execution_count": null,
      "outputs": [
        {
          "output_type": "execute_result",
          "data": {
            "text/html": [
              "<div>\n",
              "<style scoped>\n",
              "    .dataframe tbody tr th:only-of-type {\n",
              "        vertical-align: middle;\n",
              "    }\n",
              "\n",
              "    .dataframe tbody tr th {\n",
              "        vertical-align: top;\n",
              "    }\n",
              "\n",
              "    .dataframe thead th {\n",
              "        text-align: right;\n",
              "    }\n",
              "</style>\n",
              "<table border=\"1\" class=\"dataframe\">\n",
              "  <thead>\n",
              "    <tr style=\"text-align: right;\">\n",
              "      <th></th>\n",
              "      <th>Unnamed: 0</th>\n",
              "      <th>article</th>\n",
              "      <th>highlights</th>\n",
              "      <th>id</th>\n",
              "    </tr>\n",
              "  </thead>\n",
              "  <tbody>\n",
              "    <tr>\n",
              "      <th>0</th>\n",
              "      <td>0</td>\n",
              "      <td>It's official: U.S. President Barack Obama wan...</td>\n",
              "      <td>Syrian official: Obama climbed to the top of t...</td>\n",
              "      <td>0001d1afc246a7964130f43ae940af6bc6c57f01</td>\n",
              "    </tr>\n",
              "    <tr>\n",
              "      <th>1</th>\n",
              "      <td>1</td>\n",
              "      <td>(CNN) -- Usain Bolt rounded off the world cham...</td>\n",
              "      <td>Usain Bolt wins third gold of world championsh...</td>\n",
              "      <td>0002095e55fcbd3a2f366d9bf92a95433dc305ef</td>\n",
              "    </tr>\n",
              "    <tr>\n",
              "      <th>2</th>\n",
              "      <td>2</td>\n",
              "      <td>Kansas City, Missouri (CNN) -- The General Ser...</td>\n",
              "      <td>The employee in agency's Kansas City office is...</td>\n",
              "      <td>00027e965c8264c35cc1bc55556db388da82b07f</td>\n",
              "    </tr>\n",
              "    <tr>\n",
              "      <th>3</th>\n",
              "      <td>3</td>\n",
              "      <td>Los Angeles (CNN) -- A medical doctor in Vanco...</td>\n",
              "      <td>NEW: A Canadian doctor says she was part of a ...</td>\n",
              "      <td>0002c17436637c4fe1837c935c04de47adb18e9a</td>\n",
              "    </tr>\n",
              "    <tr>\n",
              "      <th>4</th>\n",
              "      <td>4</td>\n",
              "      <td>(CNN) -- Police arrested another teen Thursday...</td>\n",
              "      <td>Another arrest made in gang rape outside Calif...</td>\n",
              "      <td>0003ad6ef0c37534f80b55b4235108024b407f0b</td>\n",
              "    </tr>\n",
              "  </tbody>\n",
              "</table>\n",
              "</div>"
            ],
            "text/plain": [
              "   Unnamed: 0  ...                                        id\n",
              "0           0  ...  0001d1afc246a7964130f43ae940af6bc6c57f01\n",
              "1           1  ...  0002095e55fcbd3a2f366d9bf92a95433dc305ef\n",
              "2           2  ...  00027e965c8264c35cc1bc55556db388da82b07f\n",
              "3           3  ...  0002c17436637c4fe1837c935c04de47adb18e9a\n",
              "4           4  ...  0003ad6ef0c37534f80b55b4235108024b407f0b\n",
              "\n",
              "[5 rows x 4 columns]"
            ]
          },
          "metadata": {
            "tags": []
          },
          "execution_count": 15
        }
      ]
    },
    {
      "cell_type": "code",
      "metadata": {
        "colab": {
          "base_uri": "https://localhost:8080/",
          "height": 34
        },
        "id": "108wi8bPn9R6",
        "outputId": "8d629295-f563-4449-a875-0aecbed7bb6b"
      },
      "source": [
        "plotPerColumnDistribution(df2, 10, 5)"
      ],
      "execution_count": null,
      "outputs": [
        {
          "output_type": "display_data",
          "data": {
            "text/plain": [
              "<Figure size 2400x512 with 0 Axes>"
            ]
          },
          "metadata": {
            "tags": []
          }
        }
      ]
    },
    {
      "cell_type": "code",
      "metadata": {
        "colab": {
          "base_uri": "https://localhost:8080/"
        },
        "id": "jbx67ZdnoBRy",
        "outputId": "5b8cad6a-9a4a-4602-9ff5-758abec13975"
      },
      "source": [
        "nRowsRead = 1000\n",
        "\n",
        "df3 = pd.read_csv('/content/drive/MyDrive/데이터캡스톤/CNN_DailyMail/cnn_dailymail-3.0.0_train_1000_aug-rules_repeat-10.csv', delimiter=',', nrows = nRowsRead)\n",
        "df3.dataframeName = 'cnn_dailymail-3.0.0_train_1000_aug-rules.csv'\n",
        "nRow, nCol = df3.shape\n",
        "print(f'There are {nRow} rows and {nCol} columns')"
      ],
      "execution_count": null,
      "outputs": [
        {
          "output_type": "stream",
          "text": [
            "There are 1000 rows and 4 columns\n"
          ],
          "name": "stdout"
        }
      ]
    },
    {
      "cell_type": "code",
      "metadata": {
        "colab": {
          "base_uri": "https://localhost:8080/",
          "height": 289
        },
        "id": "GAuI3bGroTUd",
        "outputId": "a4665d05-8b0c-45d2-9085-33ce10b181a2"
      },
      "source": [
        "df3.head(5)"
      ],
      "execution_count": null,
      "outputs": [
        {
          "output_type": "execute_result",
          "data": {
            "text/html": [
              "<div>\n",
              "<style scoped>\n",
              "    .dataframe tbody tr th:only-of-type {\n",
              "        vertical-align: middle;\n",
              "    }\n",
              "\n",
              "    .dataframe tbody tr th {\n",
              "        vertical-align: top;\n",
              "    }\n",
              "\n",
              "    .dataframe thead th {\n",
              "        text-align: right;\n",
              "    }\n",
              "</style>\n",
              "<table border=\"1\" class=\"dataframe\">\n",
              "  <thead>\n",
              "    <tr style=\"text-align: right;\">\n",
              "      <th></th>\n",
              "      <th>Unnamed: 0</th>\n",
              "      <th>article</th>\n",
              "      <th>highlights</th>\n",
              "      <th>id</th>\n",
              "    </tr>\n",
              "  </thead>\n",
              "  <tbody>\n",
              "    <tr>\n",
              "      <th>0</th>\n",
              "      <td>0</td>\n",
              "      <td>It's official: U.S. President Barack Obama wan...</td>\n",
              "      <td>Syrian official: Obama climbed to the top of t...</td>\n",
              "      <td>0001d1afc246a7964130f43ae940af6bc6c57f01</td>\n",
              "    </tr>\n",
              "    <tr>\n",
              "      <th>1</th>\n",
              "      <td>1</td>\n",
              "      <td>(CNN) -- Usain Bolt rounded off the world cham...</td>\n",
              "      <td>Usain Bolt wins third gold of world championsh...</td>\n",
              "      <td>0002095e55fcbd3a2f366d9bf92a95433dc305ef</td>\n",
              "    </tr>\n",
              "    <tr>\n",
              "      <th>2</th>\n",
              "      <td>2</td>\n",
              "      <td>Kansas City, Missouri (CNN) -- The General Ser...</td>\n",
              "      <td>The employee in agency's Kansas City office is...</td>\n",
              "      <td>00027e965c8264c35cc1bc55556db388da82b07f</td>\n",
              "    </tr>\n",
              "    <tr>\n",
              "      <th>3</th>\n",
              "      <td>3</td>\n",
              "      <td>Los Angeles (CNN) -- A medical doctor in Vanco...</td>\n",
              "      <td>NEW: A Canadian doctor says she was part of a ...</td>\n",
              "      <td>0002c17436637c4fe1837c935c04de47adb18e9a</td>\n",
              "    </tr>\n",
              "    <tr>\n",
              "      <th>4</th>\n",
              "      <td>4</td>\n",
              "      <td>(CNN) -- Police arrested another teen Thursday...</td>\n",
              "      <td>Another arrest made in gang rape outside Calif...</td>\n",
              "      <td>0003ad6ef0c37534f80b55b4235108024b407f0b</td>\n",
              "    </tr>\n",
              "  </tbody>\n",
              "</table>\n",
              "</div>"
            ],
            "text/plain": [
              "   Unnamed: 0  ...                                        id\n",
              "0           0  ...  0001d1afc246a7964130f43ae940af6bc6c57f01\n",
              "1           1  ...  0002095e55fcbd3a2f366d9bf92a95433dc305ef\n",
              "2           2  ...  00027e965c8264c35cc1bc55556db388da82b07f\n",
              "3           3  ...  0002c17436637c4fe1837c935c04de47adb18e9a\n",
              "4           4  ...  0003ad6ef0c37534f80b55b4235108024b407f0b\n",
              "\n",
              "[5 rows x 4 columns]"
            ]
          },
          "metadata": {
            "tags": []
          },
          "execution_count": 18
        }
      ]
    },
    {
      "cell_type": "code",
      "metadata": {
        "colab": {
          "base_uri": "https://localhost:8080/",
          "height": 34
        },
        "id": "euF2N3fKobQw",
        "outputId": "0b6881be-3fe2-4a3b-cbc1-2ea94209c7ef"
      },
      "source": [
        "plotPerColumnDistribution(df3,10,5)"
      ],
      "execution_count": null,
      "outputs": [
        {
          "output_type": "display_data",
          "data": {
            "text/plain": [
              "<Figure size 2400x512 with 0 Axes>"
            ]
          },
          "metadata": {
            "tags": []
          }
        }
      ]
    },
    {
      "cell_type": "code",
      "metadata": {
        "colab": {
          "base_uri": "https://localhost:8080/",
          "height": 465
        },
        "id": "_wU0ewb8ohUb",
        "outputId": "d70db817-0f86-459f-dfa1-92073c3b01ba"
      },
      "source": [
        "#df1 기사의 문장 개수를 세어보자.\n",
        "original_sent_counts=df1['article'].apply(len)\n",
        "\n",
        "fig,axs=plt.subplots(1,2,figsize=(16,6),gridspec_kw=dict(width_ratios=[4,3]))\n",
        "sns.histplot(original_sent_counts,binwidth=1,ax=axs[0])\n",
        "sns.boxplot(original_sent_counts,ax=axs[1])\n"
      ],
      "execution_count": null,
      "outputs": [
        {
          "output_type": "stream",
          "text": [
            "/usr/local/lib/python3.7/dist-packages/seaborn/_decorators.py:43: FutureWarning: Pass the following variable as a keyword arg: x. From version 0.12, the only valid positional argument will be `data`, and passing other arguments without an explicit keyword will result in an error or misinterpretation.\n",
            "  FutureWarning\n"
          ],
          "name": "stderr"
        },
        {
          "output_type": "execute_result",
          "data": {
            "text/plain": [
              "<matplotlib.axes._subplots.AxesSubplot at 0x7fa1bc763590>"
            ]
          },
          "metadata": {
            "tags": []
          },
          "execution_count": 20
        },
        {
          "output_type": "display_data",
          "data": {
            "image/png": "[encoded data removed]",
            "text/plain": [
              "<Figure size 1152x432 with 2 Axes>"
            ]
          },
          "metadata": {
            "tags": []
          }
        }
      ]
    },
    {
      "cell_type": "code",
      "metadata": {
        "colab": {
          "base_uri": "https://localhost:8080/"
        },
        "id": "VnbP4mGcslAa",
        "outputId": "5ac8803d-aaf1-40f8-fb9d-d6119066fdc4"
      },
      "source": [
        "original_sent_counts.describe()\n",
        "#평균적으로 한 기사당 3946개의 문장으로 이루어져 있다...!"
      ],
      "execution_count": null,
      "outputs": [
        {
          "output_type": "execute_result",
          "data": {
            "text/plain": [
              "count     1000.000000\n",
              "mean      3946.082000\n",
              "std       2051.519725\n",
              "min        310.000000\n",
              "25%       2224.750000\n",
              "50%       3669.000000\n",
              "75%       5338.000000\n",
              "max      10461.000000\n",
              "Name: article, dtype: float64"
            ]
          },
          "metadata": {
            "tags": []
          },
          "execution_count": 21
        }
      ]
    },
    {
      "cell_type": "code",
      "metadata": {
        "colab": {
          "base_uri": "https://localhost:8080/",
          "height": 465
        },
        "id": "l4-X5VtD6u-X",
        "outputId": "1f47fc44-2792-4265-c170-7c9ddddb64bd"
      },
      "source": [
        "#그렇다면 요약문장은?\n",
        "highlights_sent_counts=df1['highlights'].apply(len)\n",
        "\n",
        "fig,axs=plt.subplots(1,2,figsize=(16,6),gridspec_kw=dict(width_ratios=[4,3]))\n",
        "sns.histplot(highlights_sent_counts,binwidth=1,ax=axs[0])\n",
        "sns.boxplot(highlights_sent_counts,ax=axs[1])\n"
      ],
      "execution_count": null,
      "outputs": [
        {
          "output_type": "stream",
          "text": [
            "/usr/local/lib/python3.7/dist-packages/seaborn/_decorators.py:43: FutureWarning: Pass the following variable as a keyword arg: x. From version 0.12, the only valid positional argument will be `data`, and passing other arguments without an explicit keyword will result in an error or misinterpretation.\n",
            "  FutureWarning\n"
          ],
          "name": "stderr"
        },
        {
          "output_type": "execute_result",
          "data": {
            "text/plain": [
              "<matplotlib.axes._subplots.AxesSubplot at 0x7fa1bc1fe350>"
            ]
          },
          "metadata": {
            "tags": []
          },
          "execution_count": 22
        },
        {
          "output_type": "display_data",
          "data": {
            "image/png": "[encoded data removed]",
            "text/plain": [
              "<Figure size 1152x432 with 2 Axes>"
            ]
          },
          "metadata": {
            "tags": []
          }
        }
      ]
    },
    {
      "cell_type": "code",
      "metadata": {
        "colab": {
          "base_uri": "https://localhost:8080/"
        },
        "id": "YHDylnSt69rM",
        "outputId": "a3eb9763-f049-43cd-e10a-760a0c358c39"
      },
      "source": [
        "highlights_sent_counts.describe()\n",
        "# 평균적으로 267개의 문장으로 이루어져 있다...!"
      ],
      "execution_count": null,
      "outputs": [
        {
          "output_type": "execute_result",
          "data": {
            "text/plain": [
              "count    1000.000000\n",
              "mean      267.023000\n",
              "std        56.415398\n",
              "min        82.000000\n",
              "25%       228.000000\n",
              "50%       272.000000\n",
              "75%       310.000000\n",
              "max       421.000000\n",
              "Name: highlights, dtype: float64"
            ]
          },
          "metadata": {
            "tags": []
          },
          "execution_count": 23
        }
      ]
    },
    {
      "cell_type": "code",
      "metadata": {
        "colab": {
          "base_uri": "https://localhost:8080/",
          "height": 465
        },
        "id": "S1A3v9shtHgA",
        "outputId": "ba62fac4-eb09-411b-86d0-e22a02e7cbf2"
      },
      "source": [
        "original_word_counts=df1['article'].apply(lambda x:len(' '.join(x).split(' '))) # 공백을 기준으로 스플릿\n",
        "\n",
        "fig,axs=plt.subplots(1,2,figsize=(16,6),gridspec_kw=dict(width_ratios=[4,3]))\n",
        "sns.histplot(original_word_counts,binwidth=1,ax=axs[0])\n",
        "sns.boxplot(original_word_counts,ax=axs[1])"
      ],
      "execution_count": null,
      "outputs": [
        {
          "output_type": "stream",
          "text": [
            "/usr/local/lib/python3.7/dist-packages/seaborn/_decorators.py:43: FutureWarning: Pass the following variable as a keyword arg: x. From version 0.12, the only valid positional argument will be `data`, and passing other arguments without an explicit keyword will result in an error or misinterpretation.\n",
            "  FutureWarning\n"
          ],
          "name": "stderr"
        },
        {
          "output_type": "execute_result",
          "data": {
            "text/plain": [
              "<matplotlib.axes._subplots.AxesSubplot at 0x7fa1b50f3050>"
            ]
          },
          "metadata": {
            "tags": []
          },
          "execution_count": 24
        },
        {
          "output_type": "display_data",
          "data": {
            "image/png": "[encoded data removed]",
            "text/plain": [
              "<Figure size 1152x432 with 2 Axes>"
            ]
          },
          "metadata": {
            "tags": []
          }
        }
      ]
    },
    {
      "cell_type": "code",
      "metadata": {
        "colab": {
          "base_uri": "https://localhost:8080/"
        },
        "id": "cIG09itVtT5j",
        "outputId": "7ce6c7ca-7d86-4c8f-a572-2f75ffe0474c"
      },
      "source": [
        "original_word_counts.describe()\n",
        "#기사 원문은 평균적으로 4605개의 단어로 이루어져 있다...!"
      ],
      "execution_count": null,
      "outputs": [
        {
          "output_type": "execute_result",
          "data": {
            "text/plain": [
              "count     1000.000000\n",
              "mean      4605.983000\n",
              "std       2394.459901\n",
              "min        361.000000\n",
              "25%       2601.250000\n",
              "50%       4278.000000\n",
              "75%       6217.250000\n",
              "max      12172.000000\n",
              "Name: article, dtype: float64"
            ]
          },
          "metadata": {
            "tags": []
          },
          "execution_count": 25
        }
      ]
    },
    {
      "cell_type": "code",
      "metadata": {
        "colab": {
          "base_uri": "https://localhost:8080/",
          "height": 465
        },
        "id": "ZxQ0ZvFo7LVj",
        "outputId": "7e70825f-f08e-42fb-8006-d6d21e5d6ae3"
      },
      "source": [
        "highlights_word_counts=df1['highlights'].apply(lambda x:len(' '.join(x).split(' '))) # 공백을 기준으로 스플릿\n",
        "\n",
        "fig,axs=plt.subplots(1,2,figsize=(16,6),gridspec_kw=dict(width_ratios=[4,3]))\n",
        "sns.histplot(highlights_word_counts,binwidth=1,ax=axs[0])\n",
        "sns.boxplot(highlights_word_counts,ax=axs[1])"
      ],
      "execution_count": null,
      "outputs": [
        {
          "output_type": "stream",
          "text": [
            "/usr/local/lib/python3.7/dist-packages/seaborn/_decorators.py:43: FutureWarning: Pass the following variable as a keyword arg: x. From version 0.12, the only valid positional argument will be `data`, and passing other arguments without an explicit keyword will result in an error or misinterpretation.\n",
            "  FutureWarning\n"
          ],
          "name": "stderr"
        },
        {
          "output_type": "execute_result",
          "data": {
            "text/plain": [
              "<matplotlib.axes._subplots.AxesSubplot at 0x7fa1b30cce50>"
            ]
          },
          "metadata": {
            "tags": []
          },
          "execution_count": 26
        },
        {
          "output_type": "display_data",
          "data": {
            "image/png": "[encoded data removed]",
            "text/plain": [
              "<Figure size 1152x432 with 2 Axes>"
            ]
          },
          "metadata": {
            "tags": []
          }
        }
      ]
    },
    {
      "cell_type": "code",
      "metadata": {
        "colab": {
          "base_uri": "https://localhost:8080/"
        },
        "id": "weCt3H9s7Vpj",
        "outputId": "6cb23f1b-e14b-408d-a943-3adbba57c7e9"
      },
      "source": [
        "highlights_word_counts.describe()\n",
        "#평균적으로 309개의 단어로 이루어져있다?\n",
        "#앞서 267개의 문장으로 이루어졌음을 확인하였는데, 단어수가 309개인 것은 너무 적다. 무언가 문제가 있는것 같다."
      ],
      "execution_count": null,
      "outputs": [
        {
          "output_type": "execute_result",
          "data": {
            "text/plain": [
              "count    1000.000000\n",
              "mean      309.264000\n",
              "std        65.267405\n",
              "min        93.000000\n",
              "25%       264.000000\n",
              "50%       315.000000\n",
              "75%       358.250000\n",
              "max       489.000000\n",
              "Name: highlights, dtype: float64"
            ]
          },
          "metadata": {
            "tags": []
          },
          "execution_count": 27
        }
      ]
    },
    {
      "cell_type": "code",
      "metadata": {
        "colab": {
          "base_uri": "https://localhost:8080/",
          "height": 137
        },
        "id": "DxI-Gy3ctqTt",
        "outputId": "f9ff6325-1db0-4685-d14b-aafaf742ef4e"
      },
      "source": [
        "df1['article'][3]"
      ],
      "execution_count": null,
      "outputs": [
        {
          "output_type": "execute_result",
          "data": {
            "application/vnd.google.colaboratory.intrinsic+json": {
              "type": "string"
            },
            "text/plain": [
              "'Los Angeles (CNN) -- A medical doctor in Vancouver, British Columbia, said Thursday that California arson suspect Harry Burkhart suffered from severe mental illness in 2010, when she examined him as part of a team of doctors. Dr. Blaga Stancheva, a family physician and specialist in obstetrics, said both Burkhart and his mother, Dorothee, were her patients in Vancouver while both were applying for refugee status in Canada. \"I was asked to diagnose and treat Harry to support a claim explaining why he was unable to show up in a small-claims court case,\" Stancheva told CNN in a phone interview. She declined to cite the case or Burkhart\\'s role in it. Stancheva said she and other doctors including a psychiatrist diagnosed Burkhart with \"autism, severe anxiety, post-traumatic stress disorder and depression.\" The diagnosis was spelled out in a letter she wrote for the small-claims court case, Stancheva said. Stancheva, citing doctor-patient confidentiality, would not elaborate further, nor would she identify the psychiatrist involved in the diagnosis. Burkhart, a 24-year-old German national, has been charged with 37 counts of arson following a string of 52 fires in Los Angeles. The charges are in connection with arson fires at 12 locations scattered through Hollywood, West Hollywood and Sherman Oaks, according to authorities. Stancheva said the refugee applications by Burkhart and his mother were denied by the Canadian government, and she has not seen Burkhart since early March of 2010. \"I was shocked and dismayed at what happened in Los Angeles, and it appears he was not being treated for his depression,\" she said. Burkhart was in court on Wednesday for a preliminary hearing. Prosecutors said his \"rage against Americans,\" triggered by his mother\\'s arrest last week, motivated his \"campaign of terror\" with dozens of fires in Hollywood and nearby communities. Burkhart kept his eyes closed and remained limp during most of his hearing, requiring sheriff\\'s deputies to hold him up. The district attorney called his courtroom behavior \"very bizarre.\" \"This defendant has engaged in a protracted campaign in which he has set, the people believe, upwards of 52 arson fires in what essentially amounts to a campaign of terror against this community,\" Los Angeles County Deputy District Attorney Sean Carney said. \"The people believe he has engaged in this conduct because he has a hatred for Americans.\" Carney told the court Burkhart would flee the country if he was allowed out of jail on bond, but Los Angeles Superior Court Judge Upinder Kalra said he had no choice but to set bail. To go free while awaiting trial, Burkhart must post a $2.85 million bond and surrender his German passport. It was revealed that Burkhart is also under investigation for arson and fraud in relation to a fire in Neukirchen, near Frankfurt, Germany. The worst arson sprees in the city\\'s history began last Friday morning with a car fire in Hollywood that spread to apartments above a garage, but no new fires have happened since Burkhart was arrested Monday, Los Angeles District Attorney Steve Cooley said. No one was hurt in the fires, but property damage costs are likely to reach $3 million, authorities said. Cooley called it \"almost attempted murder,\" because people were sleeping in apartments above where Burkhart allegedly set cars on fire with incendiary devices placed under their engines. The criminal complaint filed Wednesday also alleged that the fires were \"caused by use of a device designed to accelerate the fire,\" Cooley said. \"If found true, the allegation could mean additional custody time for the defendant.\" \"In numerous instances, the cars were parked in carports, resulting in the fires spreading to the adjacent occupied apartment buildings,\" a sworn affidavit from a Los Angeles arson investigator said. \"The vast majority of these fires occurred late at night when the occupants of the apartment buildings were asleep.\" Investigator Edward Nordskog\\'s affidavit detailed Burkhart\\'s behavior a day before the fires began, when he was in a federal courtroom during extradition proceedings for his mother. \"While in the audience, the defendant (Burkhart) began yelling in an angry manner, \\'F--k all Americans.\\' The defendant also attempted to communicate with his mother who was in custody. Shortly thereafter, the defendant was ejected from the courtroom by Deputy U.S. Marshals,\" Nordskog wrote. Dorothee Burkhart was arrested a day before on an international arrest warrant issued by a district court in Frankfurt, Germany, said federal court spokesman Gunther Meilinger. The 53-year-old German woman is wanted on 16 counts of fraud and three counts of embezzlement, he said. The charges include an allegation that she failed to pay for a breast enhancement operation performed on her in 2004, Meilinger said. Most of the German charges, however, stem from phony real estate deals that Dorothee Burkhart allegedly conducted between 2000 and 2006. \"It is my opinion that the defendant\\'s criminal spree was motivated by his rage against Americans and that by setting these fires the defendant intended to harm and terrorize as many residents of the city and county of Los Angeles as possible,\" Nordskog wrote. A search of Burkhart\\'s Hollywood apartment found newspaper clippings about the Los Angeles fires and articles from Germany reporting similar car fires in Frankfurt, Germany in September, 2011, the investigator said. \"It is my opinion based on my experience that it is highly likely the defendant has a history of setting arson fires in Germany before he came to the United States,\" Nordskog wrote. Burkhart\\'s mother is scheduled for another extradition hearing Friday, while he is due back in court for arraignment on January 24. Meanwhile, both Burkharts are housed in a Los Angeles jail.'"
            ]
          },
          "metadata": {
            "tags": []
          },
          "execution_count": 28
        }
      ]
    },
    {
      "cell_type": "code",
      "metadata": {
        "colab": {
          "base_uri": "https://localhost:8080/",
          "height": 68
        },
        "id": "ADei1A0Ntyhe",
        "outputId": "4f0717a3-39e8-439d-94c2-7647bf2c10f3"
      },
      "source": [
        "df1['highlights'][3]"
      ],
      "execution_count": null,
      "outputs": [
        {
          "output_type": "execute_result",
          "data": {
            "application/vnd.google.colaboratory.intrinsic+json": {
              "type": "string"
            },
            "text/plain": [
              "'NEW: A Canadian doctor says she was part of a team examining Harry Burkhart in 2010 .\\nNEW: Diagnosis: \"autism, severe anxiety, post-traumatic stress disorder and depression\"\\nBurkhart is also suspected in a German arson probe, officials say .\\nProsecutors believe the German national set a string of fires in Los Angeles .'"
            ]
          },
          "metadata": {
            "tags": []
          },
          "execution_count": 29
        }
      ]
    },
    {
      "cell_type": "code",
      "metadata": {
        "colab": {
          "base_uri": "https://localhost:8080/"
        },
        "id": "Zd28-D2yt1xo",
        "outputId": "d69b4b74-2476-4c38-e5df-faf929d00f90"
      },
      "source": [
        "!pip install nlpy"
      ],
      "execution_count": null,
      "outputs": [
        {
          "output_type": "stream",
          "text": [
            "Requirement already satisfied: nlpy in /usr/local/lib/python3.7/dist-packages (0.0.9)\n",
            "Requirement already satisfied: gensim>=0.10.0 in /usr/local/lib/python3.7/dist-packages (from nlpy) (3.6.0)\n",
            "Requirement already satisfied: theano>=0.6.0 in /usr/local/lib/python3.7/dist-packages (from nlpy) (1.0.5)\n",
            "Requirement already satisfied: flask>=0.10.0 in /usr/local/lib/python3.7/dist-packages (from nlpy) (1.1.2)\n",
            "Requirement already satisfied: numpy>=1.3 in /usr/local/lib/python3.7/dist-packages (from nlpy) (1.19.5)\n",
            "Requirement already satisfied: nltk>=3.0.0 in /usr/local/lib/python3.7/dist-packages (from nlpy) (3.2.5)\n",
            "Requirement already satisfied: scipy>=0.18.1 in /usr/local/lib/python3.7/dist-packages (from gensim>=0.10.0->nlpy) (1.4.1)\n",
            "Requirement already satisfied: six>=1.5.0 in /usr/local/lib/python3.7/dist-packages (from gensim>=0.10.0->nlpy) (1.15.0)\n",
            "Requirement already satisfied: smart-open>=1.2.1 in /usr/local/lib/python3.7/dist-packages (from gensim>=0.10.0->nlpy) (4.2.0)\n",
            "Requirement already satisfied: click>=5.1 in /usr/local/lib/python3.7/dist-packages (from flask>=0.10.0->nlpy) (7.1.2)\n",
            "Requirement already satisfied: Jinja2>=2.10.1 in /usr/local/lib/python3.7/dist-packages (from flask>=0.10.0->nlpy) (2.11.3)\n",
            "Requirement already satisfied: itsdangerous>=0.24 in /usr/local/lib/python3.7/dist-packages (from flask>=0.10.0->nlpy) (1.1.0)\n",
            "Requirement already satisfied: Werkzeug>=0.15 in /usr/local/lib/python3.7/dist-packages (from flask>=0.10.0->nlpy) (1.0.1)\n",
            "Requirement already satisfied: MarkupSafe>=0.23 in /usr/local/lib/python3.7/dist-packages (from Jinja2>=2.10.1->flask>=0.10.0->nlpy) (1.1.1)\n"
          ],
          "name": "stdout"
        }
      ]
    },
    {
      "cell_type": "code",
      "metadata": {
        "colab": {
          "base_uri": "https://localhost:8080/"
        },
        "id": "-AxtG-oquPIP",
        "outputId": "d95caadb-92d0-4fc2-b7f2-c1d9afa9840b"
      },
      "source": [
        "!git clone git://nlpy.git.sourceforge.net/gitroot/nlpy/nlpy"
      ],
      "execution_count": null,
      "outputs": [
        {
          "output_type": "stream",
          "text": [
            "fatal: destination path 'nlpy' already exists and is not an empty directory.\n"
          ],
          "name": "stdout"
        }
      ]
    },
    {
      "cell_type": "code",
      "metadata": {
        "colab": {
          "base_uri": "https://localhost:8080/"
        },
        "id": "HOB7KXcHuUrk",
        "outputId": "c98cdf44-dca4-4302-c2bf-84e3eaa011ef"
      },
      "source": [
        "!pip install nltk\n"
      ],
      "execution_count": null,
      "outputs": [
        {
          "output_type": "stream",
          "text": [
            "Requirement already satisfied: nltk in /usr/local/lib/python3.7/dist-packages (3.2.5)\n",
            "Requirement already satisfied: six in /usr/local/lib/python3.7/dist-packages (from nltk) (1.15.0)\n"
          ],
          "name": "stdout"
        }
      ]
    },
    {
      "cell_type": "code",
      "metadata": {
        "colab": {
          "base_uri": "https://localhost:8080/"
        },
        "id": "9c06mGstwGx-",
        "outputId": "fe844ebe-318f-4016-d199-7bf6f23822f2"
      },
      "source": [
        "import nltk\n",
        "nltk.download(\"punkt\")"
      ],
      "execution_count": null,
      "outputs": [
        {
          "output_type": "stream",
          "text": [
            "[nltk_data] Downloading package punkt to /root/nltk_data...\n",
            "[nltk_data]   Package punkt is already up-to-date!\n"
          ],
          "name": "stdout"
        },
        {
          "output_type": "execute_result",
          "data": {
            "text/plain": [
              "True"
            ]
          },
          "metadata": {
            "tags": []
          },
          "execution_count": 33
        }
      ]
    },
    {
      "cell_type": "code",
      "metadata": {
        "colab": {
          "base_uri": "https://localhost:8080/"
        },
        "id": "ljzJm7TMvaye",
        "outputId": "25f264fc-4a11-4c02-b884-2d6ba7906dd6"
      },
      "source": [
        "# nltk.download()\n",
        "# 토크나이징\n",
        "from nltk.tokenize import sent_tokenize\n",
        "print(sent_tokenize(df1[\"highlights\"][3])) # 문장단위로 토크나이징"
      ],
      "execution_count": null,
      "outputs": [
        {
          "output_type": "stream",
          "text": [
            "['NEW: A Canadian doctor says she was part of a team examining Harry Burkhart in 2010 .', 'NEW: Diagnosis: \"autism, severe anxiety, post-traumatic stress disorder and depression\"\\nBurkhart is also suspected in a German arson probe, officials say .', 'Prosecutors believe the German national set a string of fires in Los Angeles .']\n"
          ],
          "name": "stdout"
        }
      ]
    },
    {
      "cell_type": "code",
      "metadata": {
        "colab": {
          "base_uri": "https://localhost:8080/",
          "height": 68
        },
        "id": "Be_FVpd7vfxt",
        "outputId": "72c9a19c-2c9e-4e6e-8432-e89a702f5d5a"
      },
      "source": [
        "df1[\"highlights\"][3] # 원 데이터 프레임을 변환하지는 않음"
      ],
      "execution_count": null,
      "outputs": [
        {
          "output_type": "execute_result",
          "data": {
            "application/vnd.google.colaboratory.intrinsic+json": {
              "type": "string"
            },
            "text/plain": [
              "'NEW: A Canadian doctor says she was part of a team examining Harry Burkhart in 2010 .\\nNEW: Diagnosis: \"autism, severe anxiety, post-traumatic stress disorder and depression\"\\nBurkhart is also suspected in a German arson probe, officials say .\\nProsecutors believe the German national set a string of fires in Los Angeles .'"
            ]
          },
          "metadata": {
            "tags": []
          },
          "execution_count": 35
        }
      ]
    },
    {
      "cell_type": "code",
      "metadata": {
        "colab": {
          "base_uri": "https://localhost:8080/"
        },
        "id": "NQ8ZuWzl3d5b",
        "outputId": "4458ca9e-0bfd-4b7d-902e-9bde87fc2b17"
      },
      "source": [
        "#정규표현식을 이용한 토큰화\n",
        "from nltk.tokenize import RegexpTokenizer \n",
        "\n",
        "retokenize = RegexpTokenizer(\"[\\w]+\") #문자 또는 숫자가 1개 이상인 경우를 인식하므로, 문장에서 구두점을 제외하고 토큰화를 수행한다.\n",
        "retokenize.tokenize(df1['highlights'][3])"
      ],
      "execution_count": null,
      "outputs": [
        {
          "output_type": "execute_result",
          "data": {
            "text/plain": [
              "['NEW',\n",
              " 'A',\n",
              " 'Canadian',\n",
              " 'doctor',\n",
              " 'says',\n",
              " 'she',\n",
              " 'was',\n",
              " 'part',\n",
              " 'of',\n",
              " 'a',\n",
              " 'team',\n",
              " 'examining',\n",
              " 'Harry',\n",
              " 'Burkhart',\n",
              " 'in',\n",
              " '2010',\n",
              " 'NEW',\n",
              " 'Diagnosis',\n",
              " 'autism',\n",
              " 'severe',\n",
              " 'anxiety',\n",
              " 'post',\n",
              " 'traumatic',\n",
              " 'stress',\n",
              " 'disorder',\n",
              " 'and',\n",
              " 'depression',\n",
              " 'Burkhart',\n",
              " 'is',\n",
              " 'also',\n",
              " 'suspected',\n",
              " 'in',\n",
              " 'a',\n",
              " 'German',\n",
              " 'arson',\n",
              " 'probe',\n",
              " 'officials',\n",
              " 'say',\n",
              " 'Prosecutors',\n",
              " 'believe',\n",
              " 'the',\n",
              " 'German',\n",
              " 'national',\n",
              " 'set',\n",
              " 'a',\n",
              " 'string',\n",
              " 'of',\n",
              " 'fires',\n",
              " 'in',\n",
              " 'Los',\n",
              " 'Angeles']"
            ]
          },
          "metadata": {
            "tags": []
          },
          "execution_count": 36
        }
      ]
    },
    {
      "cell_type": "code",
      "metadata": {
        "colab": {
          "base_uri": "https://localhost:8080/"
        },
        "id": "7VgTCpWl4WrJ",
        "outputId": "b9196f8b-49ba-44db-acd6-3894a02c9392"
      },
      "source": [
        "tokenizer=RegexpTokenizer(\"[\\s]+\", gaps=True) # gaps=True : 해당정규표현식을 토큰으로 나누기 위한 기준으로 사용한다는 뜻\n",
        "retokenize.tokenize(df1['highlights'][3])     # \\s+는 하나이상의 공백을 의미하므로, 기준을 정해주지 않았다면 공백들만 토큰으로 반환되었을 것이다."
      ],
      "execution_count": null,
      "outputs": [
        {
          "output_type": "execute_result",
          "data": {
            "text/plain": [
              "['NEW',\n",
              " 'A',\n",
              " 'Canadian',\n",
              " 'doctor',\n",
              " 'says',\n",
              " 'she',\n",
              " 'was',\n",
              " 'part',\n",
              " 'of',\n",
              " 'a',\n",
              " 'team',\n",
              " 'examining',\n",
              " 'Harry',\n",
              " 'Burkhart',\n",
              " 'in',\n",
              " '2010',\n",
              " 'NEW',\n",
              " 'Diagnosis',\n",
              " 'autism',\n",
              " 'severe',\n",
              " 'anxiety',\n",
              " 'post',\n",
              " 'traumatic',\n",
              " 'stress',\n",
              " 'disorder',\n",
              " 'and',\n",
              " 'depression',\n",
              " 'Burkhart',\n",
              " 'is',\n",
              " 'also',\n",
              " 'suspected',\n",
              " 'in',\n",
              " 'a',\n",
              " 'German',\n",
              " 'arson',\n",
              " 'probe',\n",
              " 'officials',\n",
              " 'say',\n",
              " 'Prosecutors',\n",
              " 'believe',\n",
              " 'the',\n",
              " 'German',\n",
              " 'national',\n",
              " 'set',\n",
              " 'a',\n",
              " 'string',\n",
              " 'of',\n",
              " 'fires',\n",
              " 'in',\n",
              " 'Los',\n",
              " 'Angeles']"
            ]
          },
          "metadata": {
            "tags": []
          },
          "execution_count": 37
        }
      ]
    },
    {
      "cell_type": "code",
      "metadata": {
        "colab": {
          "base_uri": "https://localhost:8080/"
        },
        "id": "MgWkxJYlvRCj",
        "outputId": "31cc2f52-1d5d-4e09-cc67-eb06e5883d41"
      },
      "source": [
        "from nltk.tokenize import word_tokenize\n",
        "word_tokenize(df1['article'][3])"
      ],
      "execution_count": null,
      "outputs": [
        {
          "output_type": "execute_result",
          "data": {
            "text/plain": [
              "['Los',\n",
              " 'Angeles',\n",
              " '(',\n",
              " 'CNN',\n",
              " ')',\n",
              " '--',\n",
              " 'A',\n",
              " 'medical',\n",
              " 'doctor',\n",
              " 'in',\n",
              " 'Vancouver',\n",
              " ',',\n",
              " 'British',\n",
              " 'Columbia',\n",
              " ',',\n",
              " 'said',\n",
              " 'Thursday',\n",
              " 'that',\n",
              " 'California',\n",
              " 'arson',\n",
              " 'suspect',\n",
              " 'Harry',\n",
              " 'Burkhart',\n",
              " 'suffered',\n",
              " 'from',\n",
              " 'severe',\n",
              " 'mental',\n",
              " 'illness',\n",
              " 'in',\n",
              " '2010',\n",
              " ',',\n",
              " 'when',\n",
              " 'she',\n",
              " 'examined',\n",
              " 'him',\n",
              " 'as',\n",
              " 'part',\n",
              " 'of',\n",
              " 'a',\n",
              " 'team',\n",
              " 'of',\n",
              " 'doctors',\n",
              " '.',\n",
              " 'Dr.',\n",
              " 'Blaga',\n",
              " 'Stancheva',\n",
              " ',',\n",
              " 'a',\n",
              " 'family',\n",
              " 'physician',\n",
              " 'and',\n",
              " 'specialist',\n",
              " 'in',\n",
              " 'obstetrics',\n",
              " ',',\n",
              " 'said',\n",
              " 'both',\n",
              " 'Burkhart',\n",
              " 'and',\n",
              " 'his',\n",
              " 'mother',\n",
              " ',',\n",
              " 'Dorothee',\n",
              " ',',\n",
              " 'were',\n",
              " 'her',\n",
              " 'patients',\n",
              " 'in',\n",
              " 'Vancouver',\n",
              " 'while',\n",
              " 'both',\n",
              " 'were',\n",
              " 'applying',\n",
              " 'for',\n",
              " 'refugee',\n",
              " 'status',\n",
              " 'in',\n",
              " 'Canada',\n",
              " '.',\n",
              " '``',\n",
              " 'I',\n",
              " 'was',\n",
              " 'asked',\n",
              " 'to',\n",
              " 'diagnose',\n",
              " 'and',\n",
              " 'treat',\n",
              " 'Harry',\n",
              " 'to',\n",
              " 'support',\n",
              " 'a',\n",
              " 'claim',\n",
              " 'explaining',\n",
              " 'why',\n",
              " 'he',\n",
              " 'was',\n",
              " 'unable',\n",
              " 'to',\n",
              " 'show',\n",
              " 'up',\n",
              " 'in',\n",
              " 'a',\n",
              " 'small-claims',\n",
              " 'court',\n",
              " 'case',\n",
              " ',',\n",
              " \"''\",\n",
              " 'Stancheva',\n",
              " 'told',\n",
              " 'CNN',\n",
              " 'in',\n",
              " 'a',\n",
              " 'phone',\n",
              " 'interview',\n",
              " '.',\n",
              " 'She',\n",
              " 'declined',\n",
              " 'to',\n",
              " 'cite',\n",
              " 'the',\n",
              " 'case',\n",
              " 'or',\n",
              " 'Burkhart',\n",
              " \"'s\",\n",
              " 'role',\n",
              " 'in',\n",
              " 'it',\n",
              " '.',\n",
              " 'Stancheva',\n",
              " 'said',\n",
              " 'she',\n",
              " 'and',\n",
              " 'other',\n",
              " 'doctors',\n",
              " 'including',\n",
              " 'a',\n",
              " 'psychiatrist',\n",
              " 'diagnosed',\n",
              " 'Burkhart',\n",
              " 'with',\n",
              " '``',\n",
              " 'autism',\n",
              " ',',\n",
              " 'severe',\n",
              " 'anxiety',\n",
              " ',',\n",
              " 'post-traumatic',\n",
              " 'stress',\n",
              " 'disorder',\n",
              " 'and',\n",
              " 'depression',\n",
              " '.',\n",
              " \"''\",\n",
              " 'The',\n",
              " 'diagnosis',\n",
              " 'was',\n",
              " 'spelled',\n",
              " 'out',\n",
              " 'in',\n",
              " 'a',\n",
              " 'letter',\n",
              " 'she',\n",
              " 'wrote',\n",
              " 'for',\n",
              " 'the',\n",
              " 'small-claims',\n",
              " 'court',\n",
              " 'case',\n",
              " ',',\n",
              " 'Stancheva',\n",
              " 'said',\n",
              " '.',\n",
              " 'Stancheva',\n",
              " ',',\n",
              " 'citing',\n",
              " 'doctor-patient',\n",
              " 'confidentiality',\n",
              " ',',\n",
              " 'would',\n",
              " 'not',\n",
              " 'elaborate',\n",
              " 'further',\n",
              " ',',\n",
              " 'nor',\n",
              " 'would',\n",
              " 'she',\n",
              " 'identify',\n",
              " 'the',\n",
              " 'psychiatrist',\n",
              " 'involved',\n",
              " 'in',\n",
              " 'the',\n",
              " 'diagnosis',\n",
              " '.',\n",
              " 'Burkhart',\n",
              " ',',\n",
              " 'a',\n",
              " '24-year-old',\n",
              " 'German',\n",
              " 'national',\n",
              " ',',\n",
              " 'has',\n",
              " 'been',\n",
              " 'charged',\n",
              " 'with',\n",
              " '37',\n",
              " 'counts',\n",
              " 'of',\n",
              " 'arson',\n",
              " 'following',\n",
              " 'a',\n",
              " 'string',\n",
              " 'of',\n",
              " '52',\n",
              " 'fires',\n",
              " 'in',\n",
              " 'Los',\n",
              " 'Angeles',\n",
              " '.',\n",
              " 'The',\n",
              " 'charges',\n",
              " 'are',\n",
              " 'in',\n",
              " 'connection',\n",
              " 'with',\n",
              " 'arson',\n",
              " 'fires',\n",
              " 'at',\n",
              " '12',\n",
              " 'locations',\n",
              " 'scattered',\n",
              " 'through',\n",
              " 'Hollywood',\n",
              " ',',\n",
              " 'West',\n",
              " 'Hollywood',\n",
              " 'and',\n",
              " 'Sherman',\n",
              " 'Oaks',\n",
              " ',',\n",
              " 'according',\n",
              " 'to',\n",
              " 'authorities',\n",
              " '.',\n",
              " 'Stancheva',\n",
              " 'said',\n",
              " 'the',\n",
              " 'refugee',\n",
              " 'applications',\n",
              " 'by',\n",
              " 'Burkhart',\n",
              " 'and',\n",
              " 'his',\n",
              " 'mother',\n",
              " 'were',\n",
              " 'denied',\n",
              " 'by',\n",
              " 'the',\n",
              " 'Canadian',\n",
              " 'government',\n",
              " ',',\n",
              " 'and',\n",
              " 'she',\n",
              " 'has',\n",
              " 'not',\n",
              " 'seen',\n",
              " 'Burkhart',\n",
              " 'since',\n",
              " 'early',\n",
              " 'March',\n",
              " 'of',\n",
              " '2010',\n",
              " '.',\n",
              " '``',\n",
              " 'I',\n",
              " 'was',\n",
              " 'shocked',\n",
              " 'and',\n",
              " 'dismayed',\n",
              " 'at',\n",
              " 'what',\n",
              " 'happened',\n",
              " 'in',\n",
              " 'Los',\n",
              " 'Angeles',\n",
              " ',',\n",
              " 'and',\n",
              " 'it',\n",
              " 'appears',\n",
              " 'he',\n",
              " 'was',\n",
              " 'not',\n",
              " 'being',\n",
              " 'treated',\n",
              " 'for',\n",
              " 'his',\n",
              " 'depression',\n",
              " ',',\n",
              " \"''\",\n",
              " 'she',\n",
              " 'said',\n",
              " '.',\n",
              " 'Burkhart',\n",
              " 'was',\n",
              " 'in',\n",
              " 'court',\n",
              " 'on',\n",
              " 'Wednesday',\n",
              " 'for',\n",
              " 'a',\n",
              " 'preliminary',\n",
              " 'hearing',\n",
              " '.',\n",
              " 'Prosecutors',\n",
              " 'said',\n",
              " 'his',\n",
              " '``',\n",
              " 'rage',\n",
              " 'against',\n",
              " 'Americans',\n",
              " ',',\n",
              " \"''\",\n",
              " 'triggered',\n",
              " 'by',\n",
              " 'his',\n",
              " 'mother',\n",
              " \"'s\",\n",
              " 'arrest',\n",
              " 'last',\n",
              " 'week',\n",
              " ',',\n",
              " 'motivated',\n",
              " 'his',\n",
              " '``',\n",
              " 'campaign',\n",
              " 'of',\n",
              " 'terror',\n",
              " \"''\",\n",
              " 'with',\n",
              " 'dozens',\n",
              " 'of',\n",
              " 'fires',\n",
              " 'in',\n",
              " 'Hollywood',\n",
              " 'and',\n",
              " 'nearby',\n",
              " 'communities',\n",
              " '.',\n",
              " 'Burkhart',\n",
              " 'kept',\n",
              " 'his',\n",
              " 'eyes',\n",
              " 'closed',\n",
              " 'and',\n",
              " 'remained',\n",
              " 'limp',\n",
              " 'during',\n",
              " 'most',\n",
              " 'of',\n",
              " 'his',\n",
              " 'hearing',\n",
              " ',',\n",
              " 'requiring',\n",
              " 'sheriff',\n",
              " \"'s\",\n",
              " 'deputies',\n",
              " 'to',\n",
              " 'hold',\n",
              " 'him',\n",
              " 'up',\n",
              " '.',\n",
              " 'The',\n",
              " 'district',\n",
              " 'attorney',\n",
              " 'called',\n",
              " 'his',\n",
              " 'courtroom',\n",
              " 'behavior',\n",
              " '``',\n",
              " 'very',\n",
              " 'bizarre',\n",
              " '.',\n",
              " \"''\",\n",
              " '``',\n",
              " 'This',\n",
              " 'defendant',\n",
              " 'has',\n",
              " 'engaged',\n",
              " 'in',\n",
              " 'a',\n",
              " 'protracted',\n",
              " 'campaign',\n",
              " 'in',\n",
              " 'which',\n",
              " 'he',\n",
              " 'has',\n",
              " 'set',\n",
              " ',',\n",
              " 'the',\n",
              " 'people',\n",
              " 'believe',\n",
              " ',',\n",
              " 'upwards',\n",
              " 'of',\n",
              " '52',\n",
              " 'arson',\n",
              " 'fires',\n",
              " 'in',\n",
              " 'what',\n",
              " 'essentially',\n",
              " 'amounts',\n",
              " 'to',\n",
              " 'a',\n",
              " 'campaign',\n",
              " 'of',\n",
              " 'terror',\n",
              " 'against',\n",
              " 'this',\n",
              " 'community',\n",
              " ',',\n",
              " \"''\",\n",
              " 'Los',\n",
              " 'Angeles',\n",
              " 'County',\n",
              " 'Deputy',\n",
              " 'District',\n",
              " 'Attorney',\n",
              " 'Sean',\n",
              " 'Carney',\n",
              " 'said',\n",
              " '.',\n",
              " '``',\n",
              " 'The',\n",
              " 'people',\n",
              " 'believe',\n",
              " 'he',\n",
              " 'has',\n",
              " 'engaged',\n",
              " 'in',\n",
              " 'this',\n",
              " 'conduct',\n",
              " 'because',\n",
              " 'he',\n",
              " 'has',\n",
              " 'a',\n",
              " 'hatred',\n",
              " 'for',\n",
              " 'Americans',\n",
              " '.',\n",
              " \"''\",\n",
              " 'Carney',\n",
              " 'told',\n",
              " 'the',\n",
              " 'court',\n",
              " 'Burkhart',\n",
              " 'would',\n",
              " 'flee',\n",
              " 'the',\n",
              " 'country',\n",
              " 'if',\n",
              " 'he',\n",
              " 'was',\n",
              " 'allowed',\n",
              " 'out',\n",
              " 'of',\n",
              " 'jail',\n",
              " 'on',\n",
              " 'bond',\n",
              " ',',\n",
              " 'but',\n",
              " 'Los',\n",
              " 'Angeles',\n",
              " 'Superior',\n",
              " 'Court',\n",
              " 'Judge',\n",
              " 'Upinder',\n",
              " 'Kalra',\n",
              " 'said',\n",
              " 'he',\n",
              " 'had',\n",
              " 'no',\n",
              " 'choice',\n",
              " 'but',\n",
              " 'to',\n",
              " 'set',\n",
              " 'bail',\n",
              " '.',\n",
              " 'To',\n",
              " 'go',\n",
              " 'free',\n",
              " 'while',\n",
              " 'awaiting',\n",
              " 'trial',\n",
              " ',',\n",
              " 'Burkhart',\n",
              " 'must',\n",
              " 'post',\n",
              " 'a',\n",
              " '$',\n",
              " '2.85',\n",
              " 'million',\n",
              " 'bond',\n",
              " 'and',\n",
              " 'surrender',\n",
              " 'his',\n",
              " 'German',\n",
              " 'passport',\n",
              " '.',\n",
              " 'It',\n",
              " 'was',\n",
              " 'revealed',\n",
              " 'that',\n",
              " 'Burkhart',\n",
              " 'is',\n",
              " 'also',\n",
              " 'under',\n",
              " 'investigation',\n",
              " 'for',\n",
              " 'arson',\n",
              " 'and',\n",
              " 'fraud',\n",
              " 'in',\n",
              " 'relation',\n",
              " 'to',\n",
              " 'a',\n",
              " 'fire',\n",
              " 'in',\n",
              " 'Neukirchen',\n",
              " ',',\n",
              " 'near',\n",
              " 'Frankfurt',\n",
              " ',',\n",
              " 'Germany',\n",
              " '.',\n",
              " 'The',\n",
              " 'worst',\n",
              " 'arson',\n",
              " 'sprees',\n",
              " 'in',\n",
              " 'the',\n",
              " 'city',\n",
              " \"'s\",\n",
              " 'history',\n",
              " 'began',\n",
              " 'last',\n",
              " 'Friday',\n",
              " 'morning',\n",
              " 'with',\n",
              " 'a',\n",
              " 'car',\n",
              " 'fire',\n",
              " 'in',\n",
              " 'Hollywood',\n",
              " 'that',\n",
              " 'spread',\n",
              " 'to',\n",
              " 'apartments',\n",
              " 'above',\n",
              " 'a',\n",
              " 'garage',\n",
              " ',',\n",
              " 'but',\n",
              " 'no',\n",
              " 'new',\n",
              " 'fires',\n",
              " 'have',\n",
              " 'happened',\n",
              " 'since',\n",
              " 'Burkhart',\n",
              " 'was',\n",
              " 'arrested',\n",
              " 'Monday',\n",
              " ',',\n",
              " 'Los',\n",
              " 'Angeles',\n",
              " 'District',\n",
              " 'Attorney',\n",
              " 'Steve',\n",
              " 'Cooley',\n",
              " 'said',\n",
              " '.',\n",
              " 'No',\n",
              " 'one',\n",
              " 'was',\n",
              " 'hurt',\n",
              " 'in',\n",
              " 'the',\n",
              " 'fires',\n",
              " ',',\n",
              " 'but',\n",
              " 'property',\n",
              " 'damage',\n",
              " 'costs',\n",
              " 'are',\n",
              " 'likely',\n",
              " 'to',\n",
              " 'reach',\n",
              " '$',\n",
              " '3',\n",
              " 'million',\n",
              " ',',\n",
              " 'authorities',\n",
              " 'said',\n",
              " '.',\n",
              " 'Cooley',\n",
              " 'called',\n",
              " 'it',\n",
              " '``',\n",
              " 'almost',\n",
              " 'attempted',\n",
              " 'murder',\n",
              " ',',\n",
              " \"''\",\n",
              " 'because',\n",
              " 'people',\n",
              " 'were',\n",
              " 'sleeping',\n",
              " 'in',\n",
              " 'apartments',\n",
              " 'above',\n",
              " 'where',\n",
              " 'Burkhart',\n",
              " 'allegedly',\n",
              " 'set',\n",
              " 'cars',\n",
              " 'on',\n",
              " 'fire',\n",
              " 'with',\n",
              " 'incendiary',\n",
              " 'devices',\n",
              " 'placed',\n",
              " 'under',\n",
              " 'their',\n",
              " 'engines',\n",
              " '.',\n",
              " 'The',\n",
              " 'criminal',\n",
              " 'complaint',\n",
              " 'filed',\n",
              " 'Wednesday',\n",
              " 'also',\n",
              " 'alleged',\n",
              " 'that',\n",
              " 'the',\n",
              " 'fires',\n",
              " 'were',\n",
              " '``',\n",
              " 'caused',\n",
              " 'by',\n",
              " 'use',\n",
              " 'of',\n",
              " 'a',\n",
              " 'device',\n",
              " 'designed',\n",
              " 'to',\n",
              " 'accelerate',\n",
              " 'the',\n",
              " 'fire',\n",
              " ',',\n",
              " \"''\",\n",
              " 'Cooley',\n",
              " 'said',\n",
              " '.',\n",
              " '``',\n",
              " 'If',\n",
              " 'found',\n",
              " 'true',\n",
              " ',',\n",
              " 'the',\n",
              " 'allegation',\n",
              " 'could',\n",
              " 'mean',\n",
              " 'additional',\n",
              " 'custody',\n",
              " 'time',\n",
              " 'for',\n",
              " 'the',\n",
              " 'defendant',\n",
              " '.',\n",
              " \"''\",\n",
              " '``',\n",
              " 'In',\n",
              " 'numerous',\n",
              " 'instances',\n",
              " ',',\n",
              " 'the',\n",
              " 'cars',\n",
              " 'were',\n",
              " 'parked',\n",
              " 'in',\n",
              " 'carports',\n",
              " ',',\n",
              " 'resulting',\n",
              " 'in',\n",
              " 'the',\n",
              " 'fires',\n",
              " 'spreading',\n",
              " 'to',\n",
              " 'the',\n",
              " 'adjacent',\n",
              " 'occupied',\n",
              " 'apartment',\n",
              " 'buildings',\n",
              " ',',\n",
              " \"''\",\n",
              " 'a',\n",
              " 'sworn',\n",
              " 'affidavit',\n",
              " 'from',\n",
              " 'a',\n",
              " 'Los',\n",
              " 'Angeles',\n",
              " 'arson',\n",
              " 'investigator',\n",
              " 'said',\n",
              " '.',\n",
              " '``',\n",
              " 'The',\n",
              " 'vast',\n",
              " 'majority',\n",
              " 'of',\n",
              " 'these',\n",
              " 'fires',\n",
              " 'occurred',\n",
              " 'late',\n",
              " 'at',\n",
              " 'night',\n",
              " 'when',\n",
              " 'the',\n",
              " 'occupants',\n",
              " 'of',\n",
              " 'the',\n",
              " 'apartment',\n",
              " 'buildings',\n",
              " 'were',\n",
              " 'asleep',\n",
              " '.',\n",
              " \"''\",\n",
              " 'Investigator',\n",
              " 'Edward',\n",
              " 'Nordskog',\n",
              " \"'s\",\n",
              " 'affidavit',\n",
              " 'detailed',\n",
              " 'Burkhart',\n",
              " \"'s\",\n",
              " 'behavior',\n",
              " 'a',\n",
              " 'day',\n",
              " 'before',\n",
              " 'the',\n",
              " 'fires',\n",
              " 'began',\n",
              " ',',\n",
              " 'when',\n",
              " 'he',\n",
              " 'was',\n",
              " 'in',\n",
              " 'a',\n",
              " 'federal',\n",
              " 'courtroom',\n",
              " 'during',\n",
              " 'extradition',\n",
              " 'proceedings',\n",
              " 'for',\n",
              " 'his',\n",
              " 'mother',\n",
              " '.',\n",
              " '``',\n",
              " 'While',\n",
              " 'in',\n",
              " 'the',\n",
              " 'audience',\n",
              " ',',\n",
              " 'the',\n",
              " 'defendant',\n",
              " '(',\n",
              " 'Burkhart',\n",
              " ')',\n",
              " 'began',\n",
              " 'yelling',\n",
              " 'in',\n",
              " 'an',\n",
              " 'angry',\n",
              " 'manner',\n",
              " ',',\n",
              " \"'F\",\n",
              " '--',\n",
              " 'k',\n",
              " 'all',\n",
              " 'Americans',\n",
              " '.',\n",
              " \"'\",\n",
              " 'The',\n",
              " 'defendant',\n",
              " 'also',\n",
              " 'attempted',\n",
              " 'to',\n",
              " 'communicate',\n",
              " 'with',\n",
              " 'his',\n",
              " 'mother',\n",
              " 'who',\n",
              " 'was',\n",
              " 'in',\n",
              " 'custody',\n",
              " '.',\n",
              " 'Shortly',\n",
              " 'thereafter',\n",
              " ',',\n",
              " 'the',\n",
              " 'defendant',\n",
              " 'was',\n",
              " 'ejected',\n",
              " 'from',\n",
              " 'the',\n",
              " 'courtroom',\n",
              " 'by',\n",
              " 'Deputy',\n",
              " 'U.S',\n",
              " '.',\n",
              " 'Marshals',\n",
              " ',',\n",
              " \"''\",\n",
              " 'Nordskog',\n",
              " 'wrote',\n",
              " '.',\n",
              " 'Dorothee',\n",
              " 'Burkhart',\n",
              " 'was',\n",
              " 'arrested',\n",
              " 'a',\n",
              " 'day',\n",
              " 'before',\n",
              " 'on',\n",
              " 'an',\n",
              " 'international',\n",
              " 'arrest',\n",
              " 'warrant',\n",
              " 'issued',\n",
              " 'by',\n",
              " 'a',\n",
              " 'district',\n",
              " 'court',\n",
              " 'in',\n",
              " 'Frankfurt',\n",
              " ',',\n",
              " 'Germany',\n",
              " ',',\n",
              " 'said',\n",
              " 'federal',\n",
              " 'court',\n",
              " 'spokesman',\n",
              " 'Gunther',\n",
              " 'Meilinger',\n",
              " '.',\n",
              " 'The',\n",
              " '53-year-old',\n",
              " 'German',\n",
              " 'woman',\n",
              " 'is',\n",
              " 'wanted',\n",
              " 'on',\n",
              " '16',\n",
              " 'counts',\n",
              " 'of',\n",
              " 'fraud',\n",
              " 'and',\n",
              " 'three',\n",
              " 'counts',\n",
              " 'of',\n",
              " 'embezzlement',\n",
              " ',',\n",
              " 'he',\n",
              " 'said',\n",
              " '.',\n",
              " 'The',\n",
              " 'charges',\n",
              " 'include',\n",
              " 'an',\n",
              " 'allegation',\n",
              " 'that',\n",
              " 'she',\n",
              " 'failed',\n",
              " 'to',\n",
              " 'pay',\n",
              " 'for',\n",
              " 'a',\n",
              " 'breast',\n",
              " 'enhancement',\n",
              " 'operation',\n",
              " 'performed',\n",
              " 'on',\n",
              " 'her',\n",
              " 'in',\n",
              " '2004',\n",
              " ',',\n",
              " 'Meilinger',\n",
              " 'said',\n",
              " '.',\n",
              " 'Most',\n",
              " 'of',\n",
              " 'the',\n",
              " 'German',\n",
              " 'charges',\n",
              " ',',\n",
              " 'however',\n",
              " ',',\n",
              " 'stem',\n",
              " 'from',\n",
              " 'phony',\n",
              " 'real',\n",
              " 'estate',\n",
              " 'deals',\n",
              " 'that',\n",
              " 'Dorothee',\n",
              " 'Burkhart',\n",
              " 'allegedly',\n",
              " 'conducted',\n",
              " 'between',\n",
              " '2000',\n",
              " 'and',\n",
              " '2006',\n",
              " '.',\n",
              " '``',\n",
              " 'It',\n",
              " 'is',\n",
              " 'my',\n",
              " 'opinion',\n",
              " 'that',\n",
              " 'the',\n",
              " 'defendant',\n",
              " \"'s\",\n",
              " 'criminal',\n",
              " 'spree',\n",
              " 'was',\n",
              " 'motivated',\n",
              " 'by',\n",
              " 'his',\n",
              " 'rage',\n",
              " 'against',\n",
              " 'Americans',\n",
              " 'and',\n",
              " 'that',\n",
              " 'by',\n",
              " 'setting',\n",
              " 'these',\n",
              " 'fires',\n",
              " 'the',\n",
              " 'defendant',\n",
              " 'intended',\n",
              " 'to',\n",
              " 'harm',\n",
              " 'and',\n",
              " 'terrorize',\n",
              " 'as',\n",
              " 'many',\n",
              " 'residents',\n",
              " 'of',\n",
              " 'the',\n",
              " 'city',\n",
              " 'and',\n",
              " 'county',\n",
              " 'of',\n",
              " 'Los',\n",
              " 'Angeles',\n",
              " 'as',\n",
              " 'possible',\n",
              " ',',\n",
              " \"''\",\n",
              " 'Nordskog',\n",
              " 'wrote',\n",
              " '.',\n",
              " 'A',\n",
              " 'search',\n",
              " 'of',\n",
              " 'Burkhart',\n",
              " \"'s\",\n",
              " 'Hollywood',\n",
              " 'apartment',\n",
              " 'found',\n",
              " 'newspaper',\n",
              " 'clippings',\n",
              " 'about',\n",
              " 'the',\n",
              " 'Los',\n",
              " 'Angeles',\n",
              " 'fires',\n",
              " 'and',\n",
              " 'articles',\n",
              " 'from',\n",
              " 'Germany',\n",
              " 'reporting',\n",
              " 'similar',\n",
              " 'car',\n",
              " 'fires',\n",
              " 'in',\n",
              " 'Frankfurt',\n",
              " ',',\n",
              " 'Germany',\n",
              " ...]"
            ]
          },
          "metadata": {
            "tags": []
          },
          "execution_count": 38
        }
      ]
    },
    {
      "cell_type": "code",
      "metadata": {
        "colab": {
          "base_uri": "https://localhost:8080/"
        },
        "id": "jlmPhfSG5W1M",
        "outputId": "e19e009d-7edd-480d-ae49-c665fcd88ec5"
      },
      "source": [
        "nltk.download('stopwords')"
      ],
      "execution_count": null,
      "outputs": [
        {
          "output_type": "stream",
          "text": [
            "[nltk_data] Downloading package stopwords to /root/nltk_data...\n",
            "[nltk_data]   Package stopwords is already up-to-date!\n"
          ],
          "name": "stdout"
        },
        {
          "output_type": "execute_result",
          "data": {
            "text/plain": [
              "True"
            ]
          },
          "metadata": {
            "tags": []
          },
          "execution_count": 39
        }
      ]
    },
    {
      "cell_type": "code",
      "metadata": {
        "colab": {
          "base_uri": "https://localhost:8080/"
        },
        "id": "np40oYsQy8V6",
        "outputId": "04718ee5-d3be-4eaf-d7c5-a3994e5b5da0"
      },
      "source": [
        "# 불용어처리\n",
        "from nltk.corpus import stopwords\n",
        "\n",
        "stop_words=set(stopwords.words('english'))\n",
        "\n",
        "word_tokens=word_tokenize(df1['highlights'][3])\n",
        "\n",
        "result=[]\n",
        "for w in word_tokens:\n",
        "  if w not in stop_words:\n",
        "    result.append(w)\n",
        "\n",
        "print(word_tokens)\n",
        "print(result)\n"
      ],
      "execution_count": null,
      "outputs": [
        {
          "output_type": "stream",
          "text": [
            "['NEW', ':', 'A', 'Canadian', 'doctor', 'says', 'she', 'was', 'part', 'of', 'a', 'team', 'examining', 'Harry', 'Burkhart', 'in', '2010', '.', 'NEW', ':', 'Diagnosis', ':', '``', 'autism', ',', 'severe', 'anxiety', ',', 'post-traumatic', 'stress', 'disorder', 'and', 'depression', \"''\", 'Burkhart', 'is', 'also', 'suspected', 'in', 'a', 'German', 'arson', 'probe', ',', 'officials', 'say', '.', 'Prosecutors', 'believe', 'the', 'German', 'national', 'set', 'a', 'string', 'of', 'fires', 'in', 'Los', 'Angeles', '.']\n",
            "['NEW', ':', 'A', 'Canadian', 'doctor', 'says', 'part', 'team', 'examining', 'Harry', 'Burkhart', '2010', '.', 'NEW', ':', 'Diagnosis', ':', '``', 'autism', ',', 'severe', 'anxiety', ',', 'post-traumatic', 'stress', 'disorder', 'depression', \"''\", 'Burkhart', 'also', 'suspected', 'German', 'arson', 'probe', ',', 'officials', 'say', '.', 'Prosecutors', 'believe', 'German', 'national', 'set', 'string', 'fires', 'Los', 'Angeles', '.']\n"
          ],
          "name": "stdout"
        }
      ]
    },
    {
      "cell_type": "code",
      "metadata": {
        "colab": {
          "base_uri": "https://localhost:8080/",
          "height": 68
        },
        "id": "bW_aU1c33ViM",
        "outputId": "f66c9e54-9627-4152-ec0f-5be0e704009b"
      },
      "source": [
        "# 대소문자 통일\n",
        "text_lower=df1['highlights'][3].lower()\n",
        "text_lower"
      ],
      "execution_count": null,
      "outputs": [
        {
          "output_type": "execute_result",
          "data": {
            "application/vnd.google.colaboratory.intrinsic+json": {
              "type": "string"
            },
            "text/plain": [
              "'new: a canadian doctor says she was part of a team examining harry burkhart in 2010 .\\nnew: diagnosis: \"autism, severe anxiety, post-traumatic stress disorder and depression\"\\nburkhart is also suspected in a german arson probe, officials say .\\nprosecutors believe the german national set a string of fires in los angeles .'"
            ]
          },
          "metadata": {
            "tags": []
          },
          "execution_count": 41
        }
      ]
    },
    {
      "cell_type": "code",
      "metadata": {
        "id": "aF8PrvNOp1-7"
      },
      "source": [
        "# !pip install stanza\n",
        "#스탄자는 왜인지 모르겠지만 에러가 뜬다."
      ],
      "execution_count": null,
      "outputs": []
    },
    {
      "cell_type": "code",
      "metadata": {
        "id": "FSADW2nnp5-9"
      },
      "source": [
        "# import stanza\n",
        "\n",
        "# nlp=stanza.Pipeline(lang='en',processors='tokenize')\n",
        "\n",
        "# doc=nlp('This is a test sentence for stanza.This is anoter sentence.')\n",
        "\n",
        "# for i, sentence in enumerate(doc.sentences):\n",
        "\n",
        "  # print(f'===== Sentence {i+1} tokens =====')\n",
        "  # print(*[f'id: {token.id}\\ttext: {token.text}' for token in sentence.tokens], sep='\\n')"
      ],
      "execution_count": null,
      "outputs": []
    },
    {
      "cell_type": "code",
      "metadata": {
        "colab": {
          "base_uri": "https://localhost:8080/"
        },
        "id": "Edb0IDnE0Wjm",
        "outputId": "44b054a9-d31a-43b8-9091-e68cb5a7b9d6"
      },
      "source": [
        "!pip install tensorflow\n",
        "!pip install tensorflow_text"
      ],
      "execution_count": null,
      "outputs": [
        {
          "output_type": "stream",
          "text": [
            "Requirement already satisfied: tensorflow in /usr/local/lib/python3.7/dist-packages (2.4.1)\n",
            "Requirement already satisfied: wrapt~=1.12.1 in /usr/local/lib/python3.7/dist-packages (from tensorflow) (1.12.1)\n",
            "Requirement already satisfied: grpcio~=1.32.0 in /usr/local/lib/python3.7/dist-packages (from tensorflow) (1.32.0)\n",
            "Requirement already satisfied: keras-preprocessing~=1.1.2 in /usr/local/lib/python3.7/dist-packages (from tensorflow) (1.1.2)\n",
            "Requirement already satisfied: protobuf>=3.9.2 in /usr/local/lib/python3.7/dist-packages (from tensorflow) (3.12.4)\n",
            "Requirement already satisfied: tensorflow-estimator<2.5.0,>=2.4.0 in /usr/local/lib/python3.7/dist-packages (from tensorflow) (2.4.0)\n",
            "Requirement already satisfied: typing-extensions~=3.7.4 in /usr/local/lib/python3.7/dist-packages (from tensorflow) (3.7.4.3)\n",
            "Requirement already satisfied: google-pasta~=0.2 in /usr/local/lib/python3.7/dist-packages (from tensorflow) (0.2.0)\n",
            "Requirement already satisfied: numpy~=1.19.2 in /usr/local/lib/python3.7/dist-packages (from tensorflow) (1.19.5)\n",
            "Requirement already satisfied: h5py~=2.10.0 in /usr/local/lib/python3.7/dist-packages (from tensorflow) (2.10.0)\n",
            "Requirement already satisfied: flatbuffers~=1.12.0 in /usr/local/lib/python3.7/dist-packages (from tensorflow) (1.12)\n",
            "Requirement already satisfied: wheel~=0.35 in /usr/local/lib/python3.7/dist-packages (from tensorflow) (0.36.2)\n",
            "Requirement already satisfied: six~=1.15.0 in /usr/local/lib/python3.7/dist-packages (from tensorflow) (1.15.0)\n",
            "Requirement already satisfied: absl-py~=0.10 in /usr/local/lib/python3.7/dist-packages (from tensorflow) (0.12.0)\n",
            "Requirement already satisfied: opt-einsum~=3.3.0 in /usr/local/lib/python3.7/dist-packages (from tensorflow) (3.3.0)\n",
            "Requirement already satisfied: astunparse~=1.6.3 in /usr/local/lib/python3.7/dist-packages (from tensorflow) (1.6.3)\n",
            "Requirement already satisfied: tensorboard~=2.4 in /usr/local/lib/python3.7/dist-packages (from tensorflow) (2.4.1)\n",
            "Requirement already satisfied: termcolor~=1.1.0 in /usr/local/lib/python3.7/dist-packages (from tensorflow) (1.1.0)\n",
            "Requirement already satisfied: gast==0.3.3 in /usr/local/lib/python3.7/dist-packages (from tensorflow) (0.3.3)\n",
            "Requirement already satisfied: setuptools in /usr/local/lib/python3.7/dist-packages (from protobuf>=3.9.2->tensorflow) (54.2.0)\n",
            "Requirement already satisfied: werkzeug>=0.11.15 in /usr/local/lib/python3.7/dist-packages (from tensorboard~=2.4->tensorflow) (1.0.1)\n",
            "Requirement already satisfied: google-auth-oauthlib<0.5,>=0.4.1 in /usr/local/lib/python3.7/dist-packages (from tensorboard~=2.4->tensorflow) (0.4.3)\n",
            "Requirement already satisfied: tensorboard-plugin-wit>=1.6.0 in /usr/local/lib/python3.7/dist-packages (from tensorboard~=2.4->tensorflow) (1.8.0)\n",
            "Requirement already satisfied: requests<3,>=2.21.0 in /usr/local/lib/python3.7/dist-packages (from tensorboard~=2.4->tensorflow) (2.23.0)\n",
            "Requirement already satisfied: google-auth<2,>=1.6.3 in /usr/local/lib/python3.7/dist-packages (from tensorboard~=2.4->tensorflow) (1.28.0)\n",
            "Requirement already satisfied: markdown>=2.6.8 in /usr/local/lib/python3.7/dist-packages (from tensorboard~=2.4->tensorflow) (3.3.4)\n",
            "Requirement already satisfied: requests-oauthlib>=0.7.0 in /usr/local/lib/python3.7/dist-packages (from google-auth-oauthlib<0.5,>=0.4.1->tensorboard~=2.4->tensorflow) (1.3.0)\n",
            "Requirement already satisfied: chardet<4,>=3.0.2 in /usr/local/lib/python3.7/dist-packages (from requests<3,>=2.21.0->tensorboard~=2.4->tensorflow) (3.0.4)\n",
            "Requirement already satisfied: certifi>=2017.4.17 in /usr/local/lib/python3.7/dist-packages (from requests<3,>=2.21.0->tensorboard~=2.4->tensorflow) (2020.12.5)\n",
            "Requirement already satisfied: urllib3!=1.25.0,!=1.25.1,<1.26,>=1.21.1 in /usr/local/lib/python3.7/dist-packages (from requests<3,>=2.21.0->tensorboard~=2.4->tensorflow) (1.24.3)\n",
            "Requirement already satisfied: idna<3,>=2.5 in /usr/local/lib/python3.7/dist-packages (from requests<3,>=2.21.0->tensorboard~=2.4->tensorflow) (2.10)\n",
            "Requirement already satisfied: cachetools<5.0,>=2.0.0 in /usr/local/lib/python3.7/dist-packages (from google-auth<2,>=1.6.3->tensorboard~=2.4->tensorflow) (4.2.1)\n",
            "Requirement already satisfied: pyasn1-modules>=0.2.1 in /usr/local/lib/python3.7/dist-packages (from google-auth<2,>=1.6.3->tensorboard~=2.4->tensorflow) (0.2.8)\n",
            "Requirement already satisfied: rsa<5,>=3.1.4; python_version >= \"3.6\" in /usr/local/lib/python3.7/dist-packages (from google-auth<2,>=1.6.3->tensorboard~=2.4->tensorflow) (4.7.2)\n",
            "Requirement already satisfied: importlib-metadata; python_version < \"3.8\" in /usr/local/lib/python3.7/dist-packages (from markdown>=2.6.8->tensorboard~=2.4->tensorflow) (3.8.1)\n",
            "Requirement already satisfied: oauthlib>=3.0.0 in /usr/local/lib/python3.7/dist-packages (from requests-oauthlib>=0.7.0->google-auth-oauthlib<0.5,>=0.4.1->tensorboard~=2.4->tensorflow) (3.1.0)\n",
            "Requirement already satisfied: pyasn1<0.5.0,>=0.4.6 in /usr/local/lib/python3.7/dist-packages (from pyasn1-modules>=0.2.1->google-auth<2,>=1.6.3->tensorboard~=2.4->tensorflow) (0.4.8)\n",
            "Requirement already satisfied: zipp>=0.5 in /usr/local/lib/python3.7/dist-packages (from importlib-metadata; python_version < \"3.8\"->markdown>=2.6.8->tensorboard~=2.4->tensorflow) (3.4.1)\n",
            "Requirement already satisfied: tensorflow_text in /usr/local/lib/python3.7/dist-packages (2.4.3)\n",
            "Requirement already satisfied: tensorflow-hub>=0.8.0 in /usr/local/lib/python3.7/dist-packages (from tensorflow_text) (0.11.0)\n",
            "Requirement already satisfied: tensorflow<2.5,>=2.4.0 in /usr/local/lib/python3.7/dist-packages (from tensorflow_text) (2.4.1)\n",
            "Requirement already satisfied: numpy>=1.12.0 in /usr/local/lib/python3.7/dist-packages (from tensorflow-hub>=0.8.0->tensorflow_text) (1.19.5)\n",
            "Requirement already satisfied: protobuf>=3.8.0 in /usr/local/lib/python3.7/dist-packages (from tensorflow-hub>=0.8.0->tensorflow_text) (3.12.4)\n",
            "Requirement already satisfied: termcolor~=1.1.0 in /usr/local/lib/python3.7/dist-packages (from tensorflow<2.5,>=2.4.0->tensorflow_text) (1.1.0)\n",
            "Requirement already satisfied: astunparse~=1.6.3 in /usr/local/lib/python3.7/dist-packages (from tensorflow<2.5,>=2.4.0->tensorflow_text) (1.6.3)\n",
            "Requirement already satisfied: flatbuffers~=1.12.0 in /usr/local/lib/python3.7/dist-packages (from tensorflow<2.5,>=2.4.0->tensorflow_text) (1.12)\n",
            "Requirement already satisfied: google-pasta~=0.2 in /usr/local/lib/python3.7/dist-packages (from tensorflow<2.5,>=2.4.0->tensorflow_text) (0.2.0)\n",
            "Requirement already satisfied: tensorflow-estimator<2.5.0,>=2.4.0 in /usr/local/lib/python3.7/dist-packages (from tensorflow<2.5,>=2.4.0->tensorflow_text) (2.4.0)\n",
            "Requirement already satisfied: keras-preprocessing~=1.1.2 in /usr/local/lib/python3.7/dist-packages (from tensorflow<2.5,>=2.4.0->tensorflow_text) (1.1.2)\n",
            "Requirement already satisfied: absl-py~=0.10 in /usr/local/lib/python3.7/dist-packages (from tensorflow<2.5,>=2.4.0->tensorflow_text) (0.12.0)\n",
            "Requirement already satisfied: six~=1.15.0 in /usr/local/lib/python3.7/dist-packages (from tensorflow<2.5,>=2.4.0->tensorflow_text) (1.15.0)\n",
            "Requirement already satisfied: typing-extensions~=3.7.4 in /usr/local/lib/python3.7/dist-packages (from tensorflow<2.5,>=2.4.0->tensorflow_text) (3.7.4.3)\n",
            "Requirement already satisfied: wheel~=0.35 in /usr/local/lib/python3.7/dist-packages (from tensorflow<2.5,>=2.4.0->tensorflow_text) (0.36.2)\n",
            "Requirement already satisfied: gast==0.3.3 in /usr/local/lib/python3.7/dist-packages (from tensorflow<2.5,>=2.4.0->tensorflow_text) (0.3.3)\n",
            "Requirement already satisfied: tensorboard~=2.4 in /usr/local/lib/python3.7/dist-packages (from tensorflow<2.5,>=2.4.0->tensorflow_text) (2.4.1)\n",
            "Requirement already satisfied: grpcio~=1.32.0 in /usr/local/lib/python3.7/dist-packages (from tensorflow<2.5,>=2.4.0->tensorflow_text) (1.32.0)\n",
            "Requirement already satisfied: wrapt~=1.12.1 in /usr/local/lib/python3.7/dist-packages (from tensorflow<2.5,>=2.4.0->tensorflow_text) (1.12.1)\n",
            "Requirement already satisfied: opt-einsum~=3.3.0 in /usr/local/lib/python3.7/dist-packages (from tensorflow<2.5,>=2.4.0->tensorflow_text) (3.3.0)\n",
            "Requirement already satisfied: h5py~=2.10.0 in /usr/local/lib/python3.7/dist-packages (from tensorflow<2.5,>=2.4.0->tensorflow_text) (2.10.0)\n",
            "Requirement already satisfied: setuptools in /usr/local/lib/python3.7/dist-packages (from protobuf>=3.8.0->tensorflow-hub>=0.8.0->tensorflow_text) (54.2.0)\n",
            "Requirement already satisfied: markdown>=2.6.8 in /usr/local/lib/python3.7/dist-packages (from tensorboard~=2.4->tensorflow<2.5,>=2.4.0->tensorflow_text) (3.3.4)\n",
            "Requirement already satisfied: werkzeug>=0.11.15 in /usr/local/lib/python3.7/dist-packages (from tensorboard~=2.4->tensorflow<2.5,>=2.4.0->tensorflow_text) (1.0.1)\n",
            "Requirement already satisfied: tensorboard-plugin-wit>=1.6.0 in /usr/local/lib/python3.7/dist-packages (from tensorboard~=2.4->tensorflow<2.5,>=2.4.0->tensorflow_text) (1.8.0)\n",
            "Requirement already satisfied: google-auth-oauthlib<0.5,>=0.4.1 in /usr/local/lib/python3.7/dist-packages (from tensorboard~=2.4->tensorflow<2.5,>=2.4.0->tensorflow_text) (0.4.3)\n",
            "Requirement already satisfied: google-auth<2,>=1.6.3 in /usr/local/lib/python3.7/dist-packages (from tensorboard~=2.4->tensorflow<2.5,>=2.4.0->tensorflow_text) (1.28.0)\n",
            "Requirement already satisfied: requests<3,>=2.21.0 in /usr/local/lib/python3.7/dist-packages (from tensorboard~=2.4->tensorflow<2.5,>=2.4.0->tensorflow_text) (2.23.0)\n",
            "Requirement already satisfied: importlib-metadata; python_version < \"3.8\" in /usr/local/lib/python3.7/dist-packages (from markdown>=2.6.8->tensorboard~=2.4->tensorflow<2.5,>=2.4.0->tensorflow_text) (3.8.1)\n",
            "Requirement already satisfied: requests-oauthlib>=0.7.0 in /usr/local/lib/python3.7/dist-packages (from google-auth-oauthlib<0.5,>=0.4.1->tensorboard~=2.4->tensorflow<2.5,>=2.4.0->tensorflow_text) (1.3.0)\n",
            "Requirement already satisfied: pyasn1-modules>=0.2.1 in /usr/local/lib/python3.7/dist-packages (from google-auth<2,>=1.6.3->tensorboard~=2.4->tensorflow<2.5,>=2.4.0->tensorflow_text) (0.2.8)\n",
            "Requirement already satisfied: rsa<5,>=3.1.4; python_version >= \"3.6\" in /usr/local/lib/python3.7/dist-packages (from google-auth<2,>=1.6.3->tensorboard~=2.4->tensorflow<2.5,>=2.4.0->tensorflow_text) (4.7.2)\n",
            "Requirement already satisfied: cachetools<5.0,>=2.0.0 in /usr/local/lib/python3.7/dist-packages (from google-auth<2,>=1.6.3->tensorboard~=2.4->tensorflow<2.5,>=2.4.0->tensorflow_text) (4.2.1)\n",
            "Requirement already satisfied: urllib3!=1.25.0,!=1.25.1,<1.26,>=1.21.1 in /usr/local/lib/python3.7/dist-packages (from requests<3,>=2.21.0->tensorboard~=2.4->tensorflow<2.5,>=2.4.0->tensorflow_text) (1.24.3)\n",
            "Requirement already satisfied: idna<3,>=2.5 in /usr/local/lib/python3.7/dist-packages (from requests<3,>=2.21.0->tensorboard~=2.4->tensorflow<2.5,>=2.4.0->tensorflow_text) (2.10)\n",
            "Requirement already satisfied: certifi>=2017.4.17 in /usr/local/lib/python3.7/dist-packages (from requests<3,>=2.21.0->tensorboard~=2.4->tensorflow<2.5,>=2.4.0->tensorflow_text) (2020.12.5)\n",
            "Requirement already satisfied: chardet<4,>=3.0.2 in /usr/local/lib/python3.7/dist-packages (from requests<3,>=2.21.0->tensorboard~=2.4->tensorflow<2.5,>=2.4.0->tensorflow_text) (3.0.4)\n",
            "Requirement already satisfied: zipp>=0.5 in /usr/local/lib/python3.7/dist-packages (from importlib-metadata; python_version < \"3.8\"->markdown>=2.6.8->tensorboard~=2.4->tensorflow<2.5,>=2.4.0->tensorflow_text) (3.4.1)\n",
            "Requirement already satisfied: oauthlib>=3.0.0 in /usr/local/lib/python3.7/dist-packages (from requests-oauthlib>=0.7.0->google-auth-oauthlib<0.5,>=0.4.1->tensorboard~=2.4->tensorflow<2.5,>=2.4.0->tensorflow_text) (3.1.0)\n",
            "Requirement already satisfied: pyasn1<0.5.0,>=0.4.6 in /usr/local/lib/python3.7/dist-packages (from pyasn1-modules>=0.2.1->google-auth<2,>=1.6.3->tensorboard~=2.4->tensorflow<2.5,>=2.4.0->tensorflow_text) (0.4.8)\n"
          ],
          "name": "stdout"
        }
      ]
    },
    {
      "cell_type": "code",
      "metadata": {
        "id": "Q6mo3SkQqlbs"
      },
      "source": [
        "import tensorflow as tf\n",
        "import tensorflow_text as text #텐서플로 토크나이져"
      ],
      "execution_count": null,
      "outputs": []
    },
    {
      "cell_type": "code",
      "metadata": {
        "colab": {
          "base_uri": "https://localhost:8080/"
        },
        "id": "AjrOjoM1z1wh",
        "outputId": "3685fc9d-7039-4f4c-c8cd-915b58aabdc4"
      },
      "source": [
        "tokenizer=text.WhitespaceTokenizer()\n",
        "tokens=tokenizer.tokenize(df1['highlights'][3])\n",
        "tokens"
      ],
      "execution_count": null,
      "outputs": [
        {
          "output_type": "stream",
          "text": [
            "WARNING:tensorflow:From /usr/local/lib/python3.7/dist-packages/tensorflow/python/util/dispatch.py:201: batch_gather (from tensorflow.python.ops.array_ops) is deprecated and will be removed after 2017-10-25.\n",
            "Instructions for updating:\n",
            "`tf.batch_gather` is deprecated, please use `tf.gather` with `batch_dims=-1` instead.\n"
          ],
          "name": "stdout"
        },
        {
          "output_type": "execute_result",
          "data": {
            "text/plain": [
              "<tf.Tensor: shape=(53,), dtype=string, numpy=\n",
              "array([b'NEW:', b'A', b'Canadian', b'doctor', b'says', b'she', b'was',\n",
              "       b'part', b'of', b'a', b'team', b'examining', b'Harry', b'Burkhart',\n",
              "       b'in', b'2010', b'.', b'NEW:', b'Diagnosis:', b'\"autism,',\n",
              "       b'severe', b'anxiety,', b'post-traumatic', b'stress', b'disorder',\n",
              "       b'and', b'depression\"', b'Burkhart', b'is', b'also', b'suspected',\n",
              "       b'in', b'a', b'German', b'arson', b'probe,', b'officials', b'say',\n",
              "       b'.', b'Prosecutors', b'believe', b'the', b'German', b'national',\n",
              "       b'set', b'a', b'string', b'of', b'fires', b'in', b'Los',\n",
              "       b'Angeles', b'.'], dtype=object)>"
            ]
          },
          "metadata": {
            "tags": []
          },
          "execution_count": 46
        }
      ]
    },
    {
      "cell_type": "code",
      "metadata": {
        "id": "u_kRsRL602C_"
      },
      "source": [
        ""
      ],
      "execution_count": null,
      "outputs": []
    }
  ]
}